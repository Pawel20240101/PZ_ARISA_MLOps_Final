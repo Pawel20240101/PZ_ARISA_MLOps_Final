{
 "cells": [
  {
   "cell_type": "markdown",
   "id": "84407b9c",
   "metadata": {},
   "source": [
    "Data set from Kaggle: \n",
    "\n",
    "https://www.kaggle.com/datasets/kamilpytlak/personal-key-indicators-of-heart-disease"
   ]
  },
  {
   "cell_type": "code",
   "execution_count": 1,
   "id": "d49ecc06",
   "metadata": {},
   "outputs": [
    {
     "name": "stdout",
     "output_type": "stream",
     "text": [
      "Collecting catboost\n",
      "  Using cached catboost-1.2.8-cp311-cp311-manylinux2014_x86_64.whl.metadata (1.2 kB)\n",
      "Collecting matplotlib\n",
      "  Using cached matplotlib-3.10.6-cp311-cp311-manylinux2014_x86_64.manylinux_2_17_x86_64.whl.metadata (11 kB)\n",
      "Collecting pandas\n",
      "  Using cached pandas-2.3.2-cp311-cp311-manylinux_2_17_x86_64.manylinux2014_x86_64.whl.metadata (91 kB)\n",
      "Collecting scikit-learn\n",
      "  Using cached scikit_learn-1.7.2-cp311-cp311-manylinux2014_x86_64.manylinux_2_17_x86_64.whl.metadata (11 kB)\n",
      "Collecting kaggle\n",
      "  Using cached kaggle-1.7.4.5-py3-none-any.whl.metadata (16 kB)\n",
      "Collecting optuna\n",
      "  Using cached optuna-4.5.0-py3-none-any.whl.metadata (17 kB)\n",
      "Collecting ipywidgets\n",
      "  Using cached ipywidgets-8.1.7-py3-none-any.whl.metadata (2.4 kB)\n",
      "Collecting shap\n",
      "  Using cached shap-0.48.0-cp311-cp311-manylinux_2_17_x86_64.manylinux2014_x86_64.whl.metadata (25 kB)\n",
      "Collecting jupyterlab-rise\n",
      "  Using cached jupyterlab_rise-0.43.1-py3-none-any.whl.metadata (7.4 kB)\n",
      "Collecting graphviz (from catboost)\n",
      "  Using cached graphviz-0.21-py3-none-any.whl.metadata (12 kB)\n",
      "Collecting numpy<3.0,>=1.16.0 (from catboost)\n",
      "  Using cached numpy-2.3.3-cp311-cp311-manylinux_2_27_x86_64.manylinux_2_28_x86_64.whl.metadata (62 kB)\n",
      "Collecting scipy (from catboost)\n",
      "  Using cached scipy-1.16.2-cp311-cp311-manylinux2014_x86_64.manylinux_2_17_x86_64.whl.metadata (62 kB)\n",
      "Collecting plotly (from catboost)\n",
      "  Using cached plotly-6.3.0-py3-none-any.whl.metadata (8.5 kB)\n",
      "Requirement already satisfied: six in ./venv/lib/python3.11/site-packages (from catboost) (1.17.0)\n",
      "Collecting contourpy>=1.0.1 (from matplotlib)\n",
      "  Using cached contourpy-1.3.3-cp311-cp311-manylinux_2_27_x86_64.manylinux_2_28_x86_64.whl.metadata (5.5 kB)\n",
      "Collecting cycler>=0.10 (from matplotlib)\n",
      "  Using cached cycler-0.12.1-py3-none-any.whl.metadata (3.8 kB)\n",
      "Collecting fonttools>=4.22.0 (from matplotlib)\n",
      "  Using cached fonttools-4.60.0-cp311-cp311-manylinux2014_x86_64.manylinux_2_17_x86_64.whl.metadata (111 kB)\n",
      "Collecting kiwisolver>=1.3.1 (from matplotlib)\n",
      "  Using cached kiwisolver-1.4.9-cp311-cp311-manylinux2014_x86_64.manylinux_2_17_x86_64.whl.metadata (6.3 kB)\n",
      "Requirement already satisfied: packaging>=20.0 in ./venv/lib/python3.11/site-packages (from matplotlib) (25.0)\n",
      "Collecting pillow>=8 (from matplotlib)\n",
      "  Using cached pillow-11.3.0-cp311-cp311-manylinux_2_27_x86_64.manylinux_2_28_x86_64.whl.metadata (9.0 kB)\n",
      "Requirement already satisfied: pyparsing>=2.3.1 in ./venv/lib/python3.11/site-packages (from matplotlib) (3.2.5)\n",
      "Requirement already satisfied: python-dateutil>=2.7 in ./venv/lib/python3.11/site-packages (from matplotlib) (2.9.0.post0)\n",
      "Requirement already satisfied: pytz>=2020.1 in ./venv/lib/python3.11/site-packages (from pandas) (2025.2)\n",
      "Requirement already satisfied: tzdata>=2022.7 in ./venv/lib/python3.11/site-packages (from pandas) (2025.2)\n",
      "Collecting joblib>=1.2.0 (from scikit-learn)\n",
      "  Using cached joblib-1.5.2-py3-none-any.whl.metadata (5.6 kB)\n",
      "Requirement already satisfied: threadpoolctl>=3.1.0 in ./venv/lib/python3.11/site-packages (from scikit-learn) (3.6.0)\n",
      "Collecting bleach (from kaggle)\n",
      "  Using cached bleach-6.2.0-py3-none-any.whl.metadata (30 kB)\n",
      "Collecting certifi>=14.05.14 (from kaggle)\n",
      "  Using cached certifi-2025.8.3-py3-none-any.whl.metadata (2.4 kB)\n",
      "Collecting charset-normalizer (from kaggle)\n",
      "  Using cached charset_normalizer-3.4.3-cp311-cp311-manylinux2014_x86_64.manylinux_2_17_x86_64.manylinux_2_28_x86_64.whl.metadata (36 kB)\n",
      "Collecting idna (from kaggle)\n",
      "  Using cached idna-3.10-py3-none-any.whl.metadata (10 kB)\n",
      "Collecting protobuf (from kaggle)\n",
      "  Using cached protobuf-6.32.1-cp39-abi3-manylinux2014_x86_64.whl.metadata (593 bytes)\n",
      "Requirement already satisfied: python-slugify in ./venv/lib/python3.11/site-packages (from kaggle) (8.0.4)\n",
      "Collecting requests (from kaggle)\n",
      "  Using cached requests-2.32.5-py3-none-any.whl.metadata (4.9 kB)\n",
      "Requirement already satisfied: setuptools>=21.0.0 in ./venv/lib/python3.11/site-packages (from kaggle) (65.5.1)\n",
      "Requirement already satisfied: text-unidecode in ./venv/lib/python3.11/site-packages (from kaggle) (1.3)\n",
      "Requirement already satisfied: tqdm in ./venv/lib/python3.11/site-packages (from kaggle) (4.67.1)\n",
      "Requirement already satisfied: urllib3>=1.15.1 in ./venv/lib/python3.11/site-packages (from kaggle) (2.5.0)\n",
      "Requirement already satisfied: webencodings in ./venv/lib/python3.11/site-packages (from kaggle) (0.5.1)\n",
      "Collecting alembic>=1.5.0 (from optuna)\n",
      "  Using cached alembic-1.16.5-py3-none-any.whl.metadata (7.3 kB)\n",
      "Collecting colorlog (from optuna)\n",
      "  Using cached colorlog-6.9.0-py3-none-any.whl.metadata (10 kB)\n",
      "Collecting sqlalchemy>=1.4.2 (from optuna)\n",
      "  Using cached sqlalchemy-2.0.43-cp311-cp311-manylinux_2_17_x86_64.manylinux2014_x86_64.whl.metadata (9.6 kB)\n",
      "Requirement already satisfied: PyYAML in ./venv/lib/python3.11/site-packages (from optuna) (6.0.2)\n",
      "Requirement already satisfied: comm>=0.1.3 in ./venv/lib/python3.11/site-packages (from ipywidgets) (0.2.3)\n",
      "Requirement already satisfied: ipython>=6.1.0 in ./venv/lib/python3.11/site-packages (from ipywidgets) (9.5.0)\n",
      "Requirement already satisfied: traitlets>=4.3.1 in ./venv/lib/python3.11/site-packages (from ipywidgets) (5.14.3)\n",
      "Requirement already satisfied: widgetsnbextension~=4.0.14 in ./venv/lib/python3.11/site-packages (from ipywidgets) (4.0.14)\n",
      "Collecting jupyterlab_widgets~=3.0.15 (from ipywidgets)\n",
      "  Using cached jupyterlab_widgets-3.0.15-py3-none-any.whl.metadata (20 kB)\n",
      "Requirement already satisfied: slicer==0.0.8 in ./venv/lib/python3.11/site-packages (from shap) (0.0.8)\n",
      "Collecting numba>=0.54 (from shap)\n",
      "  Using cached numba-0.62.0-cp311-cp311-manylinux2014_x86_64.manylinux_2_17_x86_64.whl.metadata (2.8 kB)\n",
      "Collecting cloudpickle (from shap)\n",
      "  Using cached cloudpickle-3.1.1-py3-none-any.whl.metadata (7.1 kB)\n",
      "Requirement already satisfied: typing-extensions in ./venv/lib/python3.11/site-packages (from shap) (4.15.0)\n",
      "Collecting jupyter-server<3,>=2.0.1 (from jupyterlab-rise)\n",
      "  Using cached jupyter_server-2.17.0-py3-none-any.whl.metadata (8.5 kB)\n",
      "Collecting jupyterlab-mathjax3 (from jupyterlab-rise)\n",
      "  Using cached jupyterlab_mathjax3-4.3.0-py3-none-any.whl.metadata (2.8 kB)\n",
      "Collecting jupyterlab<5,>=4.1.0 (from jupyterlab-rise)\n",
      "  Using cached jupyterlab-4.4.7-py3-none-any.whl.metadata (16 kB)\n",
      "Collecting Mako (from alembic>=1.5.0->optuna)\n",
      "  Using cached mako-1.3.10-py3-none-any.whl.metadata (2.9 kB)\n",
      "Requirement already satisfied: decorator in ./venv/lib/python3.11/site-packages (from ipython>=6.1.0->ipywidgets) (5.2.1)\n",
      "Requirement already satisfied: ipython-pygments-lexers in ./venv/lib/python3.11/site-packages (from ipython>=6.1.0->ipywidgets) (1.1.1)\n",
      "Requirement already satisfied: jedi>=0.16 in ./venv/lib/python3.11/site-packages (from ipython>=6.1.0->ipywidgets) (0.19.2)\n",
      "Requirement already satisfied: matplotlib-inline in ./venv/lib/python3.11/site-packages (from ipython>=6.1.0->ipywidgets) (0.1.7)\n",
      "Requirement already satisfied: pexpect>4.3 in ./venv/lib/python3.11/site-packages (from ipython>=6.1.0->ipywidgets) (4.9.0)\n",
      "Requirement already satisfied: prompt_toolkit<3.1.0,>=3.0.41 in ./venv/lib/python3.11/site-packages (from ipython>=6.1.0->ipywidgets) (3.0.52)\n",
      "Requirement already satisfied: pygments>=2.4.0 in ./venv/lib/python3.11/site-packages (from ipython>=6.1.0->ipywidgets) (2.19.2)\n",
      "Requirement already satisfied: stack_data in ./venv/lib/python3.11/site-packages (from ipython>=6.1.0->ipywidgets) (0.6.3)\n",
      "Collecting anyio>=3.1.0 (from jupyter-server<3,>=2.0.1->jupyterlab-rise)\n",
      "  Using cached anyio-4.11.0-py3-none-any.whl.metadata (4.1 kB)\n",
      "Collecting argon2-cffi>=21.1 (from jupyter-server<3,>=2.0.1->jupyterlab-rise)\n",
      "  Using cached argon2_cffi-25.1.0-py3-none-any.whl.metadata (4.1 kB)\n",
      "Collecting jinja2>=3.0.3 (from jupyter-server<3,>=2.0.1->jupyterlab-rise)\n",
      "  Using cached jinja2-3.1.6-py3-none-any.whl.metadata (2.9 kB)\n",
      "Requirement already satisfied: jupyter-client>=7.4.4 in ./venv/lib/python3.11/site-packages (from jupyter-server<3,>=2.0.1->jupyterlab-rise) (8.6.3)\n",
      "Requirement already satisfied: jupyter-core!=5.0.*,>=4.12 in ./venv/lib/python3.11/site-packages (from jupyter-server<3,>=2.0.1->jupyterlab-rise) (5.8.1)\n",
      "Collecting jupyter-events>=0.11.0 (from jupyter-server<3,>=2.0.1->jupyterlab-rise)\n",
      "  Using cached jupyter_events-0.12.0-py3-none-any.whl.metadata (5.8 kB)\n",
      "Collecting jupyter-server-terminals>=0.4.4 (from jupyter-server<3,>=2.0.1->jupyterlab-rise)\n",
      "  Using cached jupyter_server_terminals-0.5.3-py3-none-any.whl.metadata (5.6 kB)\n",
      "Collecting nbconvert>=6.4.4 (from jupyter-server<3,>=2.0.1->jupyterlab-rise)\n",
      "  Using cached nbconvert-7.16.6-py3-none-any.whl.metadata (8.5 kB)\n",
      "Collecting nbformat>=5.3.0 (from jupyter-server<3,>=2.0.1->jupyterlab-rise)\n",
      "  Using cached nbformat-5.10.4-py3-none-any.whl.metadata (3.6 kB)\n",
      "Collecting overrides>=5.0 (from jupyter-server<3,>=2.0.1->jupyterlab-rise)\n",
      "  Using cached overrides-7.7.0-py3-none-any.whl.metadata (5.8 kB)\n",
      "Collecting prometheus-client>=0.9 (from jupyter-server<3,>=2.0.1->jupyterlab-rise)\n",
      "  Using cached prometheus_client-0.23.1-py3-none-any.whl.metadata (1.9 kB)\n",
      "Requirement already satisfied: pyzmq>=24 in ./venv/lib/python3.11/site-packages (from jupyter-server<3,>=2.0.1->jupyterlab-rise) (27.1.0)\n",
      "Requirement already satisfied: send2trash>=1.8.2 in ./venv/lib/python3.11/site-packages (from jupyter-server<3,>=2.0.1->jupyterlab-rise) (1.8.3)\n",
      "Collecting terminado>=0.8.3 (from jupyter-server<3,>=2.0.1->jupyterlab-rise)\n",
      "  Using cached terminado-0.18.1-py3-none-any.whl.metadata (5.8 kB)\n",
      "Requirement already satisfied: tornado>=6.2.0 in ./venv/lib/python3.11/site-packages (from jupyter-server<3,>=2.0.1->jupyterlab-rise) (6.5.2)\n",
      "Requirement already satisfied: websocket-client>=1.7 in ./venv/lib/python3.11/site-packages (from jupyter-server<3,>=2.0.1->jupyterlab-rise) (1.8.0)\n",
      "Collecting async-lru>=1.0.0 (from jupyterlab<5,>=4.1.0->jupyterlab-rise)\n",
      "  Using cached async_lru-2.0.5-py3-none-any.whl.metadata (4.5 kB)\n",
      "Collecting httpx<1,>=0.25.0 (from jupyterlab<5,>=4.1.0->jupyterlab-rise)\n",
      "  Using cached httpx-0.28.1-py3-none-any.whl.metadata (7.1 kB)\n",
      "Requirement already satisfied: ipykernel!=6.30.0,>=6.5.0 in ./venv/lib/python3.11/site-packages (from jupyterlab<5,>=4.1.0->jupyterlab-rise) (6.30.1)\n",
      "Collecting jupyter-lsp>=2.0.0 (from jupyterlab<5,>=4.1.0->jupyterlab-rise)\n",
      "  Using cached jupyter_lsp-2.3.0-py3-none-any.whl.metadata (1.8 kB)\n",
      "Collecting jupyterlab-server<3,>=2.27.1 (from jupyterlab<5,>=4.1.0->jupyterlab-rise)\n",
      "  Using cached jupyterlab_server-2.27.3-py3-none-any.whl.metadata (5.9 kB)\n",
      "Collecting notebook-shim>=0.2 (from jupyterlab<5,>=4.1.0->jupyterlab-rise)\n",
      "  Using cached notebook_shim-0.2.4-py3-none-any.whl.metadata (4.0 kB)\n",
      "Collecting llvmlite<0.46,>=0.45.0dev0 (from numba>=0.54->shap)\n",
      "  Using cached llvmlite-0.45.0-cp311-cp311-manylinux2014_x86_64.manylinux_2_17_x86_64.whl.metadata (4.9 kB)\n",
      "Collecting greenlet>=1 (from sqlalchemy>=1.4.2->optuna)\n",
      "  Using cached greenlet-3.2.4-cp311-cp311-manylinux_2_24_x86_64.manylinux_2_28_x86_64.whl.metadata (4.1 kB)\n",
      "Collecting narwhals>=1.15.1 (from plotly->catboost)\n",
      "  Using cached narwhals-2.5.0-py3-none-any.whl.metadata (11 kB)\n",
      "Requirement already satisfied: sniffio>=1.1 in ./venv/lib/python3.11/site-packages (from anyio>=3.1.0->jupyter-server<3,>=2.0.1->jupyterlab-rise) (1.3.1)\n",
      "Collecting argon2-cffi-bindings (from argon2-cffi>=21.1->jupyter-server<3,>=2.0.1->jupyterlab-rise)\n",
      "  Using cached argon2_cffi_bindings-25.1.0-cp39-abi3-manylinux_2_26_x86_64.manylinux_2_28_x86_64.whl.metadata (7.4 kB)\n",
      "Collecting httpcore==1.* (from httpx<1,>=0.25.0->jupyterlab<5,>=4.1.0->jupyterlab-rise)\n",
      "  Using cached httpcore-1.0.9-py3-none-any.whl.metadata (21 kB)\n",
      "Collecting h11>=0.16 (from httpcore==1.*->httpx<1,>=0.25.0->jupyterlab<5,>=4.1.0->jupyterlab-rise)\n",
      "  Using cached h11-0.16.0-py3-none-any.whl.metadata (8.3 kB)\n",
      "Requirement already satisfied: debugpy>=1.6.5 in ./venv/lib/python3.11/site-packages (from ipykernel!=6.30.0,>=6.5.0->jupyterlab<5,>=4.1.0->jupyterlab-rise) (1.8.17)\n",
      "Requirement already satisfied: nest-asyncio>=1.4 in ./venv/lib/python3.11/site-packages (from ipykernel!=6.30.0,>=6.5.0->jupyterlab<5,>=4.1.0->jupyterlab-rise) (1.6.0)\n",
      "Requirement already satisfied: psutil>=5.7 in ./venv/lib/python3.11/site-packages (from ipykernel!=6.30.0,>=6.5.0->jupyterlab<5,>=4.1.0->jupyterlab-rise) (7.1.0)\n",
      "Requirement already satisfied: parso<0.9.0,>=0.8.4 in ./venv/lib/python3.11/site-packages (from jedi>=0.16->ipython>=6.1.0->ipywidgets) (0.8.5)\n",
      "Collecting MarkupSafe>=2.0 (from jinja2>=3.0.3->jupyter-server<3,>=2.0.1->jupyterlab-rise)\n",
      "  Using cached MarkupSafe-3.0.2-cp311-cp311-manylinux_2_17_x86_64.manylinux2014_x86_64.whl.metadata (4.0 kB)\n",
      "Requirement already satisfied: platformdirs>=2.5 in ./venv/lib/python3.11/site-packages (from jupyter-core!=5.0.*,>=4.12->jupyter-server<3,>=2.0.1->jupyterlab-rise) (4.4.0)\n",
      "Collecting jsonschema>=4.18.0 (from jsonschema[format-nongpl]>=4.18.0->jupyter-events>=0.11.0->jupyter-server<3,>=2.0.1->jupyterlab-rise)\n",
      "  Using cached jsonschema-4.25.1-py3-none-any.whl.metadata (7.6 kB)\n",
      "Requirement already satisfied: python-json-logger>=2.0.4 in ./venv/lib/python3.11/site-packages (from jupyter-events>=0.11.0->jupyter-server<3,>=2.0.1->jupyterlab-rise) (3.3.0)\n",
      "Collecting referencing (from jupyter-events>=0.11.0->jupyter-server<3,>=2.0.1->jupyterlab-rise)\n",
      "  Using cached referencing-0.36.2-py3-none-any.whl.metadata (2.8 kB)\n",
      "Collecting rfc3339-validator (from jupyter-events>=0.11.0->jupyter-server<3,>=2.0.1->jupyterlab-rise)\n",
      "  Using cached rfc3339_validator-0.1.4-py2.py3-none-any.whl.metadata (1.5 kB)\n",
      "Requirement already satisfied: rfc3986-validator>=0.1.1 in ./venv/lib/python3.11/site-packages (from jupyter-events>=0.11.0->jupyter-server<3,>=2.0.1->jupyterlab-rise) (0.1.1)\n",
      "Collecting babel>=2.10 (from jupyterlab-server<3,>=2.27.1->jupyterlab<5,>=4.1.0->jupyterlab-rise)\n",
      "  Using cached babel-2.17.0-py3-none-any.whl.metadata (2.0 kB)\n",
      "Collecting json5>=0.9.0 (from jupyterlab-server<3,>=2.27.1->jupyterlab<5,>=4.1.0->jupyterlab-rise)\n",
      "  Using cached json5-0.12.1-py3-none-any.whl.metadata (36 kB)\n",
      "Collecting beautifulsoup4 (from nbconvert>=6.4.4->jupyter-server<3,>=2.0.1->jupyterlab-rise)\n",
      "  Using cached beautifulsoup4-4.13.5-py3-none-any.whl.metadata (3.8 kB)\n",
      "Collecting defusedxml (from nbconvert>=6.4.4->jupyter-server<3,>=2.0.1->jupyterlab-rise)\n",
      "  Using cached defusedxml-0.7.1-py2.py3-none-any.whl.metadata (32 kB)\n",
      "Collecting jupyterlab-pygments (from nbconvert>=6.4.4->jupyter-server<3,>=2.0.1->jupyterlab-rise)\n",
      "  Using cached jupyterlab_pygments-0.3.0-py3-none-any.whl.metadata (4.4 kB)\n",
      "Collecting mistune<4,>=2.0.3 (from nbconvert>=6.4.4->jupyter-server<3,>=2.0.1->jupyterlab-rise)\n",
      "  Using cached mistune-3.1.4-py3-none-any.whl.metadata (1.8 kB)\n",
      "Collecting nbclient>=0.5.0 (from nbconvert>=6.4.4->jupyter-server<3,>=2.0.1->jupyterlab-rise)\n",
      "  Using cached nbclient-0.10.2-py3-none-any.whl.metadata (8.3 kB)\n",
      "Collecting pandocfilters>=1.4.1 (from nbconvert>=6.4.4->jupyter-server<3,>=2.0.1->jupyterlab-rise)\n",
      "  Using cached pandocfilters-1.5.1-py2.py3-none-any.whl.metadata (9.0 kB)\n",
      "Requirement already satisfied: fastjsonschema>=2.15 in ./venv/lib/python3.11/site-packages (from nbformat>=5.3.0->jupyter-server<3,>=2.0.1->jupyterlab-rise) (2.21.2)\n",
      "Requirement already satisfied: ptyprocess>=0.5 in ./venv/lib/python3.11/site-packages (from pexpect>4.3->ipython>=6.1.0->ipywidgets) (0.7.0)\n",
      "Requirement already satisfied: wcwidth in ./venv/lib/python3.11/site-packages (from prompt_toolkit<3.1.0,>=3.0.41->ipython>=6.1.0->ipywidgets) (0.2.14)\n",
      "Requirement already satisfied: executing>=1.2.0 in ./venv/lib/python3.11/site-packages (from stack_data->ipython>=6.1.0->ipywidgets) (2.2.1)\n",
      "Requirement already satisfied: asttokens>=2.1.0 in ./venv/lib/python3.11/site-packages (from stack_data->ipython>=6.1.0->ipywidgets) (3.0.0)\n",
      "Requirement already satisfied: pure-eval in ./venv/lib/python3.11/site-packages (from stack_data->ipython>=6.1.0->ipywidgets) (0.2.3)\n",
      "Requirement already satisfied: tinycss2<1.5,>=1.1.0 in ./venv/lib/python3.11/site-packages (from bleach[css]!=5.0.0->nbconvert>=6.4.4->jupyter-server<3,>=2.0.1->jupyterlab-rise) (1.4.0)\n",
      "Collecting attrs>=22.2.0 (from jsonschema>=4.18.0->jsonschema[format-nongpl]>=4.18.0->jupyter-events>=0.11.0->jupyter-server<3,>=2.0.1->jupyterlab-rise)\n",
      "  Using cached attrs-25.3.0-py3-none-any.whl.metadata (10 kB)\n",
      "Collecting jsonschema-specifications>=2023.03.6 (from jsonschema>=4.18.0->jsonschema[format-nongpl]>=4.18.0->jupyter-events>=0.11.0->jupyter-server<3,>=2.0.1->jupyterlab-rise)\n",
      "  Using cached jsonschema_specifications-2025.9.1-py3-none-any.whl.metadata (2.9 kB)\n",
      "Requirement already satisfied: rpds-py>=0.7.1 in ./venv/lib/python3.11/site-packages (from jsonschema>=4.18.0->jsonschema[format-nongpl]>=4.18.0->jupyter-events>=0.11.0->jupyter-server<3,>=2.0.1->jupyterlab-rise) (0.27.1)\n",
      "Collecting fqdn (from jsonschema[format-nongpl]>=4.18.0->jupyter-events>=0.11.0->jupyter-server<3,>=2.0.1->jupyterlab-rise)\n",
      "  Using cached fqdn-1.5.1-py3-none-any.whl.metadata (1.4 kB)\n",
      "Collecting isoduration (from jsonschema[format-nongpl]>=4.18.0->jupyter-events>=0.11.0->jupyter-server<3,>=2.0.1->jupyterlab-rise)\n",
      "  Using cached isoduration-20.11.0-py3-none-any.whl.metadata (5.7 kB)\n",
      "Collecting jsonpointer>1.13 (from jsonschema[format-nongpl]>=4.18.0->jupyter-events>=0.11.0->jupyter-server<3,>=2.0.1->jupyterlab-rise)\n",
      "  Using cached jsonpointer-3.0.0-py2.py3-none-any.whl.metadata (2.3 kB)\n",
      "Collecting rfc3987-syntax>=1.1.0 (from jsonschema[format-nongpl]>=4.18.0->jupyter-events>=0.11.0->jupyter-server<3,>=2.0.1->jupyterlab-rise)\n",
      "  Using cached rfc3987_syntax-1.1.0-py3-none-any.whl.metadata (7.7 kB)\n",
      "Requirement already satisfied: uri-template in ./venv/lib/python3.11/site-packages (from jsonschema[format-nongpl]>=4.18.0->jupyter-events>=0.11.0->jupyter-server<3,>=2.0.1->jupyterlab-rise) (1.3.0)\n",
      "Requirement already satisfied: webcolors>=24.6.0 in ./venv/lib/python3.11/site-packages (from jsonschema[format-nongpl]>=4.18.0->jupyter-events>=0.11.0->jupyter-server<3,>=2.0.1->jupyterlab-rise) (24.11.1)\n",
      "Collecting cffi>=1.0.1 (from argon2-cffi-bindings->argon2-cffi>=21.1->jupyter-server<3,>=2.0.1->jupyterlab-rise)\n",
      "  Using cached cffi-2.0.0-cp311-cp311-manylinux2014_x86_64.manylinux_2_17_x86_64.whl.metadata (2.6 kB)\n",
      "Requirement already satisfied: soupsieve>1.2 in ./venv/lib/python3.11/site-packages (from beautifulsoup4->nbconvert>=6.4.4->jupyter-server<3,>=2.0.1->jupyterlab-rise) (2.8)\n",
      "Requirement already satisfied: pycparser in ./venv/lib/python3.11/site-packages (from cffi>=1.0.1->argon2-cffi-bindings->argon2-cffi>=21.1->jupyter-server<3,>=2.0.1->jupyterlab-rise) (2.23)\n",
      "Collecting lark>=1.2.2 (from rfc3987-syntax>=1.1.0->jsonschema[format-nongpl]>=4.18.0->jupyter-events>=0.11.0->jupyter-server<3,>=2.0.1->jupyterlab-rise)\n",
      "  Using cached lark-1.3.0-py3-none-any.whl.metadata (1.8 kB)\n",
      "Collecting arrow>=0.15.0 (from isoduration->jsonschema[format-nongpl]>=4.18.0->jupyter-events>=0.11.0->jupyter-server<3,>=2.0.1->jupyterlab-rise)\n",
      "  Using cached arrow-1.3.0-py3-none-any.whl.metadata (7.5 kB)\n",
      "Requirement already satisfied: types-python-dateutil>=2.8.10 in ./venv/lib/python3.11/site-packages (from arrow>=0.15.0->isoduration->jsonschema[format-nongpl]>=4.18.0->jupyter-events>=0.11.0->jupyter-server<3,>=2.0.1->jupyterlab-rise) (2.9.0.20250822)\n",
      "Using cached catboost-1.2.8-cp311-cp311-manylinux2014_x86_64.whl (99.2 MB)\n",
      "Using cached matplotlib-3.10.6-cp311-cp311-manylinux2014_x86_64.manylinux_2_17_x86_64.whl (8.7 MB)\n",
      "Using cached pandas-2.3.2-cp311-cp311-manylinux_2_17_x86_64.manylinux2014_x86_64.whl (12.4 MB)\n",
      "Using cached scikit_learn-1.7.2-cp311-cp311-manylinux2014_x86_64.manylinux_2_17_x86_64.whl (9.7 MB)\n",
      "Using cached kaggle-1.7.4.5-py3-none-any.whl (181 kB)\n",
      "Using cached optuna-4.5.0-py3-none-any.whl (400 kB)\n",
      "Using cached ipywidgets-8.1.7-py3-none-any.whl (139 kB)\n",
      "Using cached shap-0.48.0-cp311-cp311-manylinux_2_17_x86_64.manylinux2014_x86_64.whl (1.0 MB)\n",
      "Using cached jupyterlab_rise-0.43.1-py3-none-any.whl (16.4 MB)\n",
      "Using cached alembic-1.16.5-py3-none-any.whl (247 kB)\n",
      "Using cached certifi-2025.8.3-py3-none-any.whl (161 kB)\n",
      "Using cached contourpy-1.3.3-cp311-cp311-manylinux_2_27_x86_64.manylinux_2_28_x86_64.whl (355 kB)\n",
      "Using cached cycler-0.12.1-py3-none-any.whl (8.3 kB)\n",
      "Using cached fonttools-4.60.0-cp311-cp311-manylinux2014_x86_64.manylinux_2_17_x86_64.whl (5.0 MB)\n",
      "Using cached joblib-1.5.2-py3-none-any.whl (308 kB)\n",
      "Using cached jupyter_server-2.17.0-py3-none-any.whl (388 kB)\n",
      "Using cached jupyterlab-4.4.7-py3-none-any.whl (12.3 MB)\n",
      "Using cached jupyterlab_widgets-3.0.15-py3-none-any.whl (216 kB)\n",
      "Using cached kiwisolver-1.4.9-cp311-cp311-manylinux2014_x86_64.manylinux_2_17_x86_64.whl (1.4 MB)\n",
      "Using cached numba-0.62.0-cp311-cp311-manylinux2014_x86_64.manylinux_2_17_x86_64.whl (3.5 MB)\n",
      "Using cached numpy-2.3.3-cp311-cp311-manylinux_2_27_x86_64.manylinux_2_28_x86_64.whl (16.9 MB)\n",
      "Using cached pillow-11.3.0-cp311-cp311-manylinux_2_27_x86_64.manylinux_2_28_x86_64.whl (6.6 MB)\n",
      "Using cached scipy-1.16.2-cp311-cp311-manylinux2014_x86_64.manylinux_2_17_x86_64.whl (35.9 MB)\n",
      "Using cached sqlalchemy-2.0.43-cp311-cp311-manylinux_2_17_x86_64.manylinux2014_x86_64.whl (3.3 MB)\n",
      "Using cached bleach-6.2.0-py3-none-any.whl (163 kB)\n",
      "Using cached charset_normalizer-3.4.3-cp311-cp311-manylinux2014_x86_64.manylinux_2_17_x86_64.manylinux_2_28_x86_64.whl (150 kB)\n",
      "Using cached cloudpickle-3.1.1-py3-none-any.whl (20 kB)\n",
      "Using cached colorlog-6.9.0-py3-none-any.whl (11 kB)\n",
      "Using cached graphviz-0.21-py3-none-any.whl (47 kB)\n",
      "Using cached idna-3.10-py3-none-any.whl (70 kB)\n",
      "Using cached jupyterlab_mathjax3-4.3.0-py3-none-any.whl (1.1 MB)\n",
      "Using cached plotly-6.3.0-py3-none-any.whl (9.8 MB)\n",
      "Using cached protobuf-6.32.1-cp39-abi3-manylinux2014_x86_64.whl (322 kB)\n",
      "Using cached requests-2.32.5-py3-none-any.whl (64 kB)\n",
      "Using cached anyio-4.11.0-py3-none-any.whl (109 kB)\n",
      "Using cached argon2_cffi-25.1.0-py3-none-any.whl (14 kB)\n",
      "Using cached async_lru-2.0.5-py3-none-any.whl (6.1 kB)\n",
      "Using cached greenlet-3.2.4-cp311-cp311-manylinux_2_24_x86_64.manylinux_2_28_x86_64.whl (587 kB)\n",
      "Using cached httpx-0.28.1-py3-none-any.whl (73 kB)\n",
      "Using cached httpcore-1.0.9-py3-none-any.whl (78 kB)\n",
      "Using cached jinja2-3.1.6-py3-none-any.whl (134 kB)\n",
      "Using cached jupyter_events-0.12.0-py3-none-any.whl (19 kB)\n",
      "Using cached jupyter_lsp-2.3.0-py3-none-any.whl (76 kB)\n",
      "Using cached jupyter_server_terminals-0.5.3-py3-none-any.whl (13 kB)\n",
      "Using cached jupyterlab_server-2.27.3-py3-none-any.whl (59 kB)\n",
      "Using cached llvmlite-0.45.0-cp311-cp311-manylinux2014_x86_64.manylinux_2_17_x86_64.whl (56.3 MB)\n",
      "Using cached narwhals-2.5.0-py3-none-any.whl (407 kB)\n",
      "Using cached nbconvert-7.16.6-py3-none-any.whl (258 kB)\n",
      "Using cached nbformat-5.10.4-py3-none-any.whl (78 kB)\n",
      "Using cached notebook_shim-0.2.4-py3-none-any.whl (13 kB)\n",
      "Using cached overrides-7.7.0-py3-none-any.whl (17 kB)\n",
      "Using cached prometheus_client-0.23.1-py3-none-any.whl (61 kB)\n",
      "Using cached terminado-0.18.1-py3-none-any.whl (14 kB)\n",
      "Using cached mako-1.3.10-py3-none-any.whl (78 kB)\n",
      "Using cached babel-2.17.0-py3-none-any.whl (10.2 MB)\n",
      "Using cached json5-0.12.1-py3-none-any.whl (36 kB)\n",
      "Using cached jsonschema-4.25.1-py3-none-any.whl (90 kB)\n",
      "Using cached MarkupSafe-3.0.2-cp311-cp311-manylinux_2_17_x86_64.manylinux2014_x86_64.whl (23 kB)\n",
      "Using cached mistune-3.1.4-py3-none-any.whl (53 kB)\n",
      "Using cached nbclient-0.10.2-py3-none-any.whl (25 kB)\n",
      "Using cached pandocfilters-1.5.1-py2.py3-none-any.whl (8.7 kB)\n",
      "Using cached referencing-0.36.2-py3-none-any.whl (26 kB)\n",
      "Using cached argon2_cffi_bindings-25.1.0-cp39-abi3-manylinux_2_26_x86_64.manylinux_2_28_x86_64.whl (87 kB)\n",
      "Using cached beautifulsoup4-4.13.5-py3-none-any.whl (105 kB)\n",
      "Using cached defusedxml-0.7.1-py2.py3-none-any.whl (25 kB)\n",
      "Using cached jupyterlab_pygments-0.3.0-py3-none-any.whl (15 kB)\n",
      "Using cached rfc3339_validator-0.1.4-py2.py3-none-any.whl (3.5 kB)\n",
      "Using cached attrs-25.3.0-py3-none-any.whl (63 kB)\n",
      "Using cached cffi-2.0.0-cp311-cp311-manylinux2014_x86_64.manylinux_2_17_x86_64.whl (215 kB)\n",
      "Using cached h11-0.16.0-py3-none-any.whl (37 kB)\n",
      "Using cached jsonpointer-3.0.0-py2.py3-none-any.whl (7.6 kB)\n",
      "Using cached jsonschema_specifications-2025.9.1-py3-none-any.whl (18 kB)\n",
      "Using cached rfc3987_syntax-1.1.0-py3-none-any.whl (8.0 kB)\n",
      "Using cached fqdn-1.5.1-py3-none-any.whl (9.1 kB)\n",
      "Using cached isoduration-20.11.0-py3-none-any.whl (11 kB)\n",
      "Using cached arrow-1.3.0-py3-none-any.whl (66 kB)\n",
      "Using cached lark-1.3.0-py3-none-any.whl (113 kB)\n",
      "Installing collected packages: terminado, rfc3339-validator, protobuf, prometheus-client, pillow, pandocfilters, overrides, numpy, narwhals, mistune, MarkupSafe, llvmlite, lark, kiwisolver, jupyterlab_widgets, jupyterlab-pygments, jupyterlab-mathjax3, jsonpointer, json5, joblib, idna, h11, greenlet, graphviz, fqdn, fonttools, defusedxml, cycler, colorlog, cloudpickle, charset-normalizer, cffi, certifi, bleach, beautifulsoup4, babel, attrs, async-lru, sqlalchemy, scipy, rfc3987-syntax, requests, referencing, plotly, pandas, numba, Mako, jupyter-server-terminals, jinja2, httpcore, contourpy, arrow, argon2-cffi-bindings, anyio, scikit-learn, matplotlib, kaggle, jsonschema-specifications, isoduration, ipywidgets, httpx, argon2-cffi, alembic, shap, optuna, jsonschema, catboost, nbformat, nbclient, jupyter-events, nbconvert, jupyter-server, notebook-shim, jupyterlab-server, jupyter-lsp, jupyterlab, jupyterlab-rise\n",
      "Successfully installed Mako-1.3.10 MarkupSafe-3.0.2 alembic-1.16.5 anyio-4.11.0 argon2-cffi-25.1.0 argon2-cffi-bindings-25.1.0 arrow-1.3.0 async-lru-2.0.5 attrs-25.3.0 babel-2.17.0 beautifulsoup4-4.13.5 bleach-6.2.0 catboost-1.2.8 certifi-2025.8.3 cffi-2.0.0 charset-normalizer-3.4.3 cloudpickle-3.1.1 colorlog-6.9.0 contourpy-1.3.3 cycler-0.12.1 defusedxml-0.7.1 fonttools-4.60.0 fqdn-1.5.1 graphviz-0.21 greenlet-3.2.4 h11-0.16.0 httpcore-1.0.9 httpx-0.28.1 idna-3.10 ipywidgets-8.1.7 isoduration-20.11.0 jinja2-3.1.6 joblib-1.5.2 json5-0.12.1 jsonpointer-3.0.0 jsonschema-4.25.1 jsonschema-specifications-2025.9.1 jupyter-events-0.12.0 jupyter-lsp-2.3.0 jupyter-server-2.17.0 jupyter-server-terminals-0.5.3 jupyterlab-4.4.7 jupyterlab-mathjax3-4.3.0 jupyterlab-pygments-0.3.0 jupyterlab-rise-0.43.1 jupyterlab-server-2.27.3 jupyterlab_widgets-3.0.15 kaggle-1.7.4.5 kiwisolver-1.4.9 lark-1.3.0 llvmlite-0.45.0 matplotlib-3.10.6 mistune-3.1.4 narwhals-2.5.0 nbclient-0.10.2 nbconvert-7.16.6 nbformat-5.10.4 notebook-shim-0.2.4 numba-0.62.0 numpy-2.3.3 optuna-4.5.0 overrides-7.7.0 pandas-2.3.2 pandocfilters-1.5.1 pillow-11.3.0 plotly-6.3.0 prometheus-client-0.23.1 protobuf-6.32.1 referencing-0.36.2 requests-2.32.5 rfc3339-validator-0.1.4 rfc3987-syntax-1.1.0 scikit-learn-1.7.2 scipy-1.16.2 shap-0.48.0 sqlalchemy-2.0.43 terminado-0.18.1\n",
      "\n",
      "\u001b[1m[\u001b[0m\u001b[34;49mnotice\u001b[0m\u001b[1;39;49m]\u001b[0m\u001b[39;49m A new release of pip is available: \u001b[0m\u001b[31;49m24.0\u001b[0m\u001b[39;49m -> \u001b[0m\u001b[32;49m25.2\u001b[0m\n",
      "\u001b[1m[\u001b[0m\u001b[34;49mnotice\u001b[0m\u001b[1;39;49m]\u001b[0m\u001b[39;49m To update, run: \u001b[0m\u001b[32;49mpip install --upgrade pip\u001b[0m\n",
      "Note: you may need to restart the kernel to use updated packages.\n"
     ]
    }
   ],
   "source": [
    "%pip install catboost matplotlib pandas scikit-learn kaggle optuna ipywidgets shap jupyterlab-rise"
   ]
  },
  {
   "cell_type": "code",
   "execution_count": 2,
   "id": "2109adf6",
   "metadata": {},
   "outputs": [
    {
     "name": "stdout",
     "output_type": "stream",
     "text": [
      "Requirement already satisfied: plotly in ./venv/lib/python3.11/site-packages (6.3.0)\n",
      "Requirement already satisfied: kaleido in ./venv/lib/python3.11/site-packages (0.2.1)\n",
      "Requirement already satisfied: narwhals>=1.15.1 in ./venv/lib/python3.11/site-packages (from plotly) (2.5.0)\n",
      "Requirement already satisfied: packaging in ./venv/lib/python3.11/site-packages (from plotly) (25.0)\n",
      "\n",
      "\u001b[1m[\u001b[0m\u001b[34;49mnotice\u001b[0m\u001b[1;39;49m]\u001b[0m\u001b[39;49m A new release of pip is available: \u001b[0m\u001b[31;49m24.0\u001b[0m\u001b[39;49m -> \u001b[0m\u001b[32;49m25.2\u001b[0m\n",
      "\u001b[1m[\u001b[0m\u001b[34;49mnotice\u001b[0m\u001b[1;39;49m]\u001b[0m\u001b[39;49m To update, run: \u001b[0m\u001b[32;49mpip install --upgrade pip\u001b[0m\n",
      "Note: you may need to restart the kernel to use updated packages.\n"
     ]
    }
   ],
   "source": [
    "%pip install plotly kaleido"
   ]
  },
  {
   "cell_type": "code",
   "execution_count": 3,
   "id": "e1316834",
   "metadata": {},
   "outputs": [
    {
     "name": "stdout",
     "output_type": "stream",
     "text": [
      "Aktualna ścieżka: /workspaces/PZ_ARISA_MLOps_Final\n"
     ]
    }
   ],
   "source": [
    "from pathlib import Path\n",
    "\n",
    "cwd = Path.cwd()\n",
    "print(\"Aktualna ścieżka:\", cwd)"
   ]
  },
  {
   "cell_type": "code",
   "execution_count": 4,
   "id": "d9f9592b",
   "metadata": {},
   "outputs": [],
   "source": [
    "import os\n",
    "from pathlib import Path\n",
    "container_check = os.getenv(\"iscontainer\")\n",
    "if container_check==\"y\":\n",
    "    config_dir = Path(\"/home/vscode/.config/kaggle\")\n",
    "    config_dir.mkdir(parents=True, exist_ok=True)\n",
    "    \n",
    "    with open(config_dir / \"kaggle.json\", \"w\") as dst:\n",
    "        with open(\"./kaggle.json\", \"r\") as src:\n",
    "            dst.write(src.read())"
   ]
  },
  {
   "cell_type": "code",
   "execution_count": 5,
   "id": "b098b3c9",
   "metadata": {},
   "outputs": [
    {
     "name": "stdout",
     "output_type": "stream",
     "text": [
      "Warning: Your Kaggle API key is readable by other users on this system! To fix this, you can run 'chmod 600 /home/vscode/.config/kaggle/kaggle.json'\n",
      "Warning: Your Kaggle API key is readable by other users on this system! To fix this, you can run 'chmod 600 /home/vscode/.config/kaggle/kaggle.json'\n",
      "Dataset URL: https://www.kaggle.com/datasets/kamilpytlak/personal-key-indicators-of-heart-disease\n",
      "Przeniesiono: heart_2020_cleaned.csv → data/heart-disease/heart_2020_cleaned.csv\n",
      "Usunięto folder: data/heart-disease/2020\n",
      "Usunięto folder: data/heart-disease/2022\n"
     ]
    }
   ],
   "source": [
    "import os\n",
    "import zipfile\n",
    "import shutil\n",
    "from pathlib import Path\n",
    "from kaggle.api.kaggle_api_extended import KaggleApi\n",
    "\n",
    "api = KaggleApi()\n",
    "api.authenticate()\n",
    "\n",
    "dataset_name = \"kamilpytlak/personal-key-indicators-of-heart-disease\"\n",
    "download_folder = Path(\"data/heart-disease\")\n",
    "download_folder.mkdir(parents=True, exist_ok=True)\n",
    "\n",
    "api.dataset_download_files(dataset_name, path=str(download_folder), unzip=True)\n",
    "\n",
    "base_dir = Path(\"data/heart-disease\")\n",
    "file_to_move = base_dir / \"2020\" / \"heart_2020_cleaned.csv\"\n",
    "target_location = base_dir / \"heart_2020_cleaned.csv\"\n",
    "\n",
    "# Przenieś plik\n",
    "if file_to_move.exists():\n",
    "    shutil.move(str(file_to_move), str(target_location))\n",
    "    print(f\"Przeniesiono: {file_to_move.name} → {target_location}\")\n",
    "else:\n",
    "    print(\"Plik nie istnieje:\", file_to_move)\n",
    "\n",
    "# Usuń foldery 2020 i 2022\n",
    "for folder in [\"2020\", \"2022\"]:\n",
    "    folder_path = base_dir / folder\n",
    "    if folder_path.exists() and folder_path.is_dir():\n",
    "        shutil.rmtree(folder_path)\n",
    "        print(f\"Usunięto folder: {folder_path}\")\n",
    "    else:\n",
    "        print(f\"Folder nie istnieje: {folder_path}\")\n"
   ]
  },
  {
   "cell_type": "code",
   "execution_count": 6,
   "id": "fa9e8c6c",
   "metadata": {},
   "outputs": [
    {
     "name": "stdout",
     "output_type": "stream",
     "text": [
      "heart_2020_cleaned.csv: 25,189,554 bajtów\n"
     ]
    }
   ],
   "source": [
    "#!dir \"./data/heart-disease\"\n",
    "\n",
    "from pathlib import Path\n",
    "\n",
    "folder = Path(\"./data/heart-disease\")\n",
    "for item in folder.iterdir():\n",
    "    if item.is_file():\n",
    "        print(f\"{item.name}: {item.stat().st_size:,} bajtów\")"
   ]
  },
  {
   "cell_type": "code",
   "execution_count": 7,
   "id": "55062e4a",
   "metadata": {},
   "outputs": [],
   "source": [
    "import pandas as pd\n",
    "from sklearn.model_selection import train_test_split\n",
    "\n",
    "df = pd.read_csv(download_folder / \"heart_2020_cleaned.csv\")\n",
    "df['HeartDisease'] = (df['HeartDisease'] == \"Yes\").astype(int)\n",
    "\n",
    "df_train, df_test = train_test_split(df, test_size=0.2, random_state=42, stratify=df['HeartDisease'])\n"
   ]
  },
  {
   "cell_type": "code",
   "execution_count": 8,
   "id": "3f501358",
   "metadata": {},
   "outputs": [
    {
     "name": "stdout",
     "output_type": "stream",
     "text": [
      "<class 'pandas.core.frame.DataFrame'>\n",
      "Index: 63959 entries, 229267 to 181730\n",
      "Data columns (total 18 columns):\n",
      " #   Column            Non-Null Count  Dtype  \n",
      "---  ------            --------------  -----  \n",
      " 0   HeartDisease      63959 non-null  int64  \n",
      " 1   BMI               63959 non-null  float64\n",
      " 2   Smoking           63959 non-null  object \n",
      " 3   AlcoholDrinking   63959 non-null  object \n",
      " 4   Stroke            63959 non-null  object \n",
      " 5   PhysicalHealth    63959 non-null  float64\n",
      " 6   MentalHealth      63959 non-null  float64\n",
      " 7   DiffWalking       63959 non-null  object \n",
      " 8   Sex               63959 non-null  object \n",
      " 9   AgeCategory       63959 non-null  object \n",
      " 10  Race              63959 non-null  object \n",
      " 11  Diabetic          63959 non-null  object \n",
      " 12  PhysicalActivity  63959 non-null  object \n",
      " 13  GenHealth         63959 non-null  object \n",
      " 14  SleepTime         63959 non-null  float64\n",
      " 15  Asthma            63959 non-null  object \n",
      " 16  KidneyDisease     63959 non-null  object \n",
      " 17  SkinCancer        63959 non-null  object \n",
      "dtypes: float64(4), int64(1), object(13)\n",
      "memory usage: 9.3+ MB\n"
     ]
    }
   ],
   "source": [
    "df_test.info()"
   ]
  },
  {
   "cell_type": "code",
   "execution_count": 9,
   "id": "22f7b74a",
   "metadata": {},
   "outputs": [
    {
     "name": "stdout",
     "output_type": "stream",
     "text": [
      "<class 'pandas.core.frame.DataFrame'>\n",
      "Index: 255836 entries, 143355 to 241203\n",
      "Data columns (total 18 columns):\n",
      " #   Column            Non-Null Count   Dtype  \n",
      "---  ------            --------------   -----  \n",
      " 0   HeartDisease      255836 non-null  int64  \n",
      " 1   BMI               255836 non-null  float64\n",
      " 2   Smoking           255836 non-null  object \n",
      " 3   AlcoholDrinking   255836 non-null  object \n",
      " 4   Stroke            255836 non-null  object \n",
      " 5   PhysicalHealth    255836 non-null  float64\n",
      " 6   MentalHealth      255836 non-null  float64\n",
      " 7   DiffWalking       255836 non-null  object \n",
      " 8   Sex               255836 non-null  object \n",
      " 9   AgeCategory       255836 non-null  object \n",
      " 10  Race              255836 non-null  object \n",
      " 11  Diabetic          255836 non-null  object \n",
      " 12  PhysicalActivity  255836 non-null  object \n",
      " 13  GenHealth         255836 non-null  object \n",
      " 14  SleepTime         255836 non-null  float64\n",
      " 15  Asthma            255836 non-null  object \n",
      " 16  KidneyDisease     255836 non-null  object \n",
      " 17  SkinCancer        255836 non-null  object \n",
      "dtypes: float64(4), int64(1), object(13)\n",
      "memory usage: 37.1+ MB\n"
     ]
    }
   ],
   "source": [
    "df_train.info()"
   ]
  },
  {
   "cell_type": "code",
   "execution_count": 10,
   "id": "717e7cfe",
   "metadata": {},
   "outputs": [],
   "source": [
    "y_train = df_train.pop(\"HeartDisease\")\n",
    "X_train = df_train"
   ]
  },
  {
   "cell_type": "code",
   "execution_count": 11,
   "id": "5a5f52cb",
   "metadata": {},
   "outputs": [],
   "source": [
    "y_test = df_test.pop(\"HeartDisease\")\n",
    "X_test = df_test"
   ]
  },
  {
   "cell_type": "code",
   "execution_count": 12,
   "id": "4225e49d",
   "metadata": {},
   "outputs": [
    {
     "name": "stdout",
     "output_type": "stream",
     "text": [
      "<class 'pandas.core.frame.DataFrame'>\n",
      "Index: 255836 entries, 143355 to 241203\n",
      "Data columns (total 17 columns):\n",
      " #   Column            Non-Null Count   Dtype  \n",
      "---  ------            --------------   -----  \n",
      " 0   BMI               255836 non-null  float64\n",
      " 1   Smoking           255836 non-null  object \n",
      " 2   AlcoholDrinking   255836 non-null  object \n",
      " 3   Stroke            255836 non-null  object \n",
      " 4   PhysicalHealth    255836 non-null  float64\n",
      " 5   MentalHealth      255836 non-null  float64\n",
      " 6   DiffWalking       255836 non-null  object \n",
      " 7   Sex               255836 non-null  object \n",
      " 8   AgeCategory       255836 non-null  object \n",
      " 9   Race              255836 non-null  object \n",
      " 10  Diabetic          255836 non-null  object \n",
      " 11  PhysicalActivity  255836 non-null  object \n",
      " 12  GenHealth         255836 non-null  object \n",
      " 13  SleepTime         255836 non-null  float64\n",
      " 14  Asthma            255836 non-null  object \n",
      " 15  KidneyDisease     255836 non-null  object \n",
      " 16  SkinCancer        255836 non-null  object \n",
      "dtypes: float64(4), object(13)\n",
      "memory usage: 35.1+ MB\n"
     ]
    }
   ],
   "source": [
    "X_train.info()"
   ]
  },
  {
   "cell_type": "code",
   "execution_count": 13,
   "id": "4a4e3d21",
   "metadata": {},
   "outputs": [
    {
     "name": "stdout",
     "output_type": "stream",
     "text": [
      "Best Parameters: {'depth': 3, 'learning_rate': 0.29946628479494963, 'iterations': 298, 'l2_leaf_reg': 6.489964129571064, 'bagging_temperature': 0.5948399857962691, 'random_strength': 2.4795266973526418}\n"
     ]
    }
   ],
   "source": [
    "import joblib\n",
    "import optuna\n",
    "from sklearn.model_selection import train_test_split\n",
    "from catboost import CatBoostClassifier, Pool, cv\n",
    "\n",
    "outfolder = Path(\"results\")\n",
    "outfolder.mkdir(parents=True, exist_ok=True)\n",
    "\n",
    "best_params_path = outfolder / \"best_params.pkl\"\n",
    "\n",
    "# Określ kolumny kategoryczne\n",
    "categorical_features = [\n",
    "    \"Smoking\", \"AlcoholDrinking\", \"Stroke\", \"DiffWalking\", \n",
    "    \"Sex\", \"AgeCategory\", \"Race\", \"Diabetic\", \"PhysicalActivity\", \n",
    "    \"GenHealth\", \"Asthma\", \"KidneyDisease\", \"SkinCancer\"\n",
    "]\n",
    "categorical_indices = [X_train.columns.get_loc(col) for col in categorical_features if col in X_train.columns]\n",
    "\n",
    "if not best_params_path.is_file():\n",
    "    # DODAJ stratify=y_train\n",
    "    X_train_opt, X_val_opt, y_train_opt, y_val_opt = train_test_split(\n",
    "        X_train, y_train, test_size=0.25, random_state=42, stratify=y_train\n",
    "    )\n",
    "    \n",
    "    def objective(trial):\n",
    "        params = {\n",
    "            \"depth\": trial.suggest_int(\"depth\", 2, 10),\n",
    "            \"learning_rate\": trial.suggest_float(\"learning_rate\", 1e-4, 0.3),\n",
    "            \"iterations\": trial.suggest_int(\"iterations\", 100, 300),\n",
    "            \"l2_leaf_reg\": trial.suggest_float(\"l2_leaf_reg\", 1e-5, 100.0, log=True),\n",
    "            \"bagging_temperature\": trial.suggest_float(\"bagging_temperature\", 0.01, 1),\n",
    "            \"random_strength\": trial.suggest_float(\"random_strength\", 1e-5, 100.0, log=True),\n",
    "            \"auto_class_weights\": \"Balanced\"  # ⭐ DODAJ TO\n",
    "        }\n",
    "        model = CatBoostClassifier(\n",
    "            **params, \n",
    "            verbose=0, \n",
    "            cat_features=categorical_indices,\n",
    "            random_seed=42\n",
    "        )\n",
    "        model.fit(\n",
    "            X_train_opt, \n",
    "            y_train_opt, \n",
    "            eval_set=(X_val_opt, y_val_opt), \n",
    "            early_stopping_rounds=50\n",
    "        )\n",
    "        return model.get_best_score()[\"validation\"][\"Logloss\"]\n",
    "    \n",
    "    study = optuna.create_study(direction=\"minimize\")\n",
    "    study.optimize(objective, n_trials=50)\n",
    "    \n",
    "    joblib.dump(study.best_params, best_params_path)\n",
    "    params = study.best_params\n",
    "else:\n",
    "    params = joblib.load(best_params_path)\n",
    "\n",
    "print(\"Best Parameters:\", params)"
   ]
  },
  {
   "cell_type": "code",
   "execution_count": 14,
   "id": "990ffac7",
   "metadata": {},
   "outputs": [
    {
     "name": "stdout",
     "output_type": "stream",
     "text": [
      "Training on fold [0/5]\n",
      "0:\tlearn: 0.6973447\ttest: 0.6956044\tbest: 0.6956044 (0)\ttotal: 338ms\tremaining: 1m 40s\n",
      "1:\tlearn: 0.7443595\ttest: 0.7442392\tbest: 0.7442392 (1)\ttotal: 449ms\tremaining: 1m 6s\n",
      "2:\tlearn: 0.7386166\ttest: 0.7373217\tbest: 0.7442392 (1)\ttotal: 582ms\tremaining: 57.3s\n",
      "3:\tlearn: 0.7608203\ttest: 0.7590926\tbest: 0.7590926 (3)\ttotal: 693ms\tremaining: 51s\n",
      "4:\tlearn: 0.7663129\ttest: 0.7661870\tbest: 0.7661870 (4)\ttotal: 805ms\tremaining: 47.2s\n",
      "5:\tlearn: 0.7586578\ttest: 0.7556890\tbest: 0.7661870 (4)\ttotal: 918ms\tremaining: 44.7s\n",
      "6:\tlearn: 0.7617903\ttest: 0.7630652\tbest: 0.7661870 (4)\ttotal: 1.04s\tremaining: 43.1s\n",
      "7:\tlearn: 0.7658842\ttest: 0.7668088\tbest: 0.7668088 (7)\ttotal: 1.15s\tremaining: 41.7s\n",
      "8:\tlearn: 0.7664228\ttest: 0.7674412\tbest: 0.7674412 (8)\ttotal: 1.28s\tremaining: 41s\n",
      "9:\tlearn: 0.7663547\ttest: 0.7662782\tbest: 0.7674412 (8)\ttotal: 1.4s\tremaining: 40.3s\n",
      "10:\tlearn: 0.7668032\ttest: 0.7674357\tbest: 0.7674412 (8)\ttotal: 1.51s\tremaining: 39.3s\n",
      "11:\tlearn: 0.7655679\ttest: 0.7666901\tbest: 0.7674412 (8)\ttotal: 1.63s\tremaining: 38.9s\n",
      "12:\tlearn: 0.7671108\ttest: 0.7676875\tbest: 0.7676875 (12)\ttotal: 1.84s\tremaining: 40.4s\n",
      "13:\tlearn: 0.7666717\ttest: 0.7688791\tbest: 0.7688791 (13)\ttotal: 1.98s\tremaining: 40.1s\n",
      "14:\tlearn: 0.7712772\ttest: 0.7718557\tbest: 0.7718557 (14)\ttotal: 2.1s\tremaining: 39.7s\n",
      "15:\tlearn: 0.7706053\ttest: 0.7718398\tbest: 0.7718557 (14)\ttotal: 2.22s\tremaining: 39.1s\n",
      "16:\tlearn: 0.7703637\ttest: 0.7720391\tbest: 0.7720391 (16)\ttotal: 2.34s\tremaining: 38.7s\n",
      "17:\tlearn: 0.7707810\ttest: 0.7717442\tbest: 0.7720391 (16)\ttotal: 2.47s\tremaining: 38.5s\n",
      "18:\tlearn: 0.7701541\ttest: 0.7712009\tbest: 0.7720391 (16)\ttotal: 2.61s\tremaining: 38.3s\n",
      "19:\tlearn: 0.7705037\ttest: 0.7716323\tbest: 0.7720391 (16)\ttotal: 2.7s\tremaining: 37.5s\n",
      "20:\tlearn: 0.7703661\ttest: 0.7710495\tbest: 0.7720391 (16)\ttotal: 2.79s\tremaining: 36.8s\n",
      "21:\tlearn: 0.7710910\ttest: 0.7721190\tbest: 0.7721190 (21)\ttotal: 2.9s\tremaining: 36.4s\n",
      "22:\tlearn: 0.7711341\ttest: 0.7711764\tbest: 0.7721190 (21)\ttotal: 3s\tremaining: 35.8s\n",
      "23:\tlearn: 0.7717508\ttest: 0.7717679\tbest: 0.7721190 (21)\ttotal: 3.12s\tremaining: 35.6s\n",
      "24:\tlearn: 0.7711052\ttest: 0.7712555\tbest: 0.7721190 (21)\ttotal: 3.21s\tremaining: 35s\n",
      "25:\tlearn: 0.7715512\ttest: 0.7714398\tbest: 0.7721190 (21)\ttotal: 3.3s\tremaining: 34.5s\n",
      "26:\tlearn: 0.7714412\ttest: 0.7708066\tbest: 0.7721190 (21)\ttotal: 3.41s\tremaining: 34.2s\n",
      "27:\tlearn: 0.7717068\ttest: 0.7715597\tbest: 0.7721190 (21)\ttotal: 3.52s\tremaining: 34s\n",
      "28:\tlearn: 0.7713493\ttest: 0.7716557\tbest: 0.7721190 (21)\ttotal: 3.65s\tremaining: 33.9s\n",
      "29:\tlearn: 0.7719443\ttest: 0.7726954\tbest: 0.7726954 (29)\ttotal: 3.8s\tremaining: 34s\n",
      "30:\tlearn: 0.7719064\ttest: 0.7722717\tbest: 0.7726954 (29)\ttotal: 3.93s\tremaining: 33.9s\n",
      "31:\tlearn: 0.7721838\ttest: 0.7724397\tbest: 0.7726954 (29)\ttotal: 4.08s\tremaining: 33.9s\n",
      "32:\tlearn: 0.7719924\ttest: 0.7728000\tbest: 0.7728000 (32)\ttotal: 4.28s\tremaining: 34.3s\n",
      "33:\tlearn: 0.7722536\ttest: 0.7728552\tbest: 0.7728552 (33)\ttotal: 4.4s\tremaining: 34.2s\n",
      "34:\tlearn: 0.7725489\ttest: 0.7730787\tbest: 0.7730787 (34)\ttotal: 4.49s\tremaining: 33.8s\n",
      "35:\tlearn: 0.7727526\ttest: 0.7731591\tbest: 0.7731591 (35)\ttotal: 4.67s\tremaining: 34s\n",
      "36:\tlearn: 0.7727368\ttest: 0.7731034\tbest: 0.7731591 (35)\ttotal: 4.8s\tremaining: 33.9s\n",
      "37:\tlearn: 0.7725614\ttest: 0.7734151\tbest: 0.7734151 (37)\ttotal: 4.9s\tremaining: 33.5s\n",
      "38:\tlearn: 0.7722161\ttest: 0.7737490\tbest: 0.7737490 (38)\ttotal: 5s\tremaining: 33.2s\n",
      "39:\tlearn: 0.7722422\ttest: 0.7734467\tbest: 0.7737490 (38)\ttotal: 5.14s\tremaining: 33.1s\n",
      "40:\tlearn: 0.7724816\ttest: 0.7731187\tbest: 0.7737490 (38)\ttotal: 5.26s\tremaining: 33s\n",
      "41:\tlearn: 0.7726976\ttest: 0.7731996\tbest: 0.7737490 (38)\ttotal: 5.38s\tremaining: 32.8s\n",
      "42:\tlearn: 0.7725499\ttest: 0.7739585\tbest: 0.7739585 (42)\ttotal: 5.5s\tremaining: 32.6s\n",
      "43:\tlearn: 0.7726398\ttest: 0.7733523\tbest: 0.7739585 (42)\ttotal: 5.62s\tremaining: 32.5s\n",
      "44:\tlearn: 0.7730363\ttest: 0.7737586\tbest: 0.7739585 (42)\ttotal: 5.73s\tremaining: 32.2s\n",
      "45:\tlearn: 0.7733239\ttest: 0.7738199\tbest: 0.7739585 (42)\ttotal: 5.82s\tremaining: 31.9s\n",
      "46:\tlearn: 0.7741637\ttest: 0.7740528\tbest: 0.7740528 (46)\ttotal: 5.95s\tremaining: 31.8s\n",
      "47:\tlearn: 0.7740103\ttest: 0.7741723\tbest: 0.7741723 (47)\ttotal: 6.08s\tremaining: 31.7s\n",
      "48:\tlearn: 0.7738574\ttest: 0.7742765\tbest: 0.7742765 (48)\ttotal: 6.21s\tremaining: 31.6s\n",
      "49:\tlearn: 0.7741418\ttest: 0.7745803\tbest: 0.7745803 (49)\ttotal: 6.37s\tremaining: 31.6s\n",
      "50:\tlearn: 0.7742038\ttest: 0.7749449\tbest: 0.7749449 (50)\ttotal: 6.47s\tremaining: 31.4s\n",
      "51:\tlearn: 0.7744112\ttest: 0.7746509\tbest: 0.7749449 (50)\ttotal: 6.57s\tremaining: 31.1s\n",
      "52:\tlearn: 0.7743102\ttest: 0.7741015\tbest: 0.7749449 (50)\ttotal: 6.72s\tremaining: 31s\n",
      "53:\tlearn: 0.7747765\ttest: 0.7744368\tbest: 0.7749449 (50)\ttotal: 6.84s\tremaining: 30.9s\n",
      "54:\tlearn: 0.7747678\ttest: 0.7749386\tbest: 0.7749449 (50)\ttotal: 6.94s\tremaining: 30.7s\n",
      "55:\tlearn: 0.7749391\ttest: 0.7753989\tbest: 0.7753989 (55)\ttotal: 7.04s\tremaining: 30.4s\n",
      "56:\tlearn: 0.7750112\ttest: 0.7742297\tbest: 0.7753989 (55)\ttotal: 7.18s\tremaining: 30.4s\n",
      "57:\tlearn: 0.7750775\ttest: 0.7744673\tbest: 0.7753989 (55)\ttotal: 7.3s\tremaining: 30.2s\n",
      "58:\tlearn: 0.7752103\ttest: 0.7745146\tbest: 0.7753989 (55)\ttotal: 7.44s\tremaining: 30.1s\n",
      "59:\tlearn: 0.7753017\ttest: 0.7747374\tbest: 0.7753989 (55)\ttotal: 7.56s\tremaining: 30s\n",
      "60:\tlearn: 0.7752646\ttest: 0.7750614\tbest: 0.7753989 (55)\ttotal: 7.67s\tremaining: 29.8s\n",
      "61:\tlearn: 0.7755114\ttest: 0.7742743\tbest: 0.7753989 (55)\ttotal: 7.79s\tremaining: 29.7s\n",
      "62:\tlearn: 0.7756310\ttest: 0.7743857\tbest: 0.7753989 (55)\ttotal: 7.89s\tremaining: 29.5s\n",
      "63:\tlearn: 0.7759632\ttest: 0.7741396\tbest: 0.7753989 (55)\ttotal: 8.01s\tremaining: 29.3s\n",
      "64:\tlearn: 0.7760041\ttest: 0.7741309\tbest: 0.7753989 (55)\ttotal: 8.11s\tremaining: 29.1s\n",
      "65:\tlearn: 0.7760382\ttest: 0.7741549\tbest: 0.7753989 (55)\ttotal: 8.22s\tremaining: 28.9s\n",
      "66:\tlearn: 0.7757621\ttest: 0.7741629\tbest: 0.7753989 (55)\ttotal: 8.33s\tremaining: 28.7s\n",
      "67:\tlearn: 0.7761197\ttest: 0.7745356\tbest: 0.7753989 (55)\ttotal: 8.46s\tremaining: 28.6s\n",
      "68:\tlearn: 0.7765208\ttest: 0.7747741\tbest: 0.7753989 (55)\ttotal: 8.57s\tremaining: 28.4s\n",
      "69:\tlearn: 0.7764825\ttest: 0.7750916\tbest: 0.7753989 (55)\ttotal: 8.67s\tremaining: 28.2s\n",
      "70:\tlearn: 0.7763991\ttest: 0.7752267\tbest: 0.7753989 (55)\ttotal: 8.78s\tremaining: 28.1s\n",
      "71:\tlearn: 0.7764631\ttest: 0.7750835\tbest: 0.7753989 (55)\ttotal: 8.91s\tremaining: 28s\n",
      "72:\tlearn: 0.7764985\ttest: 0.7752657\tbest: 0.7753989 (55)\ttotal: 9.03s\tremaining: 27.8s\n",
      "73:\tlearn: 0.7766409\ttest: 0.7753767\tbest: 0.7753989 (55)\ttotal: 9.16s\tremaining: 27.7s\n",
      "74:\tlearn: 0.7765976\ttest: 0.7757737\tbest: 0.7757737 (74)\ttotal: 9.28s\tremaining: 27.6s\n",
      "75:\tlearn: 0.7762316\ttest: 0.7759086\tbest: 0.7759086 (75)\ttotal: 9.39s\tremaining: 27.4s\n",
      "76:\tlearn: 0.7764825\ttest: 0.7755747\tbest: 0.7759086 (75)\ttotal: 9.55s\tremaining: 27.4s\n",
      "77:\tlearn: 0.7765382\ttest: 0.7756387\tbest: 0.7759086 (75)\ttotal: 9.67s\tremaining: 27.3s\n",
      "78:\tlearn: 0.7767526\ttest: 0.7758846\tbest: 0.7759086 (75)\ttotal: 9.81s\tremaining: 27.2s\n",
      "79:\tlearn: 0.7767830\ttest: 0.7759647\tbest: 0.7759647 (79)\ttotal: 9.94s\tremaining: 27.1s\n",
      "80:\tlearn: 0.7768816\ttest: 0.7758858\tbest: 0.7759647 (79)\ttotal: 10.1s\tremaining: 27s\n",
      "81:\tlearn: 0.7769941\ttest: 0.7753858\tbest: 0.7759647 (79)\ttotal: 10.2s\tremaining: 26.9s\n",
      "82:\tlearn: 0.7770438\ttest: 0.7751476\tbest: 0.7759647 (79)\ttotal: 10.4s\tremaining: 26.8s\n",
      "83:\tlearn: 0.7769965\ttest: 0.7751876\tbest: 0.7759647 (79)\ttotal: 10.6s\tremaining: 26.9s\n",
      "84:\tlearn: 0.7769211\ttest: 0.7752116\tbest: 0.7759647 (79)\ttotal: 10.7s\tremaining: 26.7s\n",
      "85:\tlearn: 0.7769841\ttest: 0.7758126\tbest: 0.7759647 (79)\ttotal: 10.8s\tremaining: 26.6s\n",
      "86:\tlearn: 0.7769104\ttest: 0.7754637\tbest: 0.7759647 (79)\ttotal: 10.9s\tremaining: 26.4s\n",
      "87:\tlearn: 0.7766966\ttest: 0.7757977\tbest: 0.7759647 (79)\ttotal: 11s\tremaining: 26.3s\n",
      "88:\tlearn: 0.7767166\ttest: 0.7756948\tbest: 0.7759647 (79)\ttotal: 11.1s\tremaining: 26.1s\n",
      "89:\tlearn: 0.7764517\ttest: 0.7749324\tbest: 0.7759647 (79)\ttotal: 11.2s\tremaining: 26s\n",
      "90:\tlearn: 0.7768672\ttest: 0.7752257\tbest: 0.7759647 (79)\ttotal: 11.4s\tremaining: 26s\n",
      "91:\tlearn: 0.7767741\ttest: 0.7753297\tbest: 0.7759647 (79)\ttotal: 11.5s\tremaining: 25.8s\n",
      "92:\tlearn: 0.7767585\ttest: 0.7760755\tbest: 0.7760755 (92)\ttotal: 11.7s\tremaining: 25.7s\n",
      "93:\tlearn: 0.7766256\ttest: 0.7758217\tbest: 0.7760755 (92)\ttotal: 11.8s\tremaining: 25.6s\n",
      "94:\tlearn: 0.7765052\ttest: 0.7758217\tbest: 0.7760755 (92)\ttotal: 11.9s\tremaining: 25.5s\n",
      "95:\tlearn: 0.7765763\ttest: 0.7758457\tbest: 0.7760755 (92)\ttotal: 12.1s\tremaining: 25.4s\n",
      "96:\tlearn: 0.7764584\ttest: 0.7755507\tbest: 0.7760755 (92)\ttotal: 12.1s\tremaining: 25.2s\n",
      "97:\tlearn: 0.7765145\ttest: 0.7756708\tbest: 0.7760755 (92)\ttotal: 12.2s\tremaining: 25s\n",
      "98:\tlearn: 0.7767207\ttest: 0.7752657\tbest: 0.7760755 (92)\ttotal: 12.4s\tremaining: 24.8s\n",
      "99:\tlearn: 0.7766280\ttest: 0.7752817\tbest: 0.7760755 (92)\ttotal: 12.5s\tremaining: 24.7s\n",
      "100:\tlearn: 0.7768082\ttest: 0.7752977\tbest: 0.7760755 (92)\ttotal: 12.6s\tremaining: 24.5s\n",
      "101:\tlearn: 0.7769526\ttest: 0.7754728\tbest: 0.7760755 (92)\ttotal: 12.7s\tremaining: 24.4s\n",
      "102:\tlearn: 0.7769553\ttest: 0.7753217\tbest: 0.7760755 (92)\ttotal: 12.8s\tremaining: 24.3s\n",
      "103:\tlearn: 0.7769236\ttest: 0.7759018\tbest: 0.7760755 (92)\ttotal: 13s\tremaining: 24.2s\n",
      "104:\tlearn: 0.7769216\ttest: 0.7759018\tbest: 0.7760755 (92)\ttotal: 13.1s\tremaining: 24.1s\n",
      "105:\tlearn: 0.7769814\ttest: 0.7755769\tbest: 0.7760755 (92)\ttotal: 13.2s\tremaining: 23.9s\n",
      "106:\tlearn: 0.7774481\ttest: 0.7757359\tbest: 0.7760755 (92)\ttotal: 13.3s\tremaining: 23.8s\n",
      "107:\tlearn: 0.7773767\ttest: 0.7754188\tbest: 0.7760755 (92)\ttotal: 13.4s\tremaining: 23.6s\n",
      "108:\tlearn: 0.7773840\ttest: 0.7752196\tbest: 0.7760755 (92)\ttotal: 13.6s\tremaining: 23.5s\n",
      "109:\tlearn: 0.7773379\ttest: 0.7752036\tbest: 0.7760755 (92)\ttotal: 13.7s\tremaining: 23.3s\n",
      "110:\tlearn: 0.7776036\ttest: 0.7750845\tbest: 0.7760755 (92)\ttotal: 13.8s\tremaining: 23.3s\n",
      "111:\tlearn: 0.7777462\ttest: 0.7749653\tbest: 0.7760755 (92)\ttotal: 14s\tremaining: 23.2s\n",
      "112:\tlearn: 0.7777182\ttest: 0.7749493\tbest: 0.7760755 (92)\ttotal: 14.1s\tremaining: 23s\n",
      "113:\tlearn: 0.7776789\ttest: 0.7752196\tbest: 0.7760755 (92)\ttotal: 14.3s\tremaining: 23s\n",
      "114:\tlearn: 0.7778303\ttest: 0.7758149\tbest: 0.7760755 (92)\ttotal: 14.4s\tremaining: 22.9s\n",
      "115:\tlearn: 0.7778298\ttest: 0.7755859\tbest: 0.7760755 (92)\ttotal: 14.5s\tremaining: 22.8s\n",
      "116:\tlearn: 0.7777630\ttest: 0.7756020\tbest: 0.7760755 (92)\ttotal: 14.8s\tremaining: 22.8s\n",
      "117:\tlearn: 0.7778406\ttest: 0.7761156\tbest: 0.7761156 (117)\ttotal: 14.9s\tremaining: 22.7s\n",
      "118:\tlearn: 0.7780650\ttest: 0.7751165\tbest: 0.7761156 (117)\ttotal: 15s\tremaining: 22.5s\n",
      "119:\tlearn: 0.7780062\ttest: 0.7751645\tbest: 0.7761156 (117)\ttotal: 15.1s\tremaining: 22.4s\n",
      "120:\tlearn: 0.7780127\ttest: 0.7754669\tbest: 0.7761156 (117)\ttotal: 15.3s\tremaining: 22.4s\n",
      "121:\tlearn: 0.7779532\ttest: 0.7757588\tbest: 0.7761156 (117)\ttotal: 15.5s\tremaining: 22.3s\n",
      "122:\tlearn: 0.7779889\ttest: 0.7759967\tbest: 0.7761156 (117)\ttotal: 15.7s\tremaining: 22.4s\n",
      "123:\tlearn: 0.7779040\ttest: 0.7761088\tbest: 0.7761156 (117)\ttotal: 15.8s\tremaining: 22.2s\n",
      "124:\tlearn: 0.7779000\ttest: 0.7760848\tbest: 0.7761156 (117)\ttotal: 16s\tremaining: 22.1s\n",
      "125:\tlearn: 0.7779416\ttest: 0.7760459\tbest: 0.7761156 (117)\ttotal: 16.1s\tremaining: 21.9s\n",
      "126:\tlearn: 0.7779457\ttest: 0.7761100\tbest: 0.7761156 (117)\ttotal: 16.2s\tremaining: 21.8s\n",
      "127:\tlearn: 0.7779312\ttest: 0.7763639\tbest: 0.7763639 (127)\ttotal: 16.3s\tremaining: 21.6s\n",
      "128:\tlearn: 0.7779621\ttest: 0.7760712\tbest: 0.7763639 (127)\ttotal: 16.4s\tremaining: 21.5s\n",
      "129:\tlearn: 0.7779958\ttest: 0.7760712\tbest: 0.7763639 (127)\ttotal: 16.6s\tremaining: 21.4s\n",
      "130:\tlearn: 0.7779477\ttest: 0.7765081\tbest: 0.7765081 (130)\ttotal: 16.7s\tremaining: 21.3s\n",
      "131:\tlearn: 0.7779165\ttest: 0.7763732\tbest: 0.7765081 (130)\ttotal: 16.8s\tremaining: 21.1s\n",
      "132:\tlearn: 0.7779577\ttest: 0.7765802\tbest: 0.7765802 (132)\ttotal: 16.9s\tremaining: 21s\n",
      "133:\tlearn: 0.7780074\ttest: 0.7765883\tbest: 0.7765883 (133)\ttotal: 17s\tremaining: 20.8s\n",
      "134:\tlearn: 0.7780065\ttest: 0.7766911\tbest: 0.7766911 (134)\ttotal: 17.2s\tremaining: 20.7s\n",
      "135:\tlearn: 0.7780205\ttest: 0.7766991\tbest: 0.7766991 (135)\ttotal: 17.3s\tremaining: 20.6s\n",
      "136:\tlearn: 0.7783035\ttest: 0.7759442\tbest: 0.7766991 (135)\ttotal: 17.4s\tremaining: 20.5s\n",
      "137:\tlearn: 0.7782900\ttest: 0.7757931\tbest: 0.7766991 (135)\ttotal: 17.5s\tremaining: 20.3s\n",
      "138:\tlearn: 0.7781234\ttest: 0.7760471\tbest: 0.7766991 (135)\ttotal: 17.6s\tremaining: 20.2s\n",
      "139:\tlearn: 0.7782138\ttest: 0.7764119\tbest: 0.7766991 (135)\ttotal: 17.8s\tremaining: 20s\n",
      "140:\tlearn: 0.7781034\ttest: 0.7764760\tbest: 0.7766991 (135)\ttotal: 17.9s\tremaining: 19.9s\n",
      "141:\tlearn: 0.7781350\ttest: 0.7764680\tbest: 0.7766991 (135)\ttotal: 18s\tremaining: 19.8s\n",
      "142:\tlearn: 0.7780918\ttest: 0.7762530\tbest: 0.7766991 (135)\ttotal: 18.1s\tremaining: 19.6s\n",
      "143:\tlearn: 0.7780938\ttest: 0.7762450\tbest: 0.7766991 (135)\ttotal: 18.2s\tremaining: 19.5s\n",
      "144:\tlearn: 0.7781951\ttest: 0.7764667\tbest: 0.7766991 (135)\ttotal: 18.4s\tremaining: 19.4s\n",
      "145:\tlearn: 0.7780497\ttest: 0.7756639\tbest: 0.7766991 (135)\ttotal: 18.5s\tremaining: 19.3s\n",
      "146:\tlearn: 0.7783682\ttest: 0.7759350\tbest: 0.7766991 (135)\ttotal: 18.6s\tremaining: 19.1s\n",
      "147:\tlearn: 0.7783722\ttest: 0.7759590\tbest: 0.7766991 (135)\ttotal: 18.7s\tremaining: 19s\n",
      "148:\tlearn: 0.7780419\ttest: 0.7756180\tbest: 0.7766991 (135)\ttotal: 18.8s\tremaining: 18.8s\n",
      "149:\tlearn: 0.7780212\ttest: 0.7756420\tbest: 0.7766991 (135)\ttotal: 19s\tremaining: 18.7s\n",
      "150:\tlearn: 0.7780532\ttest: 0.7757130\tbest: 0.7766991 (135)\ttotal: 19.1s\tremaining: 18.6s\n",
      "151:\tlearn: 0.7781566\ttest: 0.7757771\tbest: 0.7766991 (135)\ttotal: 19.2s\tremaining: 18.5s\n",
      "152:\tlearn: 0.7785031\ttest: 0.7754108\tbest: 0.7766991 (135)\ttotal: 19.3s\tremaining: 18.3s\n",
      "153:\tlearn: 0.7784609\ttest: 0.7753718\tbest: 0.7766991 (135)\ttotal: 19.4s\tremaining: 18.1s\n",
      "154:\tlearn: 0.7784845\ttest: 0.7753718\tbest: 0.7766991 (135)\ttotal: 19.5s\tremaining: 18s\n",
      "155:\tlearn: 0.7784684\ttest: 0.7752286\tbest: 0.7766991 (135)\ttotal: 19.6s\tremaining: 17.9s\n",
      "156:\tlearn: 0.7783736\ttest: 0.7752286\tbest: 0.7766991 (135)\ttotal: 19.8s\tremaining: 17.7s\n",
      "157:\tlearn: 0.7786049\ttest: 0.7749182\tbest: 0.7766991 (135)\ttotal: 19.9s\tremaining: 17.6s\n",
      "158:\tlearn: 0.7785727\ttest: 0.7748310\tbest: 0.7766991 (135)\ttotal: 20s\tremaining: 17.5s\n",
      "159:\tlearn: 0.7785411\ttest: 0.7748310\tbest: 0.7766991 (135)\ttotal: 20.1s\tremaining: 17.4s\n",
      "160:\tlearn: 0.7783884\ttest: 0.7749751\tbest: 0.7766991 (135)\ttotal: 20.3s\tremaining: 17.2s\n",
      "161:\tlearn: 0.7785265\ttest: 0.7745131\tbest: 0.7766991 (135)\ttotal: 20.4s\tremaining: 17.1s\n",
      "162:\tlearn: 0.7783589\ttest: 0.7742023\tbest: 0.7766991 (135)\ttotal: 20.5s\tremaining: 17s\n",
      "163:\tlearn: 0.7784282\ttest: 0.7742023\tbest: 0.7766991 (135)\ttotal: 20.6s\tremaining: 16.8s\n",
      "164:\tlearn: 0.7785491\ttest: 0.7742103\tbest: 0.7766991 (135)\ttotal: 20.8s\tremaining: 16.8s\n",
      "165:\tlearn: 0.7785451\ttest: 0.7742103\tbest: 0.7766991 (135)\ttotal: 20.9s\tremaining: 16.6s\n",
      "166:\tlearn: 0.7783654\ttest: 0.7743857\tbest: 0.7766991 (135)\ttotal: 21s\tremaining: 16.5s\n",
      "167:\tlearn: 0.7785231\ttest: 0.7747037\tbest: 0.7766991 (135)\ttotal: 21.1s\tremaining: 16.4s\n",
      "168:\tlearn: 0.7784472\ttest: 0.7741389\tbest: 0.7766991 (135)\ttotal: 21.2s\tremaining: 16.2s\n",
      "169:\tlearn: 0.7783498\ttest: 0.7747766\tbest: 0.7766991 (135)\ttotal: 21.4s\tremaining: 16.1s\n",
      "170:\tlearn: 0.7784366\ttest: 0.7747694\tbest: 0.7766991 (135)\ttotal: 21.5s\tremaining: 16s\n",
      "171:\tlearn: 0.7783276\ttest: 0.7747534\tbest: 0.7766991 (135)\ttotal: 21.6s\tremaining: 15.8s\n",
      "172:\tlearn: 0.7784782\ttest: 0.7748567\tbest: 0.7766991 (135)\ttotal: 21.8s\tremaining: 15.7s\n",
      "173:\tlearn: 0.7784782\ttest: 0.7748567\tbest: 0.7766991 (135)\ttotal: 21.9s\tremaining: 15.6s\n",
      "174:\tlearn: 0.7784170\ttest: 0.7750161\tbest: 0.7766991 (135)\ttotal: 22s\tremaining: 15.5s\n",
      "175:\tlearn: 0.7784261\ttest: 0.7749600\tbest: 0.7766991 (135)\ttotal: 22.2s\tremaining: 15.4s\n",
      "176:\tlearn: 0.7785336\ttest: 0.7746012\tbest: 0.7766991 (135)\ttotal: 22.3s\tremaining: 15.2s\n",
      "177:\tlearn: 0.7783690\ttest: 0.7746885\tbest: 0.7766991 (135)\ttotal: 22.4s\tremaining: 15.1s\n",
      "178:\tlearn: 0.7783543\ttest: 0.7753167\tbest: 0.7766991 (135)\ttotal: 22.5s\tremaining: 15s\n",
      "179:\tlearn: 0.7783603\ttest: 0.7753167\tbest: 0.7766991 (135)\ttotal: 22.7s\tremaining: 14.9s\n",
      "180:\tlearn: 0.7782307\ttest: 0.7748006\tbest: 0.7766991 (135)\ttotal: 22.8s\tremaining: 14.7s\n",
      "181:\tlearn: 0.7782287\ttest: 0.7749119\tbest: 0.7766991 (135)\ttotal: 22.9s\tremaining: 14.6s\n",
      "182:\tlearn: 0.7785952\ttest: 0.7756671\tbest: 0.7766991 (135)\ttotal: 23.1s\tremaining: 14.5s\n",
      "183:\tlearn: 0.7784672\ttest: 0.7754129\tbest: 0.7766991 (135)\ttotal: 23.2s\tremaining: 14.4s\n",
      "184:\tlearn: 0.7785365\ttest: 0.7754369\tbest: 0.7766991 (135)\ttotal: 23.4s\tremaining: 14.3s\n",
      "185:\tlearn: 0.7786966\ttest: 0.7755571\tbest: 0.7766991 (135)\ttotal: 23.7s\tremaining: 14.3s\n",
      "186:\tlearn: 0.7786298\ttest: 0.7750552\tbest: 0.7766991 (135)\ttotal: 24.1s\tremaining: 14.3s\n",
      "187:\tlearn: 0.7786815\ttest: 0.7747846\tbest: 0.7766991 (135)\ttotal: 24.3s\tremaining: 14.2s\n",
      "188:\tlearn: 0.7786107\ttest: 0.7751905\tbest: 0.7766991 (135)\ttotal: 24.6s\tremaining: 14.2s\n",
      "189:\tlearn: 0.7786523\ttest: 0.7751985\tbest: 0.7766991 (135)\ttotal: 25.1s\tremaining: 14.3s\n",
      "190:\tlearn: 0.7788869\ttest: 0.7757152\tbest: 0.7766991 (135)\ttotal: 25.2s\tremaining: 14.1s\n",
      "191:\tlearn: 0.7788909\ttest: 0.7757072\tbest: 0.7766991 (135)\ttotal: 25.3s\tremaining: 14s\n",
      "192:\tlearn: 0.7789652\ttest: 0.7753498\tbest: 0.7766991 (135)\ttotal: 25.5s\tremaining: 13.9s\n",
      "193:\tlearn: 0.7789812\ttest: 0.7754850\tbest: 0.7766991 (135)\ttotal: 25.6s\tremaining: 13.7s\n",
      "194:\tlearn: 0.7790169\ttest: 0.7756041\tbest: 0.7766991 (135)\ttotal: 25.8s\tremaining: 13.6s\n",
      "195:\tlearn: 0.7789285\ttest: 0.7756682\tbest: 0.7766991 (135)\ttotal: 25.9s\tremaining: 13.5s\n",
      "196:\tlearn: 0.7789602\ttest: 0.7756442\tbest: 0.7766991 (135)\ttotal: 26.1s\tremaining: 13.4s\n",
      "197:\tlearn: 0.7790596\ttest: 0.7754299\tbest: 0.7766991 (135)\ttotal: 26.2s\tremaining: 13.2s\n",
      "198:\tlearn: 0.7790737\ttest: 0.7754459\tbest: 0.7766991 (135)\ttotal: 26.3s\tremaining: 13.1s\n",
      "199:\tlearn: 0.7790737\ttest: 0.7754459\tbest: 0.7766991 (135)\ttotal: 26.5s\tremaining: 13s\n",
      "200:\tlearn: 0.7788648\ttest: 0.7755491\tbest: 0.7766991 (135)\ttotal: 26.7s\tremaining: 12.9s\n",
      "201:\tlearn: 0.7791097\ttest: 0.7756431\tbest: 0.7766991 (135)\ttotal: 26.8s\tremaining: 12.7s\n",
      "202:\tlearn: 0.7791534\ttest: 0.7755320\tbest: 0.7766991 (135)\ttotal: 26.9s\tremaining: 12.6s\n",
      "203:\tlearn: 0.7791443\ttest: 0.7756111\tbest: 0.7766991 (135)\ttotal: 27s\tremaining: 12.5s\n",
      "204:\tlearn: 0.7790374\ttest: 0.7752376\tbest: 0.7766991 (135)\ttotal: 27.1s\tremaining: 12.3s\n",
      "205:\tlearn: 0.7790952\ttest: 0.7753968\tbest: 0.7766991 (135)\ttotal: 27.3s\tremaining: 12.2s\n",
      "206:\tlearn: 0.7791449\ttest: 0.7755870\tbest: 0.7766991 (135)\ttotal: 27.4s\tremaining: 12s\n",
      "207:\tlearn: 0.7791388\ttest: 0.7757382\tbest: 0.7766991 (135)\ttotal: 27.5s\tremaining: 11.9s\n",
      "208:\tlearn: 0.7791328\ttest: 0.7757301\tbest: 0.7766991 (135)\ttotal: 27.6s\tremaining: 11.8s\n",
      "209:\tlearn: 0.7791509\ttest: 0.7754279\tbest: 0.7766991 (135)\ttotal: 27.8s\tremaining: 11.6s\n",
      "210:\tlearn: 0.7792799\ttest: 0.7756591\tbest: 0.7766991 (135)\ttotal: 27.9s\tremaining: 11.5s\n",
      "211:\tlearn: 0.7792322\ttest: 0.7759293\tbest: 0.7766991 (135)\ttotal: 28s\tremaining: 11.4s\n",
      "212:\tlearn: 0.7791750\ttest: 0.7755240\tbest: 0.7766991 (135)\ttotal: 28.1s\tremaining: 11.2s\n",
      "213:\tlearn: 0.7791770\ttest: 0.7757862\tbest: 0.7766991 (135)\ttotal: 28.3s\tremaining: 11.1s\n",
      "214:\tlearn: 0.7793365\ttest: 0.7755560\tbest: 0.7766991 (135)\ttotal: 28.4s\tremaining: 11s\n",
      "215:\tlearn: 0.7793681\ttest: 0.7752937\tbest: 0.7766991 (135)\ttotal: 28.5s\tremaining: 10.8s\n",
      "216:\tlearn: 0.7793230\ttest: 0.7752937\tbest: 0.7766991 (135)\ttotal: 28.6s\tremaining: 10.7s\n",
      "217:\tlearn: 0.7792934\ttest: 0.7753177\tbest: 0.7766991 (135)\ttotal: 28.8s\tremaining: 10.6s\n",
      "218:\tlearn: 0.7792969\ttest: 0.7754379\tbest: 0.7766991 (135)\ttotal: 28.9s\tremaining: 10.4s\n",
      "219:\tlearn: 0.7792613\ttest: 0.7754459\tbest: 0.7766991 (135)\ttotal: 29s\tremaining: 10.3s\n",
      "220:\tlearn: 0.7792181\ttest: 0.7751434\tbest: 0.7766991 (135)\ttotal: 29.1s\tremaining: 10.2s\n",
      "221:\tlearn: 0.7793159\ttest: 0.7755331\tbest: 0.7766991 (135)\ttotal: 29.3s\tremaining: 10s\n",
      "222:\tlearn: 0.7793219\ttest: 0.7753418\tbest: 0.7766991 (135)\ttotal: 29.4s\tremaining: 9.89s\n",
      "223:\tlearn: 0.7792808\ttest: 0.7752786\tbest: 0.7766991 (135)\ttotal: 29.5s\tremaining: 9.76s\n",
      "224:\tlearn: 0.7793601\ttest: 0.7752786\tbest: 0.7766991 (135)\ttotal: 29.7s\tremaining: 9.62s\n",
      "225:\tlearn: 0.7794859\ttest: 0.7753738\tbest: 0.7766991 (135)\ttotal: 29.8s\tremaining: 9.49s\n",
      "226:\tlearn: 0.7797317\ttest: 0.7752947\tbest: 0.7766991 (135)\ttotal: 29.9s\tremaining: 9.36s\n",
      "227:\tlearn: 0.7798821\ttest: 0.7756293\tbest: 0.7766991 (135)\ttotal: 30s\tremaining: 9.22s\n",
      "228:\tlearn: 0.7798310\ttest: 0.7753828\tbest: 0.7766991 (135)\ttotal: 30.2s\tremaining: 9.09s\n",
      "229:\tlearn: 0.7799694\ttest: 0.7752155\tbest: 0.7766991 (135)\ttotal: 30.3s\tremaining: 8.96s\n",
      "230:\tlearn: 0.7800285\ttest: 0.7756052\tbest: 0.7766991 (135)\ttotal: 30.5s\tremaining: 8.84s\n",
      "231:\tlearn: 0.7800836\ttest: 0.7752867\tbest: 0.7766991 (135)\ttotal: 30.6s\tremaining: 8.71s\n",
      "232:\tlearn: 0.7800836\ttest: 0.7754219\tbest: 0.7766991 (135)\ttotal: 30.8s\tremaining: 8.58s\n",
      "233:\tlearn: 0.7801413\ttest: 0.7754139\tbest: 0.7766991 (135)\ttotal: 30.9s\tremaining: 8.45s\n",
      "234:\tlearn: 0.7802756\ttest: 0.7751594\tbest: 0.7766991 (135)\ttotal: 31s\tremaining: 8.31s\n",
      "235:\tlearn: 0.7803768\ttest: 0.7750241\tbest: 0.7766991 (135)\ttotal: 31.1s\tremaining: 8.18s\n",
      "236:\tlearn: 0.7804339\ttest: 0.7750562\tbest: 0.7766991 (135)\ttotal: 31.2s\tremaining: 8.04s\n",
      "237:\tlearn: 0.7805151\ttest: 0.7754149\tbest: 0.7766991 (135)\ttotal: 31.4s\tremaining: 7.9s\n",
      "238:\tlearn: 0.7804466\ttest: 0.7755742\tbest: 0.7766991 (135)\ttotal: 31.5s\tremaining: 7.77s\n",
      "239:\tlearn: 0.7804130\ttest: 0.7755662\tbest: 0.7766991 (135)\ttotal: 31.6s\tremaining: 7.64s\n",
      "240:\tlearn: 0.7803533\ttest: 0.7751995\tbest: 0.7766991 (135)\ttotal: 31.8s\tremaining: 7.53s\n",
      "241:\tlearn: 0.7803553\ttest: 0.7751995\tbest: 0.7766991 (135)\ttotal: 32s\tremaining: 7.41s\n",
      "242:\tlearn: 0.7802916\ttest: 0.7757324\tbest: 0.7766991 (135)\ttotal: 32.2s\tremaining: 7.28s\n",
      "243:\tlearn: 0.7802916\ttest: 0.7757324\tbest: 0.7766991 (135)\ttotal: 32.3s\tremaining: 7.14s\n",
      "244:\tlearn: 0.7803561\ttest: 0.7756923\tbest: 0.7766991 (135)\ttotal: 32.4s\tremaining: 7.01s\n",
      "245:\tlearn: 0.7801668\ttest: 0.7752466\tbest: 0.7766991 (135)\ttotal: 32.5s\tremaining: 6.88s\n",
      "246:\tlearn: 0.7801749\ttest: 0.7752466\tbest: 0.7766991 (135)\ttotal: 32.6s\tremaining: 6.74s\n",
      "247:\tlearn: 0.7802460\ttest: 0.7753898\tbest: 0.7766991 (135)\ttotal: 32.8s\tremaining: 6.61s\n",
      "248:\tlearn: 0.7802339\ttest: 0.7755411\tbest: 0.7766991 (135)\ttotal: 32.9s\tremaining: 6.48s\n",
      "249:\tlearn: 0.7802279\ttest: 0.7755411\tbest: 0.7766991 (135)\ttotal: 33s\tremaining: 6.34s\n",
      "250:\tlearn: 0.7804427\ttest: 0.7753337\tbest: 0.7766991 (135)\ttotal: 33.2s\tremaining: 6.21s\n",
      "251:\tlearn: 0.7804682\ttest: 0.7755721\tbest: 0.7766991 (135)\ttotal: 33.3s\tremaining: 6.07s\n",
      "252:\tlearn: 0.7804608\ttest: 0.7756602\tbest: 0.7766991 (135)\ttotal: 33.4s\tremaining: 5.94s\n",
      "253:\tlearn: 0.7804608\ttest: 0.7755251\tbest: 0.7766991 (135)\ttotal: 33.5s\tremaining: 5.8s\n",
      "254:\tlearn: 0.7803897\ttest: 0.7756362\tbest: 0.7766991 (135)\ttotal: 33.6s\tremaining: 5.67s\n",
      "255:\tlearn: 0.7803937\ttest: 0.7756442\tbest: 0.7766991 (135)\ttotal: 33.7s\tremaining: 5.53s\n",
      "256:\tlearn: 0.7804273\ttest: 0.7758103\tbest: 0.7766991 (135)\ttotal: 33.9s\tremaining: 5.4s\n",
      "257:\tlearn: 0.7804293\ttest: 0.7758103\tbest: 0.7766991 (135)\ttotal: 34s\tremaining: 5.27s\n",
      "258:\tlearn: 0.7805540\ttest: 0.7758664\tbest: 0.7766991 (135)\ttotal: 34.1s\tremaining: 5.14s\n",
      "259:\tlearn: 0.7806688\ttest: 0.7760015\tbest: 0.7766991 (135)\ttotal: 34.3s\tremaining: 5.01s\n",
      "260:\tlearn: 0.7806788\ttest: 0.7757553\tbest: 0.7766991 (135)\ttotal: 34.5s\tremaining: 4.88s\n",
      "261:\tlearn: 0.7806043\ttest: 0.7759065\tbest: 0.7766991 (135)\ttotal: 34.6s\tremaining: 4.75s\n",
      "262:\tlearn: 0.7806721\ttest: 0.7759614\tbest: 0.7766991 (135)\ttotal: 34.7s\tremaining: 4.62s\n",
      "263:\tlearn: 0.7806701\ttest: 0.7759614\tbest: 0.7766991 (135)\ttotal: 34.8s\tremaining: 4.49s\n",
      "264:\tlearn: 0.7805916\ttest: 0.7762315\tbest: 0.7766991 (135)\ttotal: 35s\tremaining: 4.35s\n",
      "265:\tlearn: 0.7806171\ttest: 0.7762154\tbest: 0.7766991 (135)\ttotal: 35.1s\tremaining: 4.22s\n",
      "266:\tlearn: 0.7806352\ttest: 0.7764613\tbest: 0.7766991 (135)\ttotal: 35.2s\tremaining: 4.08s\n",
      "267:\tlearn: 0.7806392\ttest: 0.7764613\tbest: 0.7766991 (135)\ttotal: 35.3s\tremaining: 3.95s\n",
      "268:\tlearn: 0.7806184\ttest: 0.7756030\tbest: 0.7766991 (135)\ttotal: 35.4s\tremaining: 3.82s\n",
      "269:\tlearn: 0.7806184\ttest: 0.7756030\tbest: 0.7766991 (135)\ttotal: 35.6s\tremaining: 3.69s\n",
      "270:\tlearn: 0.7806881\ttest: 0.7757782\tbest: 0.7766991 (135)\ttotal: 35.7s\tremaining: 3.56s\n",
      "271:\tlearn: 0.7806049\ttest: 0.7759053\tbest: 0.7766991 (135)\ttotal: 35.8s\tremaining: 3.42s\n",
      "272:\tlearn: 0.7806707\ttest: 0.7759534\tbest: 0.7766991 (135)\ttotal: 36s\tremaining: 3.29s\n",
      "273:\tlearn: 0.7806827\ttest: 0.7759534\tbest: 0.7766991 (135)\ttotal: 36.1s\tremaining: 3.16s\n",
      "274:\tlearn: 0.7806807\ttest: 0.7759534\tbest: 0.7766991 (135)\ttotal: 36.2s\tremaining: 3.02s\n",
      "275:\tlearn: 0.7806827\ttest: 0.7759534\tbest: 0.7766991 (135)\ttotal: 36.3s\tremaining: 2.89s\n",
      "276:\tlearn: 0.7807633\ttest: 0.7757713\tbest: 0.7766991 (135)\ttotal: 36.4s\tremaining: 2.76s\n",
      "277:\tlearn: 0.7807874\ttest: 0.7756121\tbest: 0.7766991 (135)\ttotal: 36.5s\tremaining: 2.63s\n",
      "278:\tlearn: 0.7807693\ttest: 0.7756362\tbest: 0.7766991 (135)\ttotal: 36.6s\tremaining: 2.49s\n",
      "279:\tlearn: 0.7806076\ttest: 0.7753418\tbest: 0.7766991 (135)\ttotal: 36.8s\tremaining: 2.36s\n",
      "280:\tlearn: 0.7808713\ttest: 0.7751184\tbest: 0.7766991 (135)\ttotal: 36.9s\tremaining: 2.23s\n",
      "281:\tlearn: 0.7807835\ttest: 0.7758023\tbest: 0.7766991 (135)\ttotal: 37s\tremaining: 2.1s\n",
      "282:\tlearn: 0.7808813\ttest: 0.7755320\tbest: 0.7766991 (135)\ttotal: 37.1s\tremaining: 1.97s\n",
      "283:\tlearn: 0.7808243\ttest: 0.7753568\tbest: 0.7766991 (135)\ttotal: 37.3s\tremaining: 1.84s\n",
      "284:\tlearn: 0.7808048\ttest: 0.7753968\tbest: 0.7766991 (135)\ttotal: 37.4s\tremaining: 1.71s\n",
      "285:\tlearn: 0.7808364\ttest: 0.7752616\tbest: 0.7766991 (135)\ttotal: 37.6s\tremaining: 1.58s\n",
      "286:\tlearn: 0.7808364\ttest: 0.7752616\tbest: 0.7766991 (135)\ttotal: 37.7s\tremaining: 1.45s\n",
      "287:\tlearn: 0.7808424\ttest: 0.7752536\tbest: 0.7766991 (135)\ttotal: 37.9s\tremaining: 1.31s\n",
      "288:\tlearn: 0.7808820\ttest: 0.7753888\tbest: 0.7766991 (135)\ttotal: 38s\tremaining: 1.18s\n",
      "289:\tlearn: 0.7809135\ttest: 0.7755721\tbest: 0.7766991 (135)\ttotal: 38.1s\tremaining: 1.05s\n",
      "290:\tlearn: 0.7809866\ttest: 0.7755641\tbest: 0.7766991 (135)\ttotal: 38.3s\tremaining: 921ms\n",
      "291:\tlearn: 0.7810242\ttest: 0.7751184\tbest: 0.7766991 (135)\ttotal: 38.4s\tremaining: 789ms\n",
      "292:\tlearn: 0.7809987\ttest: 0.7751024\tbest: 0.7766991 (135)\ttotal: 38.5s\tremaining: 658ms\n",
      "293:\tlearn: 0.7809356\ttest: 0.7752376\tbest: 0.7766991 (135)\ttotal: 38.6s\tremaining: 526ms\n",
      "294:\tlearn: 0.7809175\ttest: 0.7752536\tbest: 0.7766991 (135)\ttotal: 38.7s\tremaining: 394ms\n",
      "295:\tlearn: 0.7810436\ttest: 0.7753968\tbest: 0.7766991 (135)\ttotal: 38.9s\tremaining: 263ms\n",
      "296:\tlearn: 0.7809906\ttest: 0.7755721\tbest: 0.7766991 (135)\ttotal: 39s\tremaining: 131ms\n",
      "297:\tlearn: 0.7810436\ttest: 0.7754209\tbest: 0.7766991 (135)\ttotal: 39.1s\tremaining: 0us\n",
      "\n",
      "bestTest = 0.7766991115\n",
      "bestIteration = 135\n",
      "\n",
      "Training on fold [1/5]\n",
      "0:\tlearn: 0.6968787\ttest: 0.6939104\tbest: 0.6939104 (0)\ttotal: 127ms\tremaining: 37.8s\n",
      "1:\tlearn: 0.7441479\ttest: 0.7418969\tbest: 0.7418969 (1)\ttotal: 249ms\tremaining: 36.8s\n",
      "2:\tlearn: 0.7597829\ttest: 0.7573015\tbest: 0.7573015 (2)\ttotal: 369ms\tremaining: 36.2s\n",
      "3:\tlearn: 0.7621798\ttest: 0.7637272\tbest: 0.7637272 (3)\ttotal: 475ms\tremaining: 34.9s\n",
      "4:\tlearn: 0.7630596\ttest: 0.7616200\tbest: 0.7637272 (3)\ttotal: 574ms\tremaining: 33.6s\n",
      "5:\tlearn: 0.7637587\ttest: 0.7623597\tbest: 0.7637272 (3)\ttotal: 674ms\tremaining: 32.8s\n",
      "6:\tlearn: 0.7693114\ttest: 0.7671853\tbest: 0.7671853 (6)\ttotal: 801ms\tremaining: 33.3s\n",
      "7:\tlearn: 0.7710009\ttest: 0.7688841\tbest: 0.7688841 (7)\ttotal: 923ms\tremaining: 33.5s\n",
      "8:\tlearn: 0.7710210\ttest: 0.7691567\tbest: 0.7691567 (8)\ttotal: 1.04s\tremaining: 33.4s\n",
      "9:\tlearn: 0.7702916\ttest: 0.7684771\tbest: 0.7691567 (8)\ttotal: 1.18s\tremaining: 34s\n",
      "10:\tlearn: 0.7709867\ttest: 0.7696918\tbest: 0.7696918 (10)\ttotal: 1.27s\tremaining: 33.1s\n",
      "11:\tlearn: 0.7691740\ttest: 0.7680143\tbest: 0.7696918 (10)\ttotal: 1.38s\tremaining: 33s\n",
      "12:\tlearn: 0.7706912\ttest: 0.7691172\tbest: 0.7696918 (10)\ttotal: 1.5s\tremaining: 32.8s\n",
      "13:\tlearn: 0.7714044\ttest: 0.7697234\tbest: 0.7697234 (13)\ttotal: 1.6s\tremaining: 32.4s\n",
      "14:\tlearn: 0.7715091\ttest: 0.7695299\tbest: 0.7697234 (13)\ttotal: 1.72s\tremaining: 32.5s\n",
      "15:\tlearn: 0.7716500\ttest: 0.7693623\tbest: 0.7697234 (13)\ttotal: 1.84s\tremaining: 32.4s\n",
      "16:\tlearn: 0.7723012\ttest: 0.7690799\tbest: 0.7697234 (13)\ttotal: 1.98s\tremaining: 32.8s\n",
      "17:\tlearn: 0.7725795\ttest: 0.7693733\tbest: 0.7697234 (13)\ttotal: 2.12s\tremaining: 33s\n",
      "18:\tlearn: 0.7727310\ttest: 0.7695121\tbest: 0.7697234 (13)\ttotal: 2.21s\tremaining: 32.5s\n",
      "19:\tlearn: 0.7721642\ttest: 0.7699643\tbest: 0.7699643 (19)\ttotal: 2.32s\tremaining: 32.3s\n",
      "20:\tlearn: 0.7717450\ttest: 0.7705908\tbest: 0.7705908 (20)\ttotal: 2.46s\tremaining: 32.4s\n",
      "21:\tlearn: 0.7720630\ttest: 0.7703931\tbest: 0.7705908 (20)\ttotal: 2.59s\tremaining: 32.5s\n",
      "22:\tlearn: 0.7722063\ttest: 0.7705114\tbest: 0.7705908 (20)\ttotal: 2.71s\tremaining: 32.4s\n",
      "23:\tlearn: 0.7722162\ttest: 0.7709494\tbest: 0.7709494 (23)\ttotal: 2.85s\tremaining: 32.6s\n",
      "24:\tlearn: 0.7722837\ttest: 0.7705038\tbest: 0.7709494 (23)\ttotal: 2.94s\tremaining: 32.1s\n",
      "25:\tlearn: 0.7723869\ttest: 0.7711721\tbest: 0.7711721 (25)\ttotal: 3.13s\tremaining: 32.8s\n",
      "26:\tlearn: 0.7727179\ttest: 0.7700470\tbest: 0.7711721 (25)\ttotal: 3.27s\tremaining: 32.8s\n",
      "27:\tlearn: 0.7720441\ttest: 0.7703068\tbest: 0.7711721 (25)\ttotal: 3.41s\tremaining: 32.9s\n",
      "28:\tlearn: 0.7720263\ttest: 0.7699861\tbest: 0.7711721 (25)\ttotal: 3.52s\tremaining: 32.7s\n",
      "29:\tlearn: 0.7721500\ttest: 0.7690339\tbest: 0.7711721 (25)\ttotal: 3.64s\tremaining: 32.5s\n",
      "30:\tlearn: 0.7723456\ttest: 0.7691375\tbest: 0.7711721 (25)\ttotal: 3.71s\tremaining: 32s\n",
      "31:\tlearn: 0.7725252\ttest: 0.7697373\tbest: 0.7711721 (25)\ttotal: 3.87s\tremaining: 32.2s\n",
      "32:\tlearn: 0.7726446\ttest: 0.7696183\tbest: 0.7711721 (25)\ttotal: 3.98s\tremaining: 32s\n",
      "33:\tlearn: 0.7728315\ttest: 0.7696600\tbest: 0.7711721 (25)\ttotal: 4.12s\tremaining: 32s\n",
      "34:\tlearn: 0.7732946\ttest: 0.7701887\tbest: 0.7711721 (25)\ttotal: 4.23s\tremaining: 31.8s\n",
      "35:\tlearn: 0.7730147\ttest: 0.7701127\tbest: 0.7711721 (25)\ttotal: 4.36s\tremaining: 31.7s\n",
      "36:\tlearn: 0.7729726\ttest: 0.7704913\tbest: 0.7711721 (25)\ttotal: 4.49s\tremaining: 31.7s\n",
      "37:\tlearn: 0.7733495\ttest: 0.7702590\tbest: 0.7711721 (25)\ttotal: 4.63s\tremaining: 31.7s\n",
      "38:\tlearn: 0.7734728\ttest: 0.7702829\tbest: 0.7711721 (25)\ttotal: 4.78s\tremaining: 31.7s\n",
      "39:\tlearn: 0.7735345\ttest: 0.7700992\tbest: 0.7711721 (25)\ttotal: 4.93s\tremaining: 31.8s\n",
      "40:\tlearn: 0.7735094\ttest: 0.7704723\tbest: 0.7711721 (25)\ttotal: 5.04s\tremaining: 31.6s\n",
      "41:\tlearn: 0.7737111\ttest: 0.7702736\tbest: 0.7711721 (25)\ttotal: 5.15s\tremaining: 31.4s\n",
      "42:\tlearn: 0.7734334\ttest: 0.7701596\tbest: 0.7711721 (25)\ttotal: 5.24s\tremaining: 31.1s\n",
      "43:\tlearn: 0.7739821\ttest: 0.7698484\tbest: 0.7711721 (25)\ttotal: 5.41s\tremaining: 31.2s\n",
      "44:\tlearn: 0.7737054\ttest: 0.7706796\tbest: 0.7711721 (25)\ttotal: 5.5s\tremaining: 30.9s\n",
      "45:\tlearn: 0.7742740\ttest: 0.7700218\tbest: 0.7711721 (25)\ttotal: 5.6s\tremaining: 30.7s\n",
      "46:\tlearn: 0.7739854\ttest: 0.7702789\tbest: 0.7711721 (25)\ttotal: 5.71s\tremaining: 30.5s\n",
      "47:\tlearn: 0.7739953\ttest: 0.7700942\tbest: 0.7711721 (25)\ttotal: 5.82s\tremaining: 30.3s\n",
      "48:\tlearn: 0.7741289\ttest: 0.7705350\tbest: 0.7711721 (25)\ttotal: 5.96s\tremaining: 30.3s\n",
      "49:\tlearn: 0.7742057\ttest: 0.7705274\tbest: 0.7711721 (25)\ttotal: 6.08s\tremaining: 30.1s\n",
      "50:\tlearn: 0.7741436\ttest: 0.7702381\tbest: 0.7711721 (25)\ttotal: 6.22s\tremaining: 30.1s\n",
      "51:\tlearn: 0.7745050\ttest: 0.7705844\tbest: 0.7711721 (25)\ttotal: 6.32s\tremaining: 29.9s\n",
      "52:\tlearn: 0.7749211\ttest: 0.7710489\tbest: 0.7711721 (25)\ttotal: 6.43s\tremaining: 29.7s\n",
      "53:\tlearn: 0.7747649\ttest: 0.7722471\tbest: 0.7722471 (53)\ttotal: 6.54s\tremaining: 29.6s\n",
      "54:\tlearn: 0.7752216\ttest: 0.7723268\tbest: 0.7723268 (54)\ttotal: 6.66s\tremaining: 29.4s\n",
      "55:\tlearn: 0.7753064\ttest: 0.7723987\tbest: 0.7723987 (55)\ttotal: 6.75s\tremaining: 29.2s\n",
      "56:\tlearn: 0.7754509\ttest: 0.7729803\tbest: 0.7729803 (56)\ttotal: 6.86s\tremaining: 29s\n",
      "57:\tlearn: 0.7756023\ttest: 0.7738564\tbest: 0.7738564 (57)\ttotal: 6.97s\tremaining: 28.8s\n",
      "58:\tlearn: 0.7756962\ttest: 0.7729886\tbest: 0.7738564 (57)\ttotal: 7.08s\tremaining: 28.7s\n",
      "59:\tlearn: 0.7756796\ttest: 0.7727652\tbest: 0.7738564 (57)\ttotal: 7.24s\tremaining: 28.7s\n",
      "60:\tlearn: 0.7756046\ttest: 0.7727016\tbest: 0.7738564 (57)\ttotal: 7.37s\tremaining: 28.6s\n",
      "61:\tlearn: 0.7756066\ttest: 0.7730286\tbest: 0.7738564 (57)\ttotal: 7.46s\tremaining: 28.4s\n",
      "62:\tlearn: 0.7753350\ttest: 0.7730838\tbest: 0.7738564 (57)\ttotal: 7.57s\tremaining: 28.2s\n",
      "63:\tlearn: 0.7755192\ttest: 0.7728531\tbest: 0.7738564 (57)\ttotal: 7.7s\tremaining: 28.2s\n",
      "64:\tlearn: 0.7753262\ttest: 0.7728851\tbest: 0.7738564 (57)\ttotal: 7.85s\tremaining: 28.1s\n",
      "65:\tlearn: 0.7750808\ttest: 0.7729404\tbest: 0.7738564 (57)\ttotal: 7.96s\tremaining: 28s\n",
      "66:\tlearn: 0.7753475\ttest: 0.7728768\tbest: 0.7738564 (57)\ttotal: 8.08s\tremaining: 27.9s\n",
      "67:\tlearn: 0.7755177\ttest: 0.7732032\tbest: 0.7738564 (57)\ttotal: 8.22s\tremaining: 27.8s\n",
      "68:\tlearn: 0.7755680\ttest: 0.7735299\tbest: 0.7738564 (57)\ttotal: 8.33s\tremaining: 27.6s\n",
      "69:\tlearn: 0.7757750\ttest: 0.7735529\tbest: 0.7738564 (57)\ttotal: 8.44s\tremaining: 27.5s\n",
      "70:\tlearn: 0.7758330\ttest: 0.7734895\tbest: 0.7738564 (57)\ttotal: 8.56s\tremaining: 27.4s\n",
      "71:\tlearn: 0.7759423\ttest: 0.7732344\tbest: 0.7738564 (57)\ttotal: 8.68s\tremaining: 27.3s\n",
      "72:\tlearn: 0.7761545\ttest: 0.7732743\tbest: 0.7738564 (57)\ttotal: 8.83s\tremaining: 27.2s\n",
      "73:\tlearn: 0.7763098\ttest: 0.7729241\tbest: 0.7738564 (57)\ttotal: 8.98s\tremaining: 27.2s\n",
      "74:\tlearn: 0.7761237\ttest: 0.7732108\tbest: 0.7738564 (57)\ttotal: 9.13s\tremaining: 27.1s\n",
      "75:\tlearn: 0.7762123\ttest: 0.7732344\tbest: 0.7738564 (57)\ttotal: 9.27s\tremaining: 27.1s\n",
      "76:\tlearn: 0.7764447\ttest: 0.7735369\tbest: 0.7738564 (57)\ttotal: 9.37s\tremaining: 26.9s\n",
      "77:\tlearn: 0.7762935\ttest: 0.7733537\tbest: 0.7738564 (57)\ttotal: 9.55s\tremaining: 26.9s\n",
      "78:\tlearn: 0.7763426\ttest: 0.7727006\tbest: 0.7738564 (57)\ttotal: 9.64s\tremaining: 26.7s\n",
      "79:\tlearn: 0.7763566\ttest: 0.7727565\tbest: 0.7738564 (57)\ttotal: 9.78s\tremaining: 26.6s\n",
      "80:\tlearn: 0.7765088\ttest: 0.7725093\tbest: 0.7738564 (57)\ttotal: 9.89s\tremaining: 26.5s\n",
      "81:\tlearn: 0.7765973\ttest: 0.7729231\tbest: 0.7738564 (57)\ttotal: 10s\tremaining: 26.4s\n",
      "82:\tlearn: 0.7764961\ttest: 0.7730185\tbest: 0.7738564 (57)\ttotal: 10.2s\tremaining: 26.4s\n",
      "83:\tlearn: 0.7765556\ttest: 0.7731697\tbest: 0.7738564 (57)\ttotal: 10.3s\tremaining: 26.3s\n",
      "84:\tlearn: 0.7765165\ttest: 0.7736397\tbest: 0.7738564 (57)\ttotal: 10.4s\tremaining: 26.1s\n",
      "85:\tlearn: 0.7765222\ttest: 0.7736317\tbest: 0.7738564 (57)\ttotal: 10.5s\tremaining: 25.9s\n",
      "86:\tlearn: 0.7764477\ttest: 0.7738547\tbest: 0.7738564 (57)\ttotal: 10.6s\tremaining: 25.8s\n",
      "87:\tlearn: 0.7764090\ttest: 0.7734331\tbest: 0.7738564 (57)\ttotal: 10.7s\tremaining: 25.6s\n",
      "88:\tlearn: 0.7767244\ttest: 0.7730744\tbest: 0.7738564 (57)\ttotal: 10.9s\tremaining: 25.5s\n",
      "89:\tlearn: 0.7767665\ttest: 0.7731701\tbest: 0.7738564 (57)\ttotal: 11s\tremaining: 25.5s\n",
      "90:\tlearn: 0.7767685\ttest: 0.7731701\tbest: 0.7738564 (57)\ttotal: 11.2s\tremaining: 25.4s\n",
      "91:\tlearn: 0.7767922\ttest: 0.7734167\tbest: 0.7738564 (57)\ttotal: 11.3s\tremaining: 25.3s\n",
      "92:\tlearn: 0.7770172\ttest: 0.7731378\tbest: 0.7738564 (57)\ttotal: 11.4s\tremaining: 25.2s\n",
      "93:\tlearn: 0.7770917\ttest: 0.7729551\tbest: 0.7738564 (57)\ttotal: 11.6s\tremaining: 25.1s\n",
      "94:\tlearn: 0.7769850\ttest: 0.7730668\tbest: 0.7738564 (57)\ttotal: 11.7s\tremaining: 24.9s\n",
      "95:\tlearn: 0.7770491\ttest: 0.7735045\tbest: 0.7738564 (57)\ttotal: 11.8s\tremaining: 24.8s\n",
      "96:\tlearn: 0.7770604\ttest: 0.7730983\tbest: 0.7738564 (57)\ttotal: 11.9s\tremaining: 24.7s\n",
      "97:\tlearn: 0.7773134\ttest: 0.7737190\tbest: 0.7738564 (57)\ttotal: 12s\tremaining: 24.5s\n",
      "98:\tlearn: 0.7778107\ttest: 0.7735519\tbest: 0.7738564 (57)\ttotal: 12.1s\tremaining: 24.4s\n",
      "99:\tlearn: 0.7775875\ttest: 0.7731223\tbest: 0.7738564 (57)\ttotal: 12.2s\tremaining: 24.2s\n",
      "100:\tlearn: 0.7772012\ttest: 0.7732571\tbest: 0.7738564 (57)\ttotal: 12.3s\tremaining: 24.1s\n",
      "101:\tlearn: 0.7772172\ttest: 0.7732731\tbest: 0.7738564 (57)\ttotal: 12.4s\tremaining: 23.9s\n",
      "102:\tlearn: 0.7774152\ttest: 0.7724535\tbest: 0.7738564 (57)\ttotal: 12.5s\tremaining: 23.7s\n",
      "103:\tlearn: 0.7774918\ttest: 0.7726208\tbest: 0.7738564 (57)\ttotal: 12.6s\tremaining: 23.6s\n",
      "104:\tlearn: 0.7774918\ttest: 0.7726128\tbest: 0.7738564 (57)\ttotal: 12.8s\tremaining: 23.5s\n",
      "105:\tlearn: 0.7777724\ttest: 0.7727325\tbest: 0.7738564 (57)\ttotal: 12.9s\tremaining: 23.3s\n",
      "106:\tlearn: 0.7776538\ttest: 0.7732024\tbest: 0.7738564 (57)\ttotal: 13s\tremaining: 23.2s\n",
      "107:\tlearn: 0.7774806\ttest: 0.7727325\tbest: 0.7738564 (57)\ttotal: 13.1s\tremaining: 23.1s\n",
      "108:\tlearn: 0.7773298\ttest: 0.7730112\tbest: 0.7738564 (57)\ttotal: 13.2s\tremaining: 22.9s\n",
      "109:\tlearn: 0.7773286\ttest: 0.7730189\tbest: 0.7738564 (57)\ttotal: 13.3s\tremaining: 22.8s\n",
      "110:\tlearn: 0.7775090\ttest: 0.7727482\tbest: 0.7738564 (57)\ttotal: 13.4s\tremaining: 22.7s\n",
      "111:\tlearn: 0.7774280\ttest: 0.7728440\tbest: 0.7738564 (57)\ttotal: 13.6s\tremaining: 22.5s\n",
      "112:\tlearn: 0.7775226\ttest: 0.7729634\tbest: 0.7738564 (57)\ttotal: 13.7s\tremaining: 22.4s\n",
      "113:\tlearn: 0.7776280\ttest: 0.7731067\tbest: 0.7738564 (57)\ttotal: 13.8s\tremaining: 22.3s\n",
      "114:\tlearn: 0.7776381\ttest: 0.7731226\tbest: 0.7738564 (57)\ttotal: 13.9s\tremaining: 22.1s\n",
      "115:\tlearn: 0.7775964\ttest: 0.7728200\tbest: 0.7738564 (57)\ttotal: 14.1s\tremaining: 22.1s\n",
      "116:\tlearn: 0.7775964\ttest: 0.7728200\tbest: 0.7738564 (57)\ttotal: 14.2s\tremaining: 21.9s\n",
      "117:\tlearn: 0.7776441\ttest: 0.7727961\tbest: 0.7738564 (57)\ttotal: 14.3s\tremaining: 21.8s\n",
      "118:\tlearn: 0.7777531\ttest: 0.7724058\tbest: 0.7738564 (57)\ttotal: 14.5s\tremaining: 21.8s\n",
      "119:\tlearn: 0.7776726\ttest: 0.7728915\tbest: 0.7738564 (57)\ttotal: 14.6s\tremaining: 21.7s\n",
      "120:\tlearn: 0.7777711\ttest: 0.7729634\tbest: 0.7738564 (57)\ttotal: 14.7s\tremaining: 21.5s\n",
      "121:\tlearn: 0.7776741\ttest: 0.7729314\tbest: 0.7738564 (57)\ttotal: 14.9s\tremaining: 21.5s\n",
      "122:\tlearn: 0.7778565\ttest: 0.7728120\tbest: 0.7738564 (57)\ttotal: 15.1s\tremaining: 21.4s\n",
      "123:\tlearn: 0.7776025\ttest: 0.7727804\tbest: 0.7738564 (57)\ttotal: 15.2s\tremaining: 21.3s\n",
      "124:\tlearn: 0.7777111\ttest: 0.7725811\tbest: 0.7738564 (57)\ttotal: 15.3s\tremaining: 21.2s\n",
      "125:\tlearn: 0.7776694\ttest: 0.7724537\tbest: 0.7738564 (57)\ttotal: 15.5s\tremaining: 21.1s\n",
      "126:\tlearn: 0.7778886\ttest: 0.7729318\tbest: 0.7738564 (57)\ttotal: 15.6s\tremaining: 21s\n",
      "127:\tlearn: 0.7780506\ttest: 0.7726692\tbest: 0.7738564 (57)\ttotal: 15.7s\tremaining: 20.8s\n",
      "128:\tlearn: 0.7781696\ttest: 0.7725496\tbest: 0.7738564 (57)\ttotal: 15.8s\tremaining: 20.7s\n",
      "129:\tlearn: 0.7781972\ttest: 0.7725257\tbest: 0.7738564 (57)\ttotal: 15.9s\tremaining: 20.6s\n",
      "130:\tlearn: 0.7781520\ttest: 0.7722866\tbest: 0.7738564 (57)\ttotal: 16s\tremaining: 20.5s\n",
      "131:\tlearn: 0.7781560\ttest: 0.7722866\tbest: 0.7738564 (57)\ttotal: 16.2s\tremaining: 20.3s\n",
      "132:\tlearn: 0.7780947\ttest: 0.7723025\tbest: 0.7738564 (57)\ttotal: 16.3s\tremaining: 20.2s\n",
      "133:\tlearn: 0.7782393\ttest: 0.7722945\tbest: 0.7738564 (57)\ttotal: 16.4s\tremaining: 20.1s\n",
      "134:\tlearn: 0.7782097\ttest: 0.7724381\tbest: 0.7738564 (57)\ttotal: 16.6s\tremaining: 20s\n",
      "135:\tlearn: 0.7781208\ttest: 0.7720712\tbest: 0.7738564 (57)\ttotal: 16.7s\tremaining: 19.9s\n",
      "136:\tlearn: 0.7781635\ttest: 0.7717361\tbest: 0.7738564 (57)\ttotal: 16.8s\tremaining: 19.7s\n",
      "137:\tlearn: 0.7782400\ttest: 0.7723982\tbest: 0.7738564 (57)\ttotal: 16.9s\tremaining: 19.6s\n",
      "138:\tlearn: 0.7781089\ttest: 0.7723822\tbest: 0.7738564 (57)\ttotal: 17.1s\tremaining: 19.5s\n",
      "139:\tlearn: 0.7781038\ttest: 0.7723902\tbest: 0.7738564 (57)\ttotal: 17.2s\tremaining: 19.4s\n",
      "140:\tlearn: 0.7781058\ttest: 0.7722626\tbest: 0.7738564 (57)\ttotal: 17.3s\tremaining: 19.3s\n",
      "141:\tlearn: 0.7781691\ttest: 0.7725417\tbest: 0.7738564 (57)\ttotal: 17.4s\tremaining: 19.1s\n",
      "142:\tlearn: 0.7782028\ttest: 0.7723822\tbest: 0.7738564 (57)\ttotal: 17.6s\tremaining: 19s\n",
      "143:\tlearn: 0.7784188\ttest: 0.7721828\tbest: 0.7738564 (57)\ttotal: 17.7s\tremaining: 18.9s\n",
      "144:\tlearn: 0.7783676\ttest: 0.7722147\tbest: 0.7738564 (57)\ttotal: 17.8s\tremaining: 18.8s\n",
      "145:\tlearn: 0.7784032\ttest: 0.7723742\tbest: 0.7738564 (57)\ttotal: 17.9s\tremaining: 18.7s\n",
      "146:\tlearn: 0.7784920\ttest: 0.7725257\tbest: 0.7738564 (57)\ttotal: 18.1s\tremaining: 18.6s\n",
      "147:\tlearn: 0.7785041\ttest: 0.7723902\tbest: 0.7738564 (57)\ttotal: 18.2s\tremaining: 18.5s\n",
      "148:\tlearn: 0.7784293\ttest: 0.7724301\tbest: 0.7738564 (57)\ttotal: 18.4s\tremaining: 18.4s\n",
      "149:\tlearn: 0.7783836\ttest: 0.7723822\tbest: 0.7738564 (57)\ttotal: 18.5s\tremaining: 18.2s\n",
      "150:\tlearn: 0.7783399\ttest: 0.7723582\tbest: 0.7738564 (57)\ttotal: 18.6s\tremaining: 18.1s\n",
      "151:\tlearn: 0.7783159\ttest: 0.7722944\tbest: 0.7738564 (57)\ttotal: 18.7s\tremaining: 18s\n",
      "152:\tlearn: 0.7783967\ttest: 0.7725893\tbest: 0.7738564 (57)\ttotal: 18.8s\tremaining: 17.8s\n",
      "153:\tlearn: 0.7785808\ttest: 0.7722864\tbest: 0.7738564 (57)\ttotal: 19s\tremaining: 17.7s\n",
      "154:\tlearn: 0.7784393\ttest: 0.7727248\tbest: 0.7738564 (57)\ttotal: 19.1s\tremaining: 17.6s\n",
      "155:\tlearn: 0.7783509\ttest: 0.7726452\tbest: 0.7738564 (57)\ttotal: 19.2s\tremaining: 17.5s\n",
      "156:\tlearn: 0.7783112\ttest: 0.7725576\tbest: 0.7738564 (57)\ttotal: 19.3s\tremaining: 17.3s\n",
      "157:\tlearn: 0.7784529\ttest: 0.7726612\tbest: 0.7738564 (57)\ttotal: 19.4s\tremaining: 17.2s\n",
      "158:\tlearn: 0.7784654\ttest: 0.7726293\tbest: 0.7738564 (57)\ttotal: 19.5s\tremaining: 17.1s\n",
      "159:\tlearn: 0.7785070\ttest: 0.7726372\tbest: 0.7738564 (57)\ttotal: 19.6s\tremaining: 16.9s\n",
      "160:\tlearn: 0.7785070\ttest: 0.7726532\tbest: 0.7738564 (57)\ttotal: 19.7s\tremaining: 16.8s\n",
      "161:\tlearn: 0.7785903\ttest: 0.7722466\tbest: 0.7738564 (57)\ttotal: 19.9s\tremaining: 16.7s\n",
      "162:\tlearn: 0.7785106\ttest: 0.7724618\tbest: 0.7738564 (57)\ttotal: 20s\tremaining: 16.6s\n",
      "163:\tlearn: 0.7785954\ttest: 0.7723343\tbest: 0.7738564 (57)\ttotal: 20.2s\tremaining: 16.5s\n",
      "164:\tlearn: 0.7786074\ttest: 0.7723503\tbest: 0.7738564 (57)\ttotal: 20.6s\tremaining: 16.6s\n",
      "165:\tlearn: 0.7784845\ttest: 0.7724858\tbest: 0.7738564 (57)\ttotal: 21s\tremaining: 16.7s\n",
      "166:\tlearn: 0.7785883\ttest: 0.7723822\tbest: 0.7738564 (57)\ttotal: 21.4s\tremaining: 16.8s\n",
      "167:\tlearn: 0.7785527\ttest: 0.7723902\tbest: 0.7738564 (57)\ttotal: 21.5s\tremaining: 16.7s\n",
      "168:\tlearn: 0.7785507\ttest: 0.7723902\tbest: 0.7738564 (57)\ttotal: 21.8s\tremaining: 16.6s\n",
      "169:\tlearn: 0.7787173\ttest: 0.7724940\tbest: 0.7738564 (57)\ttotal: 21.9s\tremaining: 16.5s\n",
      "170:\tlearn: 0.7787469\ttest: 0.7726452\tbest: 0.7738564 (57)\ttotal: 22s\tremaining: 16.4s\n",
      "171:\tlearn: 0.7785803\ttest: 0.7724061\tbest: 0.7738564 (57)\ttotal: 22.2s\tremaining: 16.2s\n",
      "172:\tlearn: 0.7785768\ttest: 0.7724221\tbest: 0.7738564 (57)\ttotal: 22.3s\tremaining: 16.1s\n",
      "173:\tlearn: 0.7788010\ttest: 0.7721749\tbest: 0.7738564 (57)\ttotal: 22.4s\tremaining: 16s\n",
      "174:\tlearn: 0.7786906\ttest: 0.7723504\tbest: 0.7738564 (57)\ttotal: 22.5s\tremaining: 15.8s\n",
      "175:\tlearn: 0.7787469\ttest: 0.7724141\tbest: 0.7738564 (57)\ttotal: 22.6s\tremaining: 15.7s\n",
      "176:\tlearn: 0.7788056\ttest: 0.7725496\tbest: 0.7738564 (57)\ttotal: 22.8s\tremaining: 15.6s\n",
      "177:\tlearn: 0.7788036\ttest: 0.7725496\tbest: 0.7738564 (57)\ttotal: 22.9s\tremaining: 15.4s\n",
      "178:\tlearn: 0.7788036\ttest: 0.7725496\tbest: 0.7738564 (57)\ttotal: 23s\tremaining: 15.3s\n",
      "179:\tlearn: 0.7788893\ttest: 0.7725337\tbest: 0.7738564 (57)\ttotal: 23.2s\tremaining: 15.2s\n",
      "180:\tlearn: 0.7788497\ttest: 0.7727727\tbest: 0.7738564 (57)\ttotal: 23.3s\tremaining: 15.1s\n",
      "181:\tlearn: 0.7786400\ttest: 0.7725736\tbest: 0.7738564 (57)\ttotal: 23.4s\tremaining: 14.9s\n",
      "182:\tlearn: 0.7789009\ttest: 0.7725337\tbest: 0.7738564 (57)\ttotal: 23.5s\tremaining: 14.8s\n",
      "183:\tlearn: 0.7789580\ttest: 0.7725975\tbest: 0.7738564 (57)\ttotal: 23.7s\tremaining: 14.7s\n",
      "184:\tlearn: 0.7789751\ttest: 0.7723345\tbest: 0.7738564 (57)\ttotal: 23.8s\tremaining: 14.6s\n",
      "185:\tlearn: 0.7788728\ttest: 0.7723504\tbest: 0.7738564 (57)\ttotal: 24s\tremaining: 14.4s\n",
      "186:\tlearn: 0.7790348\ttest: 0.7723345\tbest: 0.7738564 (57)\ttotal: 24.1s\tremaining: 14.3s\n",
      "187:\tlearn: 0.7791592\ttest: 0.7723504\tbest: 0.7738564 (57)\ttotal: 24.3s\tremaining: 14.2s\n",
      "188:\tlearn: 0.7792229\ttest: 0.7722627\tbest: 0.7738564 (57)\ttotal: 24.4s\tremaining: 14.1s\n",
      "189:\tlearn: 0.7791988\ttest: 0.7723185\tbest: 0.7738564 (57)\ttotal: 24.5s\tremaining: 13.9s\n",
      "190:\tlearn: 0.7794675\ttest: 0.7721590\tbest: 0.7738564 (57)\ttotal: 24.7s\tremaining: 13.8s\n",
      "191:\tlearn: 0.7795608\ttest: 0.7721829\tbest: 0.7738564 (57)\ttotal: 24.8s\tremaining: 13.7s\n",
      "192:\tlearn: 0.7794480\ttest: 0.7722308\tbest: 0.7738564 (57)\ttotal: 24.9s\tremaining: 13.6s\n",
      "193:\tlearn: 0.7792574\ttest: 0.7723584\tbest: 0.7738564 (57)\ttotal: 25.1s\tremaining: 13.5s\n",
      "194:\tlearn: 0.7794460\ttest: 0.7721271\tbest: 0.7738564 (57)\ttotal: 25.3s\tremaining: 13.3s\n",
      "195:\tlearn: 0.7796923\ttest: 0.7723104\tbest: 0.7738564 (57)\ttotal: 25.4s\tremaining: 13.2s\n",
      "196:\tlearn: 0.7794104\ttest: 0.7723185\tbest: 0.7738564 (57)\ttotal: 25.6s\tremaining: 13.1s\n",
      "197:\tlearn: 0.7794104\ttest: 0.7723185\tbest: 0.7738564 (57)\ttotal: 25.7s\tremaining: 13s\n",
      "198:\tlearn: 0.7794285\ttest: 0.7721989\tbest: 0.7738564 (57)\ttotal: 25.9s\tremaining: 12.9s\n",
      "199:\tlearn: 0.7793633\ttest: 0.7720553\tbest: 0.7738564 (57)\ttotal: 26s\tremaining: 12.7s\n",
      "200:\tlearn: 0.7794285\ttest: 0.7720553\tbest: 0.7738564 (57)\ttotal: 26.1s\tremaining: 12.6s\n",
      "201:\tlearn: 0.7794224\ttest: 0.7720633\tbest: 0.7738564 (57)\ttotal: 26.2s\tremaining: 12.5s\n",
      "202:\tlearn: 0.7794856\ttest: 0.7721909\tbest: 0.7738564 (57)\ttotal: 26.4s\tremaining: 12.3s\n",
      "203:\tlearn: 0.7797212\ttest: 0.7719994\tbest: 0.7738564 (57)\ttotal: 26.5s\tremaining: 12.2s\n",
      "204:\tlearn: 0.7797837\ttest: 0.7722307\tbest: 0.7738564 (57)\ttotal: 26.6s\tremaining: 12.1s\n",
      "205:\tlearn: 0.7797172\ttest: 0.7716722\tbest: 0.7738564 (57)\ttotal: 26.7s\tremaining: 11.9s\n",
      "206:\tlearn: 0.7797252\ttest: 0.7718159\tbest: 0.7738564 (57)\ttotal: 26.9s\tremaining: 11.8s\n",
      "207:\tlearn: 0.7797413\ttest: 0.7721111\tbest: 0.7738564 (57)\ttotal: 27s\tremaining: 11.7s\n",
      "208:\tlearn: 0.7796821\ttest: 0.7721031\tbest: 0.7738564 (57)\ttotal: 27.1s\tremaining: 11.6s\n",
      "209:\tlearn: 0.7796070\ttest: 0.7720313\tbest: 0.7738564 (57)\ttotal: 27.2s\tremaining: 11.4s\n",
      "210:\tlearn: 0.7795750\ttest: 0.7717201\tbest: 0.7738564 (57)\ttotal: 27.3s\tremaining: 11.3s\n",
      "211:\tlearn: 0.7796347\ttest: 0.7719037\tbest: 0.7738564 (57)\ttotal: 27.5s\tremaining: 11.1s\n",
      "212:\tlearn: 0.7796373\ttest: 0.7721829\tbest: 0.7738564 (57)\ttotal: 27.6s\tremaining: 11s\n",
      "213:\tlearn: 0.7795942\ttest: 0.7722069\tbest: 0.7738564 (57)\ttotal: 27.7s\tremaining: 10.9s\n",
      "214:\tlearn: 0.7795000\ttest: 0.7725019\tbest: 0.7738564 (57)\ttotal: 27.8s\tremaining: 10.7s\n",
      "215:\tlearn: 0.7794699\ttest: 0.7724700\tbest: 0.7738564 (57)\ttotal: 27.9s\tremaining: 10.6s\n",
      "216:\tlearn: 0.7794268\ttest: 0.7723744\tbest: 0.7738564 (57)\ttotal: 28.1s\tremaining: 10.5s\n",
      "217:\tlearn: 0.7794288\ttest: 0.7723664\tbest: 0.7738564 (57)\ttotal: 28.3s\tremaining: 10.4s\n",
      "218:\tlearn: 0.7794353\ttest: 0.7724063\tbest: 0.7738564 (57)\ttotal: 28.4s\tremaining: 10.2s\n",
      "219:\tlearn: 0.7793802\ttest: 0.7721990\tbest: 0.7738564 (57)\ttotal: 28.5s\tremaining: 10.1s\n",
      "220:\tlearn: 0.7794218\ttest: 0.7720873\tbest: 0.7738564 (57)\ttotal: 28.6s\tremaining: 9.97s\n",
      "221:\tlearn: 0.7794328\ttest: 0.7721750\tbest: 0.7738564 (57)\ttotal: 28.7s\tremaining: 9.84s\n",
      "222:\tlearn: 0.7793255\ttest: 0.7718558\tbest: 0.7738564 (57)\ttotal: 28.8s\tremaining: 9.7s\n",
      "223:\tlearn: 0.7791775\ttest: 0.7719037\tbest: 0.7738564 (57)\ttotal: 28.9s\tremaining: 9.56s\n",
      "224:\tlearn: 0.7792905\ttest: 0.7720155\tbest: 0.7738564 (57)\ttotal: 29.1s\tremaining: 9.45s\n",
      "225:\tlearn: 0.7793166\ttest: 0.7717680\tbest: 0.7738564 (57)\ttotal: 29.2s\tremaining: 9.31s\n",
      "226:\tlearn: 0.7793381\ttest: 0.7717919\tbest: 0.7738564 (57)\ttotal: 29.3s\tremaining: 9.18s\n",
      "227:\tlearn: 0.7793736\ttest: 0.7719436\tbest: 0.7738564 (57)\ttotal: 29.4s\tremaining: 9.04s\n",
      "228:\tlearn: 0.7795559\ttest: 0.7718079\tbest: 0.7738564 (57)\ttotal: 29.6s\tremaining: 8.9s\n",
      "229:\tlearn: 0.7795734\ttest: 0.7716322\tbest: 0.7738564 (57)\ttotal: 29.7s\tremaining: 8.77s\n",
      "230:\tlearn: 0.7793507\ttest: 0.7717759\tbest: 0.7738564 (57)\ttotal: 29.8s\tremaining: 8.63s\n",
      "231:\tlearn: 0.7793843\ttest: 0.7714723\tbest: 0.7738564 (57)\ttotal: 29.9s\tremaining: 8.51s\n",
      "232:\tlearn: 0.7794456\ttest: 0.7711125\tbest: 0.7738564 (57)\ttotal: 30s\tremaining: 8.38s\n",
      "233:\tlearn: 0.7795530\ttest: 0.7712564\tbest: 0.7738564 (57)\ttotal: 30.1s\tremaining: 8.24s\n",
      "234:\tlearn: 0.7795990\ttest: 0.7718638\tbest: 0.7738564 (57)\ttotal: 30.3s\tremaining: 8.11s\n",
      "235:\tlearn: 0.7797661\ttest: 0.7714005\tbest: 0.7738564 (57)\ttotal: 30.4s\tremaining: 7.98s\n",
      "236:\tlearn: 0.7797681\ttest: 0.7714084\tbest: 0.7738564 (57)\ttotal: 30.5s\tremaining: 7.85s\n",
      "237:\tlearn: 0.7797345\ttest: 0.7714963\tbest: 0.7738564 (57)\ttotal: 30.6s\tremaining: 7.72s\n",
      "238:\tlearn: 0.7798017\ttest: 0.7716561\tbest: 0.7738564 (57)\ttotal: 30.8s\tremaining: 7.6s\n",
      "239:\tlearn: 0.7798414\ttest: 0.7714883\tbest: 0.7738564 (57)\ttotal: 30.9s\tremaining: 7.48s\n",
      "240:\tlearn: 0.7798017\ttest: 0.7714563\tbest: 0.7738564 (57)\ttotal: 31.1s\tremaining: 7.36s\n",
      "241:\tlearn: 0.7797506\ttest: 0.7714803\tbest: 0.7738564 (57)\ttotal: 31.2s\tremaining: 7.23s\n",
      "242:\tlearn: 0.7795987\ttest: 0.7714323\tbest: 0.7738564 (57)\ttotal: 31.4s\tremaining: 7.11s\n",
      "243:\tlearn: 0.7795851\ttest: 0.7713203\tbest: 0.7738564 (57)\ttotal: 31.5s\tremaining: 6.98s\n",
      "244:\tlearn: 0.7796320\ttest: 0.7713364\tbest: 0.7738564 (57)\ttotal: 31.6s\tremaining: 6.84s\n",
      "245:\tlearn: 0.7796501\ttest: 0.7712405\tbest: 0.7738564 (57)\ttotal: 31.8s\tremaining: 6.72s\n",
      "246:\tlearn: 0.7797038\ttest: 0.7713923\tbest: 0.7738564 (57)\ttotal: 31.9s\tremaining: 6.59s\n",
      "247:\tlearn: 0.7797512\ttest: 0.7714484\tbest: 0.7738564 (57)\ttotal: 32s\tremaining: 6.46s\n",
      "248:\tlearn: 0.7797868\ttest: 0.7715283\tbest: 0.7738564 (57)\ttotal: 32.2s\tremaining: 6.33s\n",
      "249:\tlearn: 0.7796344\ttest: 0.7716402\tbest: 0.7738564 (57)\ttotal: 32.3s\tremaining: 6.2s\n",
      "250:\tlearn: 0.7796835\ttest: 0.7716322\tbest: 0.7738564 (57)\ttotal: 32.4s\tremaining: 6.08s\n",
      "251:\tlearn: 0.7796143\ttest: 0.7716402\tbest: 0.7738564 (57)\ttotal: 32.6s\tremaining: 5.95s\n",
      "252:\tlearn: 0.7794920\ttest: 0.7716402\tbest: 0.7738564 (57)\ttotal: 32.7s\tremaining: 5.82s\n",
      "253:\tlearn: 0.7795247\ttest: 0.7713605\tbest: 0.7738564 (57)\ttotal: 32.8s\tremaining: 5.68s\n",
      "254:\tlearn: 0.7796114\ttest: 0.7713446\tbest: 0.7738564 (57)\ttotal: 32.9s\tremaining: 5.55s\n",
      "255:\tlearn: 0.7796570\ttest: 0.7713366\tbest: 0.7738564 (57)\ttotal: 33.1s\tremaining: 5.42s\n",
      "256:\tlearn: 0.7796591\ttest: 0.7713765\tbest: 0.7738564 (57)\ttotal: 33.2s\tremaining: 5.3s\n",
      "257:\tlearn: 0.7796235\ttest: 0.7713605\tbest: 0.7738564 (57)\ttotal: 33.4s\tremaining: 5.17s\n",
      "258:\tlearn: 0.7799525\ttest: 0.7710808\tbest: 0.7738564 (57)\ttotal: 33.5s\tremaining: 5.04s\n",
      "259:\tlearn: 0.7799981\ttest: 0.7710808\tbest: 0.7738564 (57)\ttotal: 33.6s\tremaining: 4.91s\n",
      "260:\tlearn: 0.7799605\ttest: 0.7712406\tbest: 0.7738564 (57)\ttotal: 33.7s\tremaining: 4.78s\n",
      "261:\tlearn: 0.7801310\ttest: 0.7706410\tbest: 0.7738564 (57)\ttotal: 33.8s\tremaining: 4.65s\n",
      "262:\tlearn: 0.7801121\ttest: 0.7707291\tbest: 0.7738564 (57)\ttotal: 34s\tremaining: 4.52s\n",
      "263:\tlearn: 0.7800073\ttest: 0.7705688\tbest: 0.7738564 (57)\ttotal: 34.1s\tremaining: 4.39s\n",
      "264:\tlearn: 0.7800073\ttest: 0.7705688\tbest: 0.7738564 (57)\ttotal: 34.2s\tremaining: 4.26s\n",
      "265:\tlearn: 0.7800685\ttest: 0.7710967\tbest: 0.7738564 (57)\ttotal: 34.3s\tremaining: 4.13s\n",
      "266:\tlearn: 0.7800705\ttest: 0.7707208\tbest: 0.7738564 (57)\ttotal: 34.4s\tremaining: 4s\n",
      "267:\tlearn: 0.7800254\ttest: 0.7708488\tbest: 0.7738564 (57)\ttotal: 34.6s\tremaining: 3.87s\n",
      "268:\tlearn: 0.7800644\ttest: 0.7708568\tbest: 0.7738564 (57)\ttotal: 34.7s\tremaining: 3.74s\n",
      "269:\tlearn: 0.7800785\ttest: 0.7705129\tbest: 0.7738564 (57)\ttotal: 34.8s\tremaining: 3.61s\n",
      "270:\tlearn: 0.7801913\ttest: 0.7704890\tbest: 0.7738564 (57)\ttotal: 35s\tremaining: 3.48s\n",
      "271:\tlearn: 0.7804719\ttest: 0.7705927\tbest: 0.7738564 (57)\ttotal: 35.2s\tremaining: 3.37s\n",
      "272:\tlearn: 0.7803927\ttest: 0.7708408\tbest: 0.7738564 (57)\ttotal: 35.4s\tremaining: 3.24s\n",
      "273:\tlearn: 0.7804854\ttest: 0.7708089\tbest: 0.7738564 (57)\ttotal: 35.5s\tremaining: 3.11s\n",
      "274:\tlearn: 0.7805344\ttest: 0.7707770\tbest: 0.7738564 (57)\ttotal: 35.7s\tremaining: 2.99s\n",
      "275:\tlearn: 0.7805680\ttest: 0.7709129\tbest: 0.7738564 (57)\ttotal: 35.9s\tremaining: 2.86s\n",
      "276:\tlearn: 0.7807155\ttest: 0.7707690\tbest: 0.7738564 (57)\ttotal: 36.1s\tremaining: 2.74s\n",
      "277:\tlearn: 0.7806994\ttest: 0.7706091\tbest: 0.7738564 (57)\ttotal: 36.4s\tremaining: 2.62s\n",
      "278:\tlearn: 0.7806490\ttest: 0.7705768\tbest: 0.7738564 (57)\ttotal: 36.6s\tremaining: 2.49s\n",
      "279:\tlearn: 0.7806772\ttest: 0.7705688\tbest: 0.7738564 (57)\ttotal: 36.8s\tremaining: 2.36s\n",
      "280:\tlearn: 0.7807302\ttest: 0.7706889\tbest: 0.7738564 (57)\ttotal: 36.9s\tremaining: 2.23s\n",
      "281:\tlearn: 0.7808772\ttest: 0.7708408\tbest: 0.7738564 (57)\ttotal: 37.1s\tremaining: 2.1s\n",
      "282:\tlearn: 0.7809704\ttest: 0.7705608\tbest: 0.7738564 (57)\ttotal: 37.3s\tremaining: 1.97s\n",
      "283:\tlearn: 0.7810603\ttest: 0.7710087\tbest: 0.7738564 (57)\ttotal: 37.4s\tremaining: 1.84s\n",
      "284:\tlearn: 0.7809342\ttest: 0.7711766\tbest: 0.7738564 (57)\ttotal: 37.6s\tremaining: 1.71s\n",
      "285:\tlearn: 0.7809342\ttest: 0.7711766\tbest: 0.7738564 (57)\ttotal: 37.8s\tremaining: 1.59s\n",
      "286:\tlearn: 0.7811227\ttest: 0.7708970\tbest: 0.7738564 (57)\ttotal: 38s\tremaining: 1.46s\n",
      "287:\tlearn: 0.7811207\ttest: 0.7708970\tbest: 0.7738564 (57)\ttotal: 38.2s\tremaining: 1.32s\n",
      "288:\tlearn: 0.7811723\ttest: 0.7711049\tbest: 0.7738564 (57)\ttotal: 38.3s\tremaining: 1.19s\n",
      "289:\tlearn: 0.7810013\ttest: 0.7710010\tbest: 0.7738564 (57)\ttotal: 38.6s\tremaining: 1.06s\n",
      "290:\tlearn: 0.7809450\ttest: 0.7708491\tbest: 0.7738564 (57)\ttotal: 38.9s\tremaining: 935ms\n",
      "291:\tlearn: 0.7809014\ttest: 0.7708089\tbest: 0.7738564 (57)\ttotal: 39.1s\tremaining: 804ms\n",
      "292:\tlearn: 0.7809423\ttest: 0.7710010\tbest: 0.7738564 (57)\ttotal: 39.4s\tremaining: 672ms\n",
      "293:\tlearn: 0.7809154\ttest: 0.7710089\tbest: 0.7738564 (57)\ttotal: 39.6s\tremaining: 539ms\n",
      "294:\tlearn: 0.7810416\ttest: 0.7709930\tbest: 0.7738564 (57)\ttotal: 40s\tremaining: 406ms\n",
      "295:\tlearn: 0.7810811\ttest: 0.7708810\tbest: 0.7738564 (57)\ttotal: 40.2s\tremaining: 271ms\n",
      "296:\tlearn: 0.7810536\ttest: 0.7707610\tbest: 0.7738564 (57)\ttotal: 40.3s\tremaining: 136ms\n",
      "297:\tlearn: 0.7810261\ttest: 0.7707450\tbest: 0.7738564 (57)\ttotal: 40.5s\tremaining: 0us\n",
      "\n",
      "bestTest = 0.7738564373\n",
      "bestIteration = 57\n",
      "\n",
      "Training on fold [2/5]\n",
      "0:\tlearn: 0.6953158\ttest: 0.6983601\tbest: 0.6983601 (0)\ttotal: 131ms\tremaining: 38.9s\n",
      "1:\tlearn: 0.7435492\ttest: 0.7441996\tbest: 0.7441996 (1)\ttotal: 239ms\tremaining: 35.3s\n",
      "2:\tlearn: 0.7385646\ttest: 0.7374226\tbest: 0.7441996 (1)\ttotal: 361ms\tremaining: 35.5s\n",
      "3:\tlearn: 0.7576147\ttest: 0.7599719\tbest: 0.7599719 (3)\ttotal: 452ms\tremaining: 33.2s\n",
      "4:\tlearn: 0.7646106\ttest: 0.7690443\tbest: 0.7690443 (4)\ttotal: 553ms\tremaining: 32.4s\n",
      "5:\tlearn: 0.7623845\ttest: 0.7672634\tbest: 0.7690443 (4)\ttotal: 675ms\tremaining: 32.9s\n",
      "6:\tlearn: 0.7643391\ttest: 0.7715301\tbest: 0.7715301 (6)\ttotal: 766ms\tremaining: 31.8s\n",
      "7:\tlearn: 0.7655739\ttest: 0.7703584\tbest: 0.7715301 (6)\ttotal: 855ms\tremaining: 31s\n",
      "8:\tlearn: 0.7680519\ttest: 0.7728744\tbest: 0.7728744 (8)\ttotal: 971ms\tremaining: 31.2s\n",
      "9:\tlearn: 0.7674556\ttest: 0.7722226\tbest: 0.7728744 (8)\ttotal: 1.07s\tremaining: 30.9s\n",
      "10:\tlearn: 0.7679819\ttest: 0.7728132\tbest: 0.7728744 (8)\ttotal: 1.17s\tremaining: 30.6s\n",
      "11:\tlearn: 0.7692068\ttest: 0.7738250\tbest: 0.7738250 (11)\ttotal: 1.28s\tremaining: 30.6s\n",
      "12:\tlearn: 0.7696760\ttest: 0.7742594\tbest: 0.7742594 (12)\ttotal: 1.45s\tremaining: 31.8s\n",
      "13:\tlearn: 0.7696295\ttest: 0.7744620\tbest: 0.7744620 (13)\ttotal: 1.58s\tremaining: 32.2s\n",
      "14:\tlearn: 0.7689389\ttest: 0.7727519\tbest: 0.7744620 (13)\ttotal: 1.77s\tremaining: 33.5s\n",
      "15:\tlearn: 0.7690316\ttest: 0.7717998\tbest: 0.7744620 (13)\ttotal: 1.88s\tremaining: 33.1s\n",
      "16:\tlearn: 0.7696331\ttest: 0.7724957\tbest: 0.7744620 (13)\ttotal: 2s\tremaining: 33.1s\n",
      "17:\tlearn: 0.7702709\ttest: 0.7734279\tbest: 0.7744620 (13)\ttotal: 2.1s\tremaining: 32.7s\n",
      "18:\tlearn: 0.7704763\ttest: 0.7730554\tbest: 0.7744620 (13)\ttotal: 2.22s\tremaining: 32.6s\n",
      "19:\tlearn: 0.7704258\ttest: 0.7737953\tbest: 0.7744620 (13)\ttotal: 2.31s\tremaining: 32.1s\n",
      "20:\tlearn: 0.7707024\ttest: 0.7730307\tbest: 0.7744620 (13)\ttotal: 2.42s\tremaining: 31.9s\n",
      "21:\tlearn: 0.7706617\ttest: 0.7730153\tbest: 0.7744620 (13)\ttotal: 2.56s\tremaining: 32.2s\n",
      "22:\tlearn: 0.7700976\ttest: 0.7730794\tbest: 0.7744620 (13)\ttotal: 2.68s\tremaining: 32.1s\n",
      "23:\tlearn: 0.7702128\ttest: 0.7732168\tbest: 0.7744620 (13)\ttotal: 2.78s\tremaining: 31.7s\n",
      "24:\tlearn: 0.7702421\ttest: 0.7733055\tbest: 0.7744620 (13)\ttotal: 2.88s\tremaining: 31.4s\n",
      "25:\tlearn: 0.7701544\ttest: 0.7737695\tbest: 0.7744620 (13)\ttotal: 3s\tremaining: 31.4s\n",
      "26:\tlearn: 0.7709506\ttest: 0.7730404\tbest: 0.7744620 (13)\ttotal: 3.14s\tremaining: 31.5s\n",
      "27:\tlearn: 0.7708436\ttest: 0.7729783\tbest: 0.7744620 (13)\ttotal: 3.26s\tremaining: 31.4s\n",
      "28:\tlearn: 0.7710157\ttest: 0.7733059\tbest: 0.7744620 (13)\ttotal: 3.38s\tremaining: 31.3s\n",
      "29:\tlearn: 0.7711410\ttest: 0.7723532\tbest: 0.7744620 (13)\ttotal: 3.51s\tremaining: 31.4s\n",
      "30:\tlearn: 0.7717567\ttest: 0.7732176\tbest: 0.7744620 (13)\ttotal: 3.63s\tremaining: 31.3s\n",
      "31:\tlearn: 0.7720599\ttest: 0.7736806\tbest: 0.7744620 (13)\ttotal: 3.75s\tremaining: 31.1s\n",
      "32:\tlearn: 0.7719900\ttest: 0.7740066\tbest: 0.7744620 (13)\ttotal: 3.85s\tremaining: 30.9s\n",
      "33:\tlearn: 0.7726848\ttest: 0.7735904\tbest: 0.7744620 (13)\ttotal: 3.93s\tremaining: 30.5s\n",
      "34:\tlearn: 0.7727757\ttest: 0.7733581\tbest: 0.7744620 (13)\ttotal: 4.06s\tremaining: 30.5s\n",
      "35:\tlearn: 0.7726191\ttest: 0.7738062\tbest: 0.7744620 (13)\ttotal: 4.16s\tremaining: 30.3s\n",
      "36:\tlearn: 0.7732519\ttest: 0.7738148\tbest: 0.7744620 (13)\ttotal: 4.27s\tremaining: 30.1s\n",
      "37:\tlearn: 0.7731984\ttest: 0.7729763\tbest: 0.7744620 (13)\ttotal: 4.38s\tremaining: 30s\n",
      "38:\tlearn: 0.7730230\ttest: 0.7730317\tbest: 0.7744620 (13)\ttotal: 4.46s\tremaining: 29.6s\n",
      "39:\tlearn: 0.7729857\ttest: 0.7725205\tbest: 0.7744620 (13)\ttotal: 4.54s\tremaining: 29.3s\n",
      "40:\tlearn: 0.7729161\ttest: 0.7722324\tbest: 0.7744620 (13)\ttotal: 4.7s\tremaining: 29.5s\n",
      "41:\tlearn: 0.7730018\ttest: 0.7726488\tbest: 0.7744620 (13)\ttotal: 4.83s\tremaining: 29.4s\n",
      "42:\tlearn: 0.7734356\ttest: 0.7721204\tbest: 0.7744620 (13)\ttotal: 4.94s\tremaining: 29.3s\n",
      "43:\tlearn: 0.7738109\ttest: 0.7723367\tbest: 0.7744620 (13)\ttotal: 5.05s\tremaining: 29.2s\n",
      "44:\tlearn: 0.7738977\ttest: 0.7729208\tbest: 0.7744620 (13)\ttotal: 5.15s\tremaining: 28.9s\n",
      "45:\tlearn: 0.7741443\ttest: 0.7730007\tbest: 0.7744620 (13)\ttotal: 5.27s\tremaining: 28.9s\n",
      "46:\tlearn: 0.7746517\ttest: 0.7727607\tbest: 0.7744620 (13)\ttotal: 5.39s\tremaining: 28.8s\n",
      "47:\tlearn: 0.7745017\ttest: 0.7730736\tbest: 0.7744620 (13)\ttotal: 5.5s\tremaining: 28.7s\n",
      "48:\tlearn: 0.7750077\ttest: 0.7736721\tbest: 0.7744620 (13)\ttotal: 5.61s\tremaining: 28.5s\n",
      "49:\tlearn: 0.7748754\ttest: 0.7738319\tbest: 0.7744620 (13)\ttotal: 5.72s\tremaining: 28.4s\n",
      "50:\tlearn: 0.7754016\ttest: 0.7742939\tbest: 0.7744620 (13)\ttotal: 5.83s\tremaining: 28.2s\n",
      "51:\tlearn: 0.7752028\ttest: 0.7739196\tbest: 0.7744620 (13)\ttotal: 5.92s\tremaining: 28s\n",
      "52:\tlearn: 0.7755613\ttest: 0.7747960\tbest: 0.7747960 (52)\ttotal: 6.01s\tremaining: 27.8s\n",
      "53:\tlearn: 0.7753422\ttest: 0.7744295\tbest: 0.7747960 (52)\ttotal: 6.13s\tremaining: 27.7s\n",
      "54:\tlearn: 0.7753422\ttest: 0.7747728\tbest: 0.7747960 (52)\ttotal: 6.23s\tremaining: 27.5s\n",
      "55:\tlearn: 0.7756640\ttest: 0.7751151\tbest: 0.7751151 (55)\ttotal: 6.33s\tremaining: 27.4s\n",
      "56:\tlearn: 0.7756651\ttest: 0.7749244\tbest: 0.7751151 (55)\ttotal: 6.45s\tremaining: 27.3s\n",
      "57:\tlearn: 0.7756742\ttest: 0.7748932\tbest: 0.7751151 (55)\ttotal: 6.57s\tremaining: 27.2s\n",
      "58:\tlearn: 0.7757579\ttest: 0.7753859\tbest: 0.7753859 (58)\ttotal: 6.7s\tremaining: 27.1s\n",
      "59:\tlearn: 0.7759113\ttest: 0.7754260\tbest: 0.7754260 (59)\ttotal: 6.92s\tremaining: 27.4s\n",
      "60:\tlearn: 0.7757676\ttest: 0.7763341\tbest: 0.7763341 (60)\ttotal: 7.09s\tremaining: 27.6s\n",
      "61:\tlearn: 0.7757542\ttest: 0.7772316\tbest: 0.7772316 (61)\ttotal: 7.21s\tremaining: 27.5s\n",
      "62:\tlearn: 0.7759441\ttest: 0.7769054\tbest: 0.7772316 (61)\ttotal: 7.36s\tremaining: 27.4s\n",
      "63:\tlearn: 0.7759869\ttest: 0.7773265\tbest: 0.7773265 (63)\ttotal: 7.48s\tremaining: 27.4s\n",
      "64:\tlearn: 0.7761271\ttest: 0.7767864\tbest: 0.7773265 (63)\ttotal: 7.57s\tremaining: 27.1s\n",
      "65:\tlearn: 0.7760797\ttest: 0.7765643\tbest: 0.7773265 (63)\ttotal: 7.69s\tremaining: 27s\n",
      "66:\tlearn: 0.7760797\ttest: 0.7765643\tbest: 0.7773265 (63)\ttotal: 7.79s\tremaining: 26.9s\n",
      "67:\tlearn: 0.7761677\ttest: 0.7760797\tbest: 0.7773265 (63)\ttotal: 7.91s\tremaining: 26.7s\n",
      "68:\tlearn: 0.7759033\ttest: 0.7765402\tbest: 0.7773265 (63)\ttotal: 8.03s\tremaining: 26.6s\n",
      "69:\tlearn: 0.7760164\ttest: 0.7764840\tbest: 0.7773265 (63)\ttotal: 8.12s\tremaining: 26.4s\n",
      "70:\tlearn: 0.7761354\ttest: 0.7764840\tbest: 0.7773265 (63)\ttotal: 8.23s\tremaining: 26.3s\n",
      "71:\tlearn: 0.7760699\ttest: 0.7760568\tbest: 0.7773265 (63)\ttotal: 8.34s\tremaining: 26.2s\n",
      "72:\tlearn: 0.7761442\ttest: 0.7765188\tbest: 0.7773265 (63)\ttotal: 8.44s\tremaining: 26s\n",
      "73:\tlearn: 0.7762797\ttest: 0.7767958\tbest: 0.7773265 (63)\ttotal: 8.59s\tremaining: 26s\n",
      "74:\tlearn: 0.7762737\ttest: 0.7767878\tbest: 0.7773265 (63)\ttotal: 8.71s\tremaining: 25.9s\n",
      "75:\tlearn: 0.7763004\ttest: 0.7764305\tbest: 0.7773265 (63)\ttotal: 8.85s\tremaining: 25.8s\n",
      "76:\tlearn: 0.7763004\ttest: 0.7764305\tbest: 0.7773265 (63)\ttotal: 8.97s\tremaining: 25.7s\n",
      "77:\tlearn: 0.7762754\ttest: 0.7766687\tbest: 0.7773265 (63)\ttotal: 9.1s\tremaining: 25.7s\n",
      "78:\tlearn: 0.7762851\ttest: 0.7764064\tbest: 0.7773265 (63)\ttotal: 9.21s\tremaining: 25.5s\n",
      "79:\tlearn: 0.7765968\ttest: 0.7768586\tbest: 0.7773265 (63)\ttotal: 9.35s\tremaining: 25.5s\n",
      "80:\tlearn: 0.7765908\ttest: 0.7768827\tbest: 0.7773265 (63)\ttotal: 9.48s\tremaining: 25.4s\n",
      "81:\tlearn: 0.7763120\ttest: 0.7767505\tbest: 0.7773265 (63)\ttotal: 9.62s\tremaining: 25.4s\n",
      "82:\tlearn: 0.7765218\ttest: 0.7772122\tbest: 0.7773265 (63)\ttotal: 9.77s\tremaining: 25.3s\n",
      "83:\tlearn: 0.7764555\ttest: 0.7770032\tbest: 0.7773265 (63)\ttotal: 9.91s\tremaining: 25.2s\n",
      "84:\tlearn: 0.7766981\ttest: 0.7781536\tbest: 0.7781536 (84)\ttotal: 10s\tremaining: 25.1s\n",
      "85:\tlearn: 0.7768474\ttest: 0.7776077\tbest: 0.7781536 (84)\ttotal: 10.2s\tremaining: 25.1s\n",
      "86:\tlearn: 0.7768534\ttest: 0.7776157\tbest: 0.7781536 (84)\ttotal: 10.3s\tremaining: 25s\n",
      "87:\tlearn: 0.7768494\ttest: 0.7776077\tbest: 0.7781536 (84)\ttotal: 10.4s\tremaining: 24.9s\n",
      "88:\tlearn: 0.7768474\ttest: 0.7776077\tbest: 0.7781536 (84)\ttotal: 10.6s\tremaining: 24.8s\n",
      "89:\tlearn: 0.7770686\ttest: 0.7778374\tbest: 0.7781536 (84)\ttotal: 10.7s\tremaining: 24.7s\n",
      "90:\tlearn: 0.7770666\ttest: 0.7778374\tbest: 0.7781536 (84)\ttotal: 10.8s\tremaining: 24.5s\n",
      "91:\tlearn: 0.7772692\ttest: 0.7775578\tbest: 0.7781536 (84)\ttotal: 10.9s\tremaining: 24.4s\n",
      "92:\tlearn: 0.7772872\ttest: 0.7779545\tbest: 0.7781536 (84)\ttotal: 11s\tremaining: 24.2s\n",
      "93:\tlearn: 0.7772163\ttest: 0.7773907\tbest: 0.7781536 (84)\ttotal: 11.1s\tremaining: 24.1s\n",
      "94:\tlearn: 0.7774237\ttest: 0.7774534\tbest: 0.7781536 (84)\ttotal: 11.2s\tremaining: 23.9s\n",
      "95:\tlearn: 0.7773020\ttest: 0.7773891\tbest: 0.7781536 (84)\ttotal: 11.3s\tremaining: 23.8s\n",
      "96:\tlearn: 0.7773080\ttest: 0.7774935\tbest: 0.7781536 (84)\ttotal: 11.4s\tremaining: 23.7s\n",
      "97:\tlearn: 0.7774801\ttest: 0.7775562\tbest: 0.7781536 (84)\ttotal: 11.5s\tremaining: 23.6s\n",
      "98:\tlearn: 0.7774545\ttest: 0.7776991\tbest: 0.7781536 (84)\ttotal: 11.7s\tremaining: 23.5s\n",
      "99:\tlearn: 0.7774461\ttest: 0.7776750\tbest: 0.7781536 (84)\ttotal: 11.8s\tremaining: 23.3s\n",
      "100:\tlearn: 0.7772095\ttest: 0.7777071\tbest: 0.7781536 (84)\ttotal: 11.9s\tremaining: 23.2s\n",
      "101:\tlearn: 0.7772715\ttest: 0.7776526\tbest: 0.7781536 (84)\ttotal: 12s\tremaining: 23.1s\n",
      "102:\tlearn: 0.7771429\ttest: 0.7777909\tbest: 0.7781536 (84)\ttotal: 12.1s\tremaining: 22.9s\n",
      "103:\tlearn: 0.7775349\ttest: 0.7785740\tbest: 0.7785740 (103)\ttotal: 12.3s\tremaining: 22.9s\n",
      "104:\tlearn: 0.7775585\ttest: 0.7785499\tbest: 0.7785740 (103)\ttotal: 12.4s\tremaining: 22.8s\n",
      "105:\tlearn: 0.7774036\ttest: 0.7783348\tbest: 0.7785740 (103)\ttotal: 12.5s\tremaining: 22.7s\n",
      "106:\tlearn: 0.7775585\ttest: 0.7781920\tbest: 0.7785740 (103)\ttotal: 12.6s\tremaining: 22.6s\n",
      "107:\tlearn: 0.7776946\ttest: 0.7777232\tbest: 0.7785740 (103)\ttotal: 12.8s\tremaining: 22.5s\n",
      "108:\tlearn: 0.7773404\ttest: 0.7781357\tbest: 0.7785740 (103)\ttotal: 12.9s\tremaining: 22.4s\n",
      "109:\tlearn: 0.7773404\ttest: 0.7777329\tbest: 0.7785740 (103)\ttotal: 13s\tremaining: 22.2s\n",
      "110:\tlearn: 0.7773564\ttest: 0.7777731\tbest: 0.7785740 (103)\ttotal: 13.2s\tremaining: 22.3s\n",
      "111:\tlearn: 0.7773564\ttest: 0.7777651\tbest: 0.7785740 (103)\ttotal: 13.3s\tremaining: 22.1s\n",
      "112:\tlearn: 0.7773424\ttest: 0.7778598\tbest: 0.7785740 (103)\ttotal: 13.4s\tremaining: 22s\n",
      "113:\tlearn: 0.7773620\ttest: 0.7779000\tbest: 0.7785740 (103)\ttotal: 13.6s\tremaining: 21.9s\n",
      "114:\tlearn: 0.7773015\ttest: 0.7787550\tbest: 0.7787550 (114)\ttotal: 13.7s\tremaining: 21.8s\n",
      "115:\tlearn: 0.7774861\ttest: 0.7782964\tbest: 0.7787550 (114)\ttotal: 13.8s\tremaining: 21.7s\n",
      "116:\tlearn: 0.7775141\ttest: 0.7783206\tbest: 0.7787550 (114)\ttotal: 14s\tremaining: 21.6s\n",
      "117:\tlearn: 0.7775121\ttest: 0.7783206\tbest: 0.7787550 (114)\ttotal: 14.1s\tremaining: 21.5s\n",
      "118:\tlearn: 0.7775718\ttest: 0.7782340\tbest: 0.7787550 (114)\ttotal: 14.2s\tremaining: 21.4s\n",
      "119:\tlearn: 0.7775766\ttest: 0.7784232\tbest: 0.7787550 (114)\ttotal: 14.4s\tremaining: 21.3s\n",
      "120:\tlearn: 0.7775877\ttest: 0.7785258\tbest: 0.7787550 (114)\ttotal: 14.5s\tremaining: 21.2s\n",
      "121:\tlearn: 0.7775882\ttest: 0.7784955\tbest: 0.7787550 (114)\ttotal: 14.6s\tremaining: 21.1s\n",
      "122:\tlearn: 0.7775726\ttest: 0.7786525\tbest: 0.7787550 (114)\ttotal: 14.7s\tremaining: 20.9s\n",
      "123:\tlearn: 0.7776122\ttest: 0.7786444\tbest: 0.7787550 (114)\ttotal: 14.9s\tremaining: 20.9s\n",
      "124:\tlearn: 0.7774677\ttest: 0.7788032\tbest: 0.7788032 (124)\ttotal: 15s\tremaining: 20.7s\n",
      "125:\tlearn: 0.7775245\ttest: 0.7788274\tbest: 0.7788274 (125)\ttotal: 15.1s\tremaining: 20.6s\n",
      "126:\tlearn: 0.7775245\ttest: 0.7788274\tbest: 0.7788274 (125)\ttotal: 15.2s\tremaining: 20.5s\n",
      "127:\tlearn: 0.7774853\ttest: 0.7788434\tbest: 0.7788434 (127)\ttotal: 15.4s\tremaining: 20.5s\n",
      "128:\tlearn: 0.7775606\ttest: 0.7787972\tbest: 0.7788434 (127)\ttotal: 15.6s\tremaining: 20.5s\n",
      "129:\tlearn: 0.7776134\ttest: 0.7789560\tbest: 0.7789560 (129)\ttotal: 15.8s\tremaining: 20.4s\n",
      "130:\tlearn: 0.7776034\ttest: 0.7789480\tbest: 0.7789560 (129)\ttotal: 15.9s\tremaining: 20.3s\n",
      "131:\tlearn: 0.7776747\ttest: 0.7789560\tbest: 0.7789560 (129)\ttotal: 16s\tremaining: 20.2s\n",
      "132:\tlearn: 0.7776666\ttest: 0.7789399\tbest: 0.7789560 (129)\ttotal: 16.2s\tremaining: 20s\n",
      "133:\tlearn: 0.7778743\ttest: 0.7786142\tbest: 0.7789560 (129)\ttotal: 16.3s\tremaining: 19.9s\n",
      "134:\tlearn: 0.7777955\ttest: 0.7787972\tbest: 0.7789560 (129)\ttotal: 16.4s\tremaining: 19.8s\n",
      "135:\tlearn: 0.7777975\ttest: 0.7787891\tbest: 0.7789560 (129)\ttotal: 16.5s\tremaining: 19.7s\n",
      "136:\tlearn: 0.7778051\ttest: 0.7790344\tbest: 0.7790344 (136)\ttotal: 16.6s\tremaining: 19.5s\n",
      "137:\tlearn: 0.7778663\ttest: 0.7790103\tbest: 0.7790344 (136)\ttotal: 16.7s\tremaining: 19.4s\n",
      "138:\tlearn: 0.7779732\ttest: 0.7788676\tbest: 0.7790344 (136)\ttotal: 16.9s\tremaining: 19.3s\n",
      "139:\tlearn: 0.7779264\ttest: 0.7789560\tbest: 0.7790344 (136)\ttotal: 17s\tremaining: 19.2s\n",
      "140:\tlearn: 0.7778420\ttest: 0.7789641\tbest: 0.7790344 (136)\ttotal: 17.2s\tremaining: 19.1s\n",
      "141:\tlearn: 0.7778525\ttest: 0.7789962\tbest: 0.7790344 (136)\ttotal: 17.3s\tremaining: 19s\n",
      "142:\tlearn: 0.7778656\ttest: 0.7788676\tbest: 0.7790344 (136)\ttotal: 17.4s\tremaining: 18.8s\n",
      "143:\tlearn: 0.7778532\ttest: 0.7785821\tbest: 0.7790344 (136)\ttotal: 17.5s\tremaining: 18.7s\n",
      "144:\tlearn: 0.7778812\ttest: 0.7785740\tbest: 0.7790344 (136)\ttotal: 17.6s\tremaining: 18.6s\n",
      "145:\tlearn: 0.7779357\ttest: 0.7787429\tbest: 0.7790344 (136)\ttotal: 17.8s\tremaining: 18.5s\n",
      "146:\tlearn: 0.7781394\ttest: 0.7785296\tbest: 0.7790344 (136)\ttotal: 17.9s\tremaining: 18.4s\n",
      "147:\tlearn: 0.7779393\ttest: 0.7783707\tbest: 0.7790344 (136)\ttotal: 18.1s\tremaining: 18.3s\n",
      "148:\tlearn: 0.7778776\ttest: 0.7783001\tbest: 0.7790344 (136)\ttotal: 18.2s\tremaining: 18.2s\n",
      "149:\tlearn: 0.7780537\ttest: 0.7780545\tbest: 0.7790344 (136)\ttotal: 18.4s\tremaining: 18.1s\n",
      "150:\tlearn: 0.7781721\ttest: 0.7781331\tbest: 0.7790344 (136)\ttotal: 18.5s\tremaining: 18s\n",
      "151:\tlearn: 0.7780366\ttest: 0.7779356\tbest: 0.7790344 (136)\ttotal: 18.6s\tremaining: 17.9s\n",
      "152:\tlearn: 0.7781574\ttest: 0.7779919\tbest: 0.7790344 (136)\ttotal: 18.7s\tremaining: 17.8s\n",
      "153:\tlearn: 0.7781183\ttest: 0.7780321\tbest: 0.7790344 (136)\ttotal: 18.9s\tremaining: 17.7s\n",
      "154:\tlearn: 0.7784899\ttest: 0.7784994\tbest: 0.7790344 (136)\ttotal: 19s\tremaining: 17.5s\n",
      "155:\tlearn: 0.7785194\ttest: 0.7784994\tbest: 0.7790344 (136)\ttotal: 19.1s\tremaining: 17.4s\n",
      "156:\tlearn: 0.7780098\ttest: 0.7783967\tbest: 0.7790344 (136)\ttotal: 19.2s\tremaining: 17.3s\n",
      "157:\tlearn: 0.7780118\ttest: 0.7784047\tbest: 0.7790344 (136)\ttotal: 19.4s\tremaining: 17.2s\n",
      "158:\tlearn: 0.7782346\ttest: 0.7784672\tbest: 0.7790344 (136)\ttotal: 19.5s\tremaining: 17s\n",
      "159:\tlearn: 0.7782346\ttest: 0.7784672\tbest: 0.7790344 (136)\ttotal: 19.7s\tremaining: 16.9s\n",
      "160:\tlearn: 0.7782326\ttest: 0.7784672\tbest: 0.7790344 (136)\ttotal: 19.8s\tremaining: 16.9s\n",
      "161:\tlearn: 0.7781550\ttest: 0.7784431\tbest: 0.7790344 (136)\ttotal: 19.9s\tremaining: 16.7s\n",
      "162:\tlearn: 0.7782787\ttest: 0.7783484\tbest: 0.7790344 (136)\ttotal: 20s\tremaining: 16.6s\n",
      "163:\tlearn: 0.7781688\ttest: 0.7781188\tbest: 0.7790344 (136)\ttotal: 20.2s\tremaining: 16.5s\n",
      "164:\tlearn: 0.7779907\ttest: 0.7781349\tbest: 0.7790344 (136)\ttotal: 20.3s\tremaining: 16.4s\n",
      "165:\tlearn: 0.7782213\ttest: 0.7781715\tbest: 0.7790344 (136)\ttotal: 20.4s\tremaining: 16.2s\n",
      "166:\tlearn: 0.7783125\ttest: 0.7783063\tbest: 0.7790344 (136)\ttotal: 20.5s\tremaining: 16.1s\n",
      "167:\tlearn: 0.7783948\ttest: 0.7785579\tbest: 0.7790344 (136)\ttotal: 20.6s\tremaining: 16s\n",
      "168:\tlearn: 0.7784599\ttest: 0.7786705\tbest: 0.7790344 (136)\ttotal: 20.8s\tremaining: 15.8s\n",
      "169:\tlearn: 0.7784063\ttest: 0.7785036\tbest: 0.7790344 (136)\ttotal: 20.9s\tremaining: 15.8s\n",
      "170:\tlearn: 0.7784379\ttest: 0.7784955\tbest: 0.7790344 (136)\ttotal: 21s\tremaining: 15.6s\n",
      "171:\tlearn: 0.7782248\ttest: 0.7783849\tbest: 0.7790344 (136)\ttotal: 21.1s\tremaining: 15.5s\n",
      "172:\tlearn: 0.7783932\ttest: 0.7785740\tbest: 0.7790344 (136)\ttotal: 21.2s\tremaining: 15.4s\n",
      "173:\tlearn: 0.7784544\ttest: 0.7785981\tbest: 0.7790344 (136)\ttotal: 21.4s\tremaining: 15.2s\n",
      "174:\tlearn: 0.7786724\ttest: 0.7783688\tbest: 0.7790344 (136)\ttotal: 21.5s\tremaining: 15.1s\n",
      "175:\tlearn: 0.7784277\ttest: 0.7781956\tbest: 0.7790344 (136)\ttotal: 21.6s\tremaining: 15s\n",
      "176:\tlearn: 0.7785185\ttest: 0.7782742\tbest: 0.7790344 (136)\ttotal: 21.7s\tremaining: 14.9s\n",
      "177:\tlearn: 0.7784117\ttest: 0.7782822\tbest: 0.7790344 (136)\ttotal: 21.9s\tremaining: 14.8s\n",
      "178:\tlearn: 0.7784473\ttest: 0.7782742\tbest: 0.7790344 (136)\ttotal: 22s\tremaining: 14.6s\n",
      "179:\tlearn: 0.7784137\ttest: 0.7782742\tbest: 0.7790344 (136)\ttotal: 22.1s\tremaining: 14.5s\n",
      "180:\tlearn: 0.7784488\ttest: 0.7784010\tbest: 0.7790344 (136)\ttotal: 22.2s\tremaining: 14.4s\n",
      "181:\tlearn: 0.7784528\ttest: 0.7783929\tbest: 0.7790344 (136)\ttotal: 22.3s\tremaining: 14.2s\n",
      "182:\tlearn: 0.7785240\ttest: 0.7784010\tbest: 0.7790344 (136)\ttotal: 22.4s\tremaining: 14.1s\n",
      "183:\tlearn: 0.7784508\ttest: 0.7779884\tbest: 0.7790344 (136)\ttotal: 22.6s\tremaining: 14s\n",
      "184:\tlearn: 0.7786889\ttest: 0.7769485\tbest: 0.7790344 (136)\ttotal: 22.7s\tremaining: 13.9s\n",
      "185:\tlearn: 0.7787310\ttest: 0.7769404\tbest: 0.7790344 (136)\ttotal: 22.8s\tremaining: 13.7s\n",
      "186:\tlearn: 0.7786728\ttest: 0.7769003\tbest: 0.7790344 (136)\ttotal: 22.9s\tremaining: 13.6s\n",
      "187:\tlearn: 0.7786889\ttest: 0.7769083\tbest: 0.7790344 (136)\ttotal: 23.1s\tremaining: 13.5s\n",
      "188:\tlearn: 0.7787921\ttest: 0.7767892\tbest: 0.7790344 (136)\ttotal: 23.2s\tremaining: 13.4s\n",
      "189:\tlearn: 0.7787941\ttest: 0.7768053\tbest: 0.7790344 (136)\ttotal: 23.4s\tremaining: 13.3s\n",
      "190:\tlearn: 0.7787545\ttest: 0.7768053\tbest: 0.7790344 (136)\ttotal: 23.5s\tremaining: 13.2s\n",
      "191:\tlearn: 0.7788036\ttest: 0.7768922\tbest: 0.7790344 (136)\ttotal: 23.7s\tremaining: 13.1s\n",
      "192:\tlearn: 0.7788056\ttest: 0.7768922\tbest: 0.7790344 (136)\ttotal: 23.8s\tremaining: 13s\n",
      "193:\tlearn: 0.7788056\ttest: 0.7768922\tbest: 0.7790344 (136)\ttotal: 24s\tremaining: 12.8s\n",
      "194:\tlearn: 0.7787029\ttest: 0.7772026\tbest: 0.7790344 (136)\ttotal: 24.1s\tremaining: 12.7s\n",
      "195:\tlearn: 0.7785330\ttest: 0.7774261\tbest: 0.7790344 (136)\ttotal: 24.2s\tremaining: 12.6s\n",
      "196:\tlearn: 0.7786066\ttest: 0.7773537\tbest: 0.7790344 (136)\ttotal: 24.3s\tremaining: 12.5s\n",
      "197:\tlearn: 0.7784527\ttest: 0.7773778\tbest: 0.7790344 (136)\ttotal: 24.4s\tremaining: 12.3s\n",
      "198:\tlearn: 0.7784467\ttest: 0.7773377\tbest: 0.7790344 (136)\ttotal: 24.6s\tremaining: 12.2s\n",
      "199:\tlearn: 0.7784211\ttest: 0.7773135\tbest: 0.7790344 (136)\ttotal: 24.7s\tremaining: 12.1s\n",
      "200:\tlearn: 0.7785666\ttest: 0.7768842\tbest: 0.7790344 (136)\ttotal: 24.9s\tremaining: 12s\n",
      "201:\tlearn: 0.7785154\ttest: 0.7769404\tbest: 0.7790344 (136)\ttotal: 25s\tremaining: 11.9s\n",
      "202:\tlearn: 0.7784603\ttest: 0.7772428\tbest: 0.7790344 (136)\ttotal: 25.2s\tremaining: 11.8s\n",
      "203:\tlearn: 0.7784663\ttest: 0.7776398\tbest: 0.7790344 (136)\ttotal: 25.3s\tremaining: 11.7s\n",
      "204:\tlearn: 0.7784652\ttest: 0.7774261\tbest: 0.7790344 (136)\ttotal: 25.4s\tremaining: 11.5s\n",
      "205:\tlearn: 0.7787174\ttest: 0.7776318\tbest: 0.7790344 (136)\ttotal: 25.6s\tremaining: 11.4s\n",
      "206:\tlearn: 0.7786683\ttest: 0.7775112\tbest: 0.7790344 (136)\ttotal: 25.7s\tremaining: 11.3s\n",
      "207:\tlearn: 0.7786964\ttest: 0.7773843\tbest: 0.7790344 (136)\ttotal: 25.8s\tremaining: 11.2s\n",
      "208:\tlearn: 0.7787796\ttest: 0.7772412\tbest: 0.7790344 (136)\ttotal: 25.9s\tremaining: 11s\n",
      "209:\tlearn: 0.7786849\ttest: 0.7772653\tbest: 0.7790344 (136)\ttotal: 26.1s\tremaining: 10.9s\n",
      "210:\tlearn: 0.7786909\ttest: 0.7769550\tbest: 0.7790344 (136)\ttotal: 26.2s\tremaining: 10.8s\n",
      "211:\tlearn: 0.7786909\ttest: 0.7769550\tbest: 0.7790344 (136)\ttotal: 26.3s\tremaining: 10.7s\n",
      "212:\tlearn: 0.7789058\ttest: 0.7770740\tbest: 0.7790344 (136)\ttotal: 26.4s\tremaining: 10.6s\n",
      "213:\tlearn: 0.7788547\ttest: 0.7769631\tbest: 0.7790344 (136)\ttotal: 26.6s\tremaining: 10.4s\n",
      "214:\tlearn: 0.7788552\ttest: 0.7769791\tbest: 0.7790344 (136)\ttotal: 26.7s\tremaining: 10.3s\n",
      "215:\tlearn: 0.7788036\ttest: 0.7769711\tbest: 0.7790344 (136)\ttotal: 26.8s\tremaining: 10.2s\n",
      "216:\tlearn: 0.7787936\ttest: 0.7769390\tbest: 0.7790344 (136)\ttotal: 27s\tremaining: 10.1s\n",
      "217:\tlearn: 0.7789193\ttest: 0.7774068\tbest: 0.7790344 (136)\ttotal: 27.1s\tremaining: 9.96s\n",
      "218:\tlearn: 0.7789193\ttest: 0.7774068\tbest: 0.7790344 (136)\ttotal: 27.3s\tremaining: 9.84s\n",
      "219:\tlearn: 0.7790416\ttest: 0.7771529\tbest: 0.7790344 (136)\ttotal: 27.4s\tremaining: 9.72s\n",
      "220:\tlearn: 0.7792354\ttest: 0.7772011\tbest: 0.7790344 (136)\ttotal: 27.5s\tremaining: 9.59s\n",
      "221:\tlearn: 0.7790676\ttest: 0.7770821\tbest: 0.7790344 (136)\ttotal: 27.6s\tremaining: 9.46s\n",
      "222:\tlearn: 0.7791458\ttest: 0.7772011\tbest: 0.7790344 (136)\ttotal: 27.8s\tremaining: 9.34s\n",
      "223:\tlearn: 0.7792760\ttest: 0.7773441\tbest: 0.7790344 (136)\ttotal: 27.9s\tremaining: 9.21s\n",
      "224:\tlearn: 0.7792760\ttest: 0.7773441\tbest: 0.7790344 (136)\ttotal: 28s\tremaining: 9.08s\n",
      "225:\tlearn: 0.7791853\ttest: 0.7772332\tbest: 0.7790344 (136)\ttotal: 28.1s\tremaining: 8.96s\n",
      "226:\tlearn: 0.7790601\ttest: 0.7775980\tbest: 0.7790344 (136)\ttotal: 28.2s\tremaining: 8.83s\n",
      "227:\tlearn: 0.7790761\ttest: 0.7775900\tbest: 0.7790344 (136)\ttotal: 28.4s\tremaining: 8.73s\n",
      "228:\tlearn: 0.7789960\ttest: 0.7777329\tbest: 0.7790344 (136)\ttotal: 28.6s\tremaining: 8.6s\n",
      "229:\tlearn: 0.7789624\ttest: 0.7776060\tbest: 0.7790344 (136)\ttotal: 28.7s\tremaining: 8.48s\n",
      "230:\tlearn: 0.7789665\ttest: 0.7776060\tbest: 0.7790344 (136)\ttotal: 28.8s\tremaining: 8.37s\n",
      "231:\tlearn: 0.7788637\ttest: 0.7775739\tbest: 0.7790344 (136)\ttotal: 29s\tremaining: 8.24s\n",
      "232:\tlearn: 0.7788637\ttest: 0.7775739\tbest: 0.7790344 (136)\ttotal: 29.1s\tremaining: 8.12s\n",
      "233:\tlearn: 0.7787640\ttest: 0.7777249\tbest: 0.7790344 (136)\ttotal: 29.2s\tremaining: 7.99s\n",
      "234:\tlearn: 0.7789770\ttest: 0.7777329\tbest: 0.7790344 (136)\ttotal: 29.4s\tremaining: 7.88s\n",
      "235:\tlearn: 0.7789204\ttest: 0.7774711\tbest: 0.7790344 (136)\ttotal: 29.5s\tremaining: 7.74s\n",
      "236:\tlearn: 0.7788988\ttest: 0.7773120\tbest: 0.7790344 (136)\ttotal: 29.6s\tremaining: 7.62s\n",
      "237:\tlearn: 0.7789008\ttest: 0.7773120\tbest: 0.7790344 (136)\ttotal: 29.7s\tremaining: 7.49s\n",
      "238:\tlearn: 0.7791067\ttest: 0.7775032\tbest: 0.7790344 (136)\ttotal: 29.8s\tremaining: 7.36s\n",
      "239:\tlearn: 0.7791268\ttest: 0.7776462\tbest: 0.7790344 (136)\ttotal: 29.9s\tremaining: 7.23s\n",
      "240:\tlearn: 0.7790536\ttest: 0.7773763\tbest: 0.7790344 (136)\ttotal: 30s\tremaining: 7.11s\n",
      "241:\tlearn: 0.7790617\ttest: 0.7773521\tbest: 0.7790344 (136)\ttotal: 30.2s\tremaining: 6.98s\n",
      "242:\tlearn: 0.7788908\ttest: 0.7776445\tbest: 0.7790344 (136)\ttotal: 30.3s\tremaining: 6.86s\n",
      "243:\tlearn: 0.7788437\ttest: 0.7774550\tbest: 0.7790344 (136)\ttotal: 30.4s\tremaining: 6.73s\n",
      "244:\tlearn: 0.7788512\ttest: 0.7773361\tbest: 0.7790344 (136)\ttotal: 30.5s\tremaining: 6.61s\n",
      "245:\tlearn: 0.7788748\ttest: 0.7773280\tbest: 0.7790344 (136)\ttotal: 30.7s\tremaining: 6.49s\n",
      "246:\tlearn: 0.7790486\ttest: 0.7774550\tbest: 0.7790344 (136)\ttotal: 30.8s\tremaining: 6.36s\n",
      "247:\tlearn: 0.7789815\ttest: 0.7775675\tbest: 0.7790344 (136)\ttotal: 30.9s\tremaining: 6.24s\n",
      "248:\tlearn: 0.7789324\ttest: 0.7773763\tbest: 0.7790344 (136)\ttotal: 31.1s\tremaining: 6.11s\n",
      "249:\tlearn: 0.7790135\ttest: 0.7776783\tbest: 0.7790344 (136)\ttotal: 31.2s\tremaining: 5.99s\n",
      "250:\tlearn: 0.7790852\ttest: 0.7772975\tbest: 0.7790344 (136)\ttotal: 31.3s\tremaining: 5.86s\n",
      "251:\tlearn: 0.7792109\ttest: 0.7777570\tbest: 0.7790344 (136)\ttotal: 31.4s\tremaining: 5.74s\n",
      "252:\tlearn: 0.7792029\ttest: 0.7777570\tbest: 0.7790344 (136)\ttotal: 31.6s\tremaining: 5.62s\n",
      "253:\tlearn: 0.7792324\ttest: 0.7777490\tbest: 0.7790344 (136)\ttotal: 31.7s\tremaining: 5.49s\n",
      "254:\tlearn: 0.7792344\ttest: 0.7777490\tbest: 0.7790344 (136)\ttotal: 31.8s\tremaining: 5.37s\n",
      "255:\tlearn: 0.7791928\ttest: 0.7777410\tbest: 0.7790344 (136)\ttotal: 31.9s\tremaining: 5.24s\n",
      "256:\tlearn: 0.7790055\ttest: 0.7778759\tbest: 0.7790344 (136)\ttotal: 32.1s\tremaining: 5.12s\n",
      "257:\tlearn: 0.7789920\ttest: 0.7778598\tbest: 0.7790344 (136)\ttotal: 32.2s\tremaining: 4.99s\n",
      "258:\tlearn: 0.7789920\ttest: 0.7778598\tbest: 0.7790344 (136)\ttotal: 32.3s\tremaining: 4.86s\n",
      "259:\tlearn: 0.7791058\ttest: 0.7779803\tbest: 0.7790344 (136)\ttotal: 32.4s\tremaining: 4.74s\n",
      "260:\tlearn: 0.7790842\ttest: 0.7775354\tbest: 0.7790344 (136)\ttotal: 32.6s\tremaining: 4.62s\n",
      "261:\tlearn: 0.7790386\ttest: 0.7783447\tbest: 0.7790344 (136)\ttotal: 32.7s\tremaining: 4.49s\n",
      "262:\tlearn: 0.7792781\ttest: 0.7779562\tbest: 0.7790344 (136)\ttotal: 32.8s\tremaining: 4.37s\n",
      "263:\tlearn: 0.7791143\ttest: 0.7778294\tbest: 0.7790344 (136)\ttotal: 32.9s\tremaining: 4.24s\n",
      "264:\tlearn: 0.7789820\ttest: 0.7778615\tbest: 0.7790344 (136)\ttotal: 33s\tremaining: 4.11s\n",
      "265:\tlearn: 0.7790156\ttest: 0.7778856\tbest: 0.7790344 (136)\ttotal: 33.2s\tremaining: 3.99s\n",
      "266:\tlearn: 0.7789785\ttest: 0.7780205\tbest: 0.7790344 (136)\ttotal: 33.3s\tremaining: 3.86s\n",
      "267:\tlearn: 0.7790537\ttest: 0.7780446\tbest: 0.7790344 (136)\ttotal: 33.5s\tremaining: 3.75s\n",
      "268:\tlearn: 0.7791835\ttest: 0.7778070\tbest: 0.7790344 (136)\ttotal: 33.6s\tremaining: 3.63s\n",
      "269:\tlearn: 0.7791324\ttest: 0.7778230\tbest: 0.7790344 (136)\ttotal: 33.8s\tremaining: 3.5s\n",
      "270:\tlearn: 0.7791269\ttest: 0.7776639\tbest: 0.7790344 (136)\ttotal: 33.9s\tremaining: 3.38s\n",
      "271:\tlearn: 0.7791269\ttest: 0.7776639\tbest: 0.7790344 (136)\ttotal: 34s\tremaining: 3.25s\n",
      "272:\tlearn: 0.7791284\ttest: 0.7776800\tbest: 0.7790344 (136)\ttotal: 34.1s\tremaining: 3.12s\n",
      "273:\tlearn: 0.7788993\ttest: 0.7779178\tbest: 0.7790344 (136)\ttotal: 34.2s\tremaining: 3s\n",
      "274:\tlearn: 0.7789410\ttest: 0.7772539\tbest: 0.7790344 (136)\ttotal: 34.4s\tremaining: 2.88s\n",
      "275:\tlearn: 0.7791855\ttest: 0.7772137\tbest: 0.7790344 (136)\ttotal: 34.5s\tremaining: 2.75s\n",
      "276:\tlearn: 0.7790858\ttest: 0.7774518\tbest: 0.7790344 (136)\ttotal: 34.7s\tremaining: 2.63s\n",
      "277:\tlearn: 0.7792541\ttest: 0.7775869\tbest: 0.7790344 (136)\ttotal: 34.8s\tremaining: 2.51s\n",
      "278:\tlearn: 0.7792561\ttest: 0.7775788\tbest: 0.7790344 (136)\ttotal: 35s\tremaining: 2.38s\n",
      "279:\tlearn: 0.7792877\ttest: 0.7775788\tbest: 0.7790344 (136)\ttotal: 35.2s\tremaining: 2.26s\n",
      "280:\tlearn: 0.7793209\ttest: 0.7777863\tbest: 0.7790344 (136)\ttotal: 35.3s\tremaining: 2.13s\n",
      "281:\tlearn: 0.7793134\ttest: 0.7774052\tbest: 0.7790344 (136)\ttotal: 35.4s\tremaining: 2.01s\n",
      "282:\tlearn: 0.7794026\ttest: 0.7773649\tbest: 0.7790344 (136)\ttotal: 35.6s\tremaining: 1.89s\n",
      "283:\tlearn: 0.7794196\ttest: 0.7777380\tbest: 0.7790344 (136)\ttotal: 35.7s\tremaining: 1.76s\n",
      "284:\tlearn: 0.7793163\ttest: 0.7775869\tbest: 0.7790344 (136)\ttotal: 35.8s\tremaining: 1.63s\n",
      "285:\tlearn: 0.7793028\ttest: 0.7776351\tbest: 0.7790344 (136)\ttotal: 36s\tremaining: 1.51s\n",
      "286:\tlearn: 0.7792948\ttest: 0.7776432\tbest: 0.7790344 (136)\ttotal: 36.1s\tremaining: 1.38s\n",
      "287:\tlearn: 0.7793599\ttest: 0.7775161\tbest: 0.7790344 (136)\ttotal: 36.2s\tremaining: 1.26s\n",
      "288:\tlearn: 0.7793840\ttest: 0.7774920\tbest: 0.7790344 (136)\ttotal: 36.4s\tremaining: 1.13s\n",
      "289:\tlearn: 0.7793860\ttest: 0.7775000\tbest: 0.7790344 (136)\ttotal: 36.5s\tremaining: 1.01s\n",
      "290:\tlearn: 0.7793229\ttest: 0.7774052\tbest: 0.7790344 (136)\ttotal: 36.6s\tremaining: 881ms\n",
      "291:\tlearn: 0.7793464\ttest: 0.7776351\tbest: 0.7790344 (136)\ttotal: 36.7s\tremaining: 755ms\n",
      "292:\tlearn: 0.7793880\ttest: 0.7776110\tbest: 0.7790344 (136)\ttotal: 36.9s\tremaining: 630ms\n",
      "293:\tlearn: 0.7793935\ttest: 0.7773247\tbest: 0.7790344 (136)\ttotal: 37s\tremaining: 504ms\n",
      "294:\tlearn: 0.7795793\ttest: 0.7774357\tbest: 0.7790344 (136)\ttotal: 37.2s\tremaining: 378ms\n",
      "295:\tlearn: 0.7795498\ttest: 0.7774518\tbest: 0.7790344 (136)\ttotal: 37.3s\tremaining: 252ms\n",
      "296:\tlearn: 0.7794612\ttest: 0.7770705\tbest: 0.7790344 (136)\ttotal: 37.4s\tremaining: 126ms\n",
      "297:\tlearn: 0.7794571\ttest: 0.7772137\tbest: 0.7790344 (136)\ttotal: 37.6s\tremaining: 0us\n",
      "\n",
      "bestTest = 0.7790343816\n",
      "bestIteration = 136\n",
      "\n",
      "Training on fold [3/5]\n",
      "0:\tlearn: 0.6942369\ttest: 0.7006063\tbest: 0.7006063 (0)\ttotal: 133ms\tremaining: 39.5s\n",
      "1:\tlearn: 0.7504964\ttest: 0.7567376\tbest: 0.7567376 (1)\ttotal: 254ms\tremaining: 37.5s\n",
      "2:\tlearn: 0.7599534\ttest: 0.7633948\tbest: 0.7633948 (2)\ttotal: 373ms\tremaining: 36.6s\n",
      "3:\tlearn: 0.7475842\ttest: 0.7468731\tbest: 0.7633948 (2)\ttotal: 473ms\tremaining: 34.8s\n",
      "4:\tlearn: 0.7642200\ttest: 0.7684531\tbest: 0.7684531 (4)\ttotal: 591ms\tremaining: 34.6s\n",
      "5:\tlearn: 0.7622354\ttest: 0.7659002\tbest: 0.7684531 (4)\ttotal: 706ms\tremaining: 34.4s\n",
      "6:\tlearn: 0.7631081\ttest: 0.7672011\tbest: 0.7684531 (4)\ttotal: 866ms\tremaining: 36s\n",
      "7:\tlearn: 0.7664072\ttest: 0.7692743\tbest: 0.7692743 (7)\ttotal: 1s\tremaining: 36.3s\n",
      "8:\tlearn: 0.7674039\ttest: 0.7700996\tbest: 0.7700996 (8)\ttotal: 1.12s\tremaining: 36s\n",
      "9:\tlearn: 0.7677900\ttest: 0.7704378\tbest: 0.7704378 (9)\ttotal: 1.24s\tremaining: 35.7s\n",
      "10:\tlearn: 0.7680216\ttest: 0.7702773\tbest: 0.7704378 (9)\ttotal: 1.36s\tremaining: 35.5s\n",
      "11:\tlearn: 0.7685592\ttest: 0.7717736\tbest: 0.7717736 (11)\ttotal: 1.5s\tremaining: 35.8s\n",
      "12:\tlearn: 0.7707974\ttest: 0.7722313\tbest: 0.7722313 (12)\ttotal: 1.63s\tremaining: 35.6s\n",
      "13:\tlearn: 0.7714394\ttest: 0.7741761\tbest: 0.7741761 (13)\ttotal: 1.72s\tremaining: 34.9s\n",
      "14:\tlearn: 0.7714306\ttest: 0.7738270\tbest: 0.7741761 (13)\ttotal: 1.89s\tremaining: 35.6s\n",
      "15:\tlearn: 0.7718252\ttest: 0.7742084\tbest: 0.7742084 (15)\ttotal: 1.99s\tremaining: 35.1s\n",
      "16:\tlearn: 0.7692565\ttest: 0.7720280\tbest: 0.7742084 (15)\ttotal: 2.13s\tremaining: 35.2s\n",
      "17:\tlearn: 0.7688836\ttest: 0.7720360\tbest: 0.7742084 (15)\ttotal: 2.26s\tremaining: 35.2s\n",
      "18:\tlearn: 0.7712540\ttest: 0.7730889\tbest: 0.7742084 (15)\ttotal: 2.39s\tremaining: 35.1s\n",
      "19:\tlearn: 0.7694937\ttest: 0.7729184\tbest: 0.7742084 (15)\ttotal: 2.51s\tremaining: 34.9s\n",
      "20:\tlearn: 0.7710060\ttest: 0.7736294\tbest: 0.7742084 (15)\ttotal: 2.65s\tremaining: 34.9s\n",
      "21:\tlearn: 0.7705181\ttest: 0.7739952\tbest: 0.7742084 (15)\ttotal: 2.77s\tremaining: 34.8s\n",
      "22:\tlearn: 0.7707575\ttest: 0.7743527\tbest: 0.7743527 (22)\ttotal: 2.9s\tremaining: 34.6s\n",
      "23:\tlearn: 0.7715203\ttest: 0.7753381\tbest: 0.7753381 (23)\ttotal: 3.01s\tremaining: 34.4s\n",
      "24:\tlearn: 0.7712166\ttest: 0.7752246\tbest: 0.7753381 (23)\ttotal: 3.11s\tremaining: 34s\n",
      "25:\tlearn: 0.7713127\ttest: 0.7749290\tbest: 0.7753381 (23)\ttotal: 3.34s\tremaining: 35s\n",
      "26:\tlearn: 0.7711766\ttest: 0.7747564\tbest: 0.7753381 (23)\ttotal: 3.52s\tremaining: 35.3s\n",
      "27:\tlearn: 0.7709911\ttest: 0.7751051\tbest: 0.7753381 (23)\ttotal: 3.7s\tremaining: 35.7s\n",
      "28:\tlearn: 0.7711098\ttest: 0.7757647\tbest: 0.7757647 (28)\ttotal: 3.84s\tremaining: 35.6s\n",
      "29:\tlearn: 0.7711078\ttest: 0.7758988\tbest: 0.7758988 (29)\ttotal: 3.92s\tremaining: 35s\n",
      "30:\tlearn: 0.7712234\ttest: 0.7759307\tbest: 0.7759307 (30)\ttotal: 4.06s\tremaining: 35s\n",
      "31:\tlearn: 0.7710539\ttest: 0.7759386\tbest: 0.7759386 (31)\ttotal: 4.19s\tremaining: 34.8s\n",
      "32:\tlearn: 0.7712754\ttest: 0.7758738\tbest: 0.7759386 (31)\ttotal: 4.33s\tremaining: 34.8s\n",
      "33:\tlearn: 0.7711796\ttest: 0.7756066\tbest: 0.7759386 (31)\ttotal: 4.45s\tremaining: 34.6s\n",
      "34:\tlearn: 0.7712950\ttest: 0.7754585\tbest: 0.7759386 (31)\ttotal: 4.6s\tremaining: 34.6s\n",
      "35:\tlearn: 0.7712213\ttest: 0.7756315\tbest: 0.7759386 (31)\ttotal: 4.82s\tremaining: 35s\n",
      "36:\tlearn: 0.7714288\ttest: 0.7760795\tbest: 0.7760795 (36)\ttotal: 5.03s\tremaining: 35.5s\n",
      "37:\tlearn: 0.7715662\ttest: 0.7761113\tbest: 0.7761113 (37)\ttotal: 5.28s\tremaining: 36.1s\n",
      "38:\tlearn: 0.7713187\ttest: 0.7756178\tbest: 0.7761113 (37)\ttotal: 5.46s\tremaining: 36.2s\n",
      "39:\tlearn: 0.7713187\ttest: 0.7756178\tbest: 0.7761113 (37)\ttotal: 5.55s\tremaining: 35.8s\n",
      "40:\tlearn: 0.7718471\ttest: 0.7760238\tbest: 0.7761113 (37)\ttotal: 5.86s\tremaining: 36.8s\n",
      "41:\tlearn: 0.7714703\ttest: 0.7756645\tbest: 0.7761113 (37)\ttotal: 6.12s\tremaining: 37.3s\n",
      "42:\tlearn: 0.7713028\ttest: 0.7764630\tbest: 0.7764630 (42)\ttotal: 6.38s\tremaining: 37.8s\n",
      "43:\tlearn: 0.7717753\ttest: 0.7770581\tbest: 0.7770581 (43)\ttotal: 6.71s\tremaining: 38.8s\n",
      "44:\tlearn: 0.7719449\ttest: 0.7770711\tbest: 0.7770711 (44)\ttotal: 6.97s\tremaining: 39.2s\n",
      "45:\tlearn: 0.7718272\ttest: 0.7769371\tbest: 0.7770711 (44)\ttotal: 7.15s\tremaining: 39.2s\n",
      "46:\tlearn: 0.7718332\ttest: 0.7770168\tbest: 0.7770711 (44)\ttotal: 7.38s\tremaining: 39.4s\n",
      "47:\tlearn: 0.7718891\ttest: 0.7781700\tbest: 0.7781700 (47)\ttotal: 7.58s\tremaining: 39.5s\n",
      "48:\tlearn: 0.7721802\ttest: 0.7783198\tbest: 0.7783198 (48)\ttotal: 7.88s\tremaining: 40s\n",
      "49:\tlearn: 0.7721365\ttest: 0.7775497\tbest: 0.7783198 (48)\ttotal: 8.08s\tremaining: 40.1s\n",
      "50:\tlearn: 0.7724134\ttest: 0.7784278\tbest: 0.7784278 (50)\ttotal: 8.26s\tremaining: 40s\n",
      "51:\tlearn: 0.7724611\ttest: 0.7776947\tbest: 0.7784278 (50)\ttotal: 8.38s\tremaining: 39.6s\n",
      "52:\tlearn: 0.7725290\ttest: 0.7779226\tbest: 0.7784278 (50)\ttotal: 8.49s\tremaining: 39.3s\n",
      "53:\tlearn: 0.7731915\ttest: 0.7779369\tbest: 0.7784278 (50)\ttotal: 8.61s\tremaining: 38.9s\n",
      "54:\tlearn: 0.7735530\ttest: 0.7780866\tbest: 0.7784278 (50)\ttotal: 8.72s\tremaining: 38.5s\n",
      "55:\tlearn: 0.7736450\ttest: 0.7782142\tbest: 0.7784278 (50)\ttotal: 8.83s\tremaining: 38.2s\n",
      "56:\tlearn: 0.7737230\ttest: 0.7782621\tbest: 0.7784278 (50)\ttotal: 8.93s\tremaining: 37.7s\n",
      "57:\tlearn: 0.7734206\ttest: 0.7785616\tbest: 0.7785616 (57)\ttotal: 9.05s\tremaining: 37.5s\n",
      "58:\tlearn: 0.7734906\ttest: 0.7778942\tbest: 0.7785616 (57)\ttotal: 9.16s\tremaining: 37.1s\n",
      "59:\tlearn: 0.7738188\ttest: 0.7774540\tbest: 0.7785616 (57)\ttotal: 9.27s\tremaining: 36.8s\n",
      "60:\tlearn: 0.7739508\ttest: 0.7784414\tbest: 0.7785616 (57)\ttotal: 9.38s\tremaining: 36.4s\n",
      "61:\tlearn: 0.7740030\ttest: 0.7787432\tbest: 0.7787432 (61)\ttotal: 9.55s\tremaining: 36.4s\n",
      "62:\tlearn: 0.7743386\ttest: 0.7792001\tbest: 0.7792001 (62)\ttotal: 9.66s\tremaining: 36s\n",
      "63:\tlearn: 0.7744125\ttest: 0.7788090\tbest: 0.7792001 (62)\ttotal: 9.8s\tremaining: 35.8s\n",
      "64:\tlearn: 0.7741393\ttest: 0.7786792\tbest: 0.7792001 (62)\ttotal: 9.93s\tremaining: 35.6s\n",
      "65:\tlearn: 0.7742931\ttest: 0.7783192\tbest: 0.7792001 (62)\ttotal: 10s\tremaining: 35.2s\n",
      "66:\tlearn: 0.7743391\ttest: 0.7783751\tbest: 0.7792001 (62)\ttotal: 10.1s\tremaining: 34.9s\n",
      "67:\tlearn: 0.7741744\ttest: 0.7782350\tbest: 0.7792001 (62)\ttotal: 10.2s\tremaining: 34.6s\n",
      "68:\tlearn: 0.7741724\ttest: 0.7782350\tbest: 0.7792001 (62)\ttotal: 10.4s\tremaining: 34.4s\n",
      "69:\tlearn: 0.7741684\ttest: 0.7782350\tbest: 0.7792001 (62)\ttotal: 10.5s\tremaining: 34.1s\n",
      "70:\tlearn: 0.7746228\ttest: 0.7788010\tbest: 0.7792001 (62)\ttotal: 10.6s\tremaining: 33.9s\n",
      "71:\tlearn: 0.7744811\ttest: 0.7788310\tbest: 0.7792001 (62)\ttotal: 10.7s\tremaining: 33.6s\n",
      "72:\tlearn: 0.7746082\ttest: 0.7787131\tbest: 0.7792001 (62)\ttotal: 10.8s\tremaining: 33.4s\n",
      "73:\tlearn: 0.7747490\ttest: 0.7790048\tbest: 0.7792001 (62)\ttotal: 10.9s\tremaining: 33.1s\n",
      "74:\tlearn: 0.7747171\ttest: 0.7784692\tbest: 0.7792001 (62)\ttotal: 11.1s\tremaining: 32.9s\n",
      "75:\tlearn: 0.7747392\ttest: 0.7787150\tbest: 0.7792001 (62)\ttotal: 11.2s\tremaining: 32.8s\n",
      "76:\tlearn: 0.7747372\ttest: 0.7787150\tbest: 0.7792001 (62)\ttotal: 11.4s\tremaining: 32.6s\n",
      "77:\tlearn: 0.7749917\ttest: 0.7781169\tbest: 0.7792001 (62)\ttotal: 11.5s\tremaining: 32.4s\n",
      "78:\tlearn: 0.7750839\ttest: 0.7785830\tbest: 0.7792001 (62)\ttotal: 11.7s\tremaining: 32.4s\n",
      "79:\tlearn: 0.7752853\ttest: 0.7780805\tbest: 0.7792001 (62)\ttotal: 11.9s\tremaining: 32.4s\n",
      "80:\tlearn: 0.7752833\ttest: 0.7780805\tbest: 0.7792001 (62)\ttotal: 12.1s\tremaining: 32.5s\n",
      "81:\tlearn: 0.7752986\ttest: 0.7783671\tbest: 0.7792001 (62)\ttotal: 12.3s\tremaining: 32.4s\n",
      "82:\tlearn: 0.7752389\ttest: 0.7779952\tbest: 0.7792001 (62)\ttotal: 12.6s\tremaining: 32.6s\n",
      "83:\tlearn: 0.7752846\ttest: 0.7781772\tbest: 0.7792001 (62)\ttotal: 12.8s\tremaining: 32.5s\n",
      "84:\tlearn: 0.7753183\ttest: 0.7781772\tbest: 0.7792001 (62)\ttotal: 12.9s\tremaining: 32.4s\n",
      "85:\tlearn: 0.7753164\ttest: 0.7781772\tbest: 0.7792001 (62)\ttotal: 13.1s\tremaining: 32.3s\n",
      "86:\tlearn: 0.7753356\ttest: 0.7782073\tbest: 0.7792001 (62)\ttotal: 13.4s\tremaining: 32.4s\n",
      "87:\tlearn: 0.7753518\ttest: 0.7774124\tbest: 0.7792001 (62)\ttotal: 13.6s\tremaining: 32.4s\n",
      "88:\tlearn: 0.7755301\ttest: 0.7776552\tbest: 0.7792001 (62)\ttotal: 13.8s\tremaining: 32.5s\n",
      "89:\tlearn: 0.7756672\ttest: 0.7777733\tbest: 0.7792001 (62)\ttotal: 14.1s\tremaining: 32.6s\n",
      "90:\tlearn: 0.7758674\ttest: 0.7781452\tbest: 0.7792001 (62)\ttotal: 14.3s\tremaining: 32.5s\n",
      "91:\tlearn: 0.7760319\ttest: 0.7778166\tbest: 0.7792001 (62)\ttotal: 14.5s\tremaining: 32.4s\n",
      "92:\tlearn: 0.7758182\ttest: 0.7772813\tbest: 0.7792001 (62)\ttotal: 14.7s\tremaining: 32.5s\n",
      "93:\tlearn: 0.7759300\ttest: 0.7773836\tbest: 0.7792001 (62)\ttotal: 15s\tremaining: 32.5s\n",
      "94:\tlearn: 0.7761133\ttest: 0.7771615\tbest: 0.7792001 (62)\ttotal: 15.2s\tremaining: 32.4s\n",
      "95:\tlearn: 0.7760525\ttest: 0.7770351\tbest: 0.7792001 (62)\ttotal: 15.4s\tremaining: 32.4s\n",
      "96:\tlearn: 0.7759277\ttest: 0.7773117\tbest: 0.7792001 (62)\ttotal: 15.6s\tremaining: 32.3s\n",
      "97:\tlearn: 0.7760131\ttest: 0.7771375\tbest: 0.7792001 (62)\ttotal: 15.8s\tremaining: 32.2s\n",
      "98:\tlearn: 0.7761376\ttest: 0.7775706\tbest: 0.7792001 (62)\ttotal: 16s\tremaining: 32.1s\n",
      "99:\tlearn: 0.7757334\ttest: 0.7777384\tbest: 0.7792001 (62)\ttotal: 16.1s\tremaining: 31.8s\n",
      "100:\tlearn: 0.7757691\ttest: 0.7775419\tbest: 0.7792001 (62)\ttotal: 16.3s\tremaining: 31.7s\n",
      "101:\tlearn: 0.7758245\ttest: 0.7774876\tbest: 0.7792001 (62)\ttotal: 16.5s\tremaining: 31.8s\n",
      "102:\tlearn: 0.7755847\ttest: 0.7776058\tbest: 0.7792001 (62)\ttotal: 16.8s\tremaining: 31.7s\n",
      "103:\tlearn: 0.7756425\ttest: 0.7774476\tbest: 0.7792001 (62)\ttotal: 16.9s\tremaining: 31.6s\n",
      "104:\tlearn: 0.7757522\ttest: 0.7774252\tbest: 0.7792001 (62)\ttotal: 17.1s\tremaining: 31.4s\n",
      "105:\tlearn: 0.7757065\ttest: 0.7770701\tbest: 0.7792001 (62)\ttotal: 17.3s\tremaining: 31.3s\n",
      "106:\tlearn: 0.7757299\ttest: 0.7772749\tbest: 0.7792001 (62)\ttotal: 17.4s\tremaining: 31.1s\n",
      "107:\tlearn: 0.7757677\ttest: 0.7773548\tbest: 0.7792001 (62)\ttotal: 17.6s\tremaining: 30.9s\n",
      "108:\tlearn: 0.7757477\ttest: 0.7770861\tbest: 0.7792001 (62)\ttotal: 17.7s\tremaining: 30.7s\n",
      "109:\tlearn: 0.7757628\ttest: 0.7768266\tbest: 0.7792001 (62)\ttotal: 17.8s\tremaining: 30.4s\n",
      "110:\tlearn: 0.7756753\ttest: 0.7768266\tbest: 0.7792001 (62)\ttotal: 17.9s\tremaining: 30.2s\n",
      "111:\tlearn: 0.7760488\ttest: 0.7772524\tbest: 0.7792001 (62)\ttotal: 18.1s\tremaining: 30s\n",
      "112:\tlearn: 0.7762667\ttest: 0.7767119\tbest: 0.7792001 (62)\ttotal: 18.2s\tremaining: 29.8s\n",
      "113:\tlearn: 0.7761071\ttest: 0.7765402\tbest: 0.7792001 (62)\ttotal: 18.3s\tremaining: 29.5s\n",
      "114:\tlearn: 0.7761602\ttest: 0.7769277\tbest: 0.7792001 (62)\ttotal: 18.4s\tremaining: 29.3s\n",
      "115:\tlearn: 0.7763934\ttest: 0.7769182\tbest: 0.7792001 (62)\ttotal: 18.5s\tremaining: 29.1s\n",
      "116:\tlearn: 0.7766708\ttest: 0.7766014\tbest: 0.7792001 (62)\ttotal: 18.7s\tremaining: 28.9s\n",
      "117:\tlearn: 0.7766708\ttest: 0.7766014\tbest: 0.7792001 (62)\ttotal: 18.8s\tremaining: 28.7s\n",
      "118:\tlearn: 0.7766708\ttest: 0.7766014\tbest: 0.7792001 (62)\ttotal: 19s\tremaining: 28.5s\n",
      "119:\tlearn: 0.7767345\ttest: 0.7766334\tbest: 0.7792001 (62)\ttotal: 19s\tremaining: 28.2s\n",
      "120:\tlearn: 0.7768198\ttest: 0.7771710\tbest: 0.7792001 (62)\ttotal: 19.2s\tremaining: 28.1s\n",
      "121:\tlearn: 0.7764871\ttest: 0.7771870\tbest: 0.7792001 (62)\ttotal: 19.3s\tremaining: 27.9s\n",
      "122:\tlearn: 0.7764634\ttest: 0.7767918\tbest: 0.7792001 (62)\ttotal: 19.5s\tremaining: 27.7s\n",
      "123:\tlearn: 0.7768615\ttest: 0.7770126\tbest: 0.7792001 (62)\ttotal: 19.6s\tremaining: 27.5s\n",
      "124:\tlearn: 0.7769112\ttest: 0.7771630\tbest: 0.7792001 (62)\ttotal: 19.7s\tremaining: 27.3s\n",
      "125:\tlearn: 0.7769368\ttest: 0.7769647\tbest: 0.7792001 (62)\ttotal: 19.9s\tremaining: 27.1s\n",
      "126:\tlearn: 0.7769055\ttest: 0.7774939\tbest: 0.7792001 (62)\ttotal: 20s\tremaining: 26.9s\n",
      "127:\tlearn: 0.7768486\ttest: 0.7773293\tbest: 0.7792001 (62)\ttotal: 20.1s\tremaining: 26.7s\n",
      "128:\tlearn: 0.7767869\ttest: 0.7771550\tbest: 0.7792001 (62)\ttotal: 20.3s\tremaining: 26.5s\n",
      "129:\tlearn: 0.7766719\ttest: 0.7771310\tbest: 0.7792001 (62)\ttotal: 20.4s\tremaining: 26.3s\n",
      "130:\tlearn: 0.7767752\ttest: 0.7768383\tbest: 0.7792001 (62)\ttotal: 20.5s\tremaining: 26.1s\n",
      "131:\tlearn: 0.7769627\ttest: 0.7774156\tbest: 0.7792001 (62)\ttotal: 20.6s\tremaining: 25.9s\n",
      "132:\tlearn: 0.7772400\ttest: 0.7775819\tbest: 0.7792001 (62)\ttotal: 20.7s\tremaining: 25.7s\n",
      "133:\tlearn: 0.7771145\ttest: 0.7771805\tbest: 0.7792001 (62)\ttotal: 20.9s\tremaining: 25.5s\n",
      "134:\tlearn: 0.7772351\ttest: 0.7772989\tbest: 0.7792001 (62)\ttotal: 21s\tremaining: 25.3s\n",
      "135:\tlearn: 0.7771598\ttest: 0.7774572\tbest: 0.7792001 (62)\ttotal: 21.1s\tremaining: 25.1s\n",
      "136:\tlearn: 0.7771674\ttest: 0.7775995\tbest: 0.7792001 (62)\ttotal: 21.2s\tremaining: 24.9s\n",
      "137:\tlearn: 0.7772824\ttest: 0.7778600\tbest: 0.7792001 (62)\ttotal: 21.3s\tremaining: 24.7s\n",
      "138:\tlearn: 0.7773242\ttest: 0.7775115\tbest: 0.7792001 (62)\ttotal: 21.5s\tremaining: 24.6s\n",
      "139:\tlearn: 0.7772845\ttest: 0.7773293\tbest: 0.7792001 (62)\ttotal: 21.6s\tremaining: 24.4s\n",
      "140:\tlearn: 0.7771283\ttest: 0.7772749\tbest: 0.7792001 (62)\ttotal: 21.7s\tremaining: 24.2s\n",
      "141:\tlearn: 0.7772969\ttest: 0.7769821\tbest: 0.7792001 (62)\ttotal: 21.8s\tremaining: 24s\n",
      "142:\tlearn: 0.7774455\ttest: 0.7775195\tbest: 0.7792001 (62)\ttotal: 22s\tremaining: 23.8s\n",
      "143:\tlearn: 0.7774455\ttest: 0.7775195\tbest: 0.7792001 (62)\ttotal: 22.1s\tremaining: 23.6s\n",
      "144:\tlearn: 0.7775592\ttest: 0.7771390\tbest: 0.7792001 (62)\ttotal: 22.2s\tremaining: 23.4s\n",
      "145:\tlearn: 0.7773582\ttest: 0.7770701\tbest: 0.7792001 (62)\ttotal: 22.3s\tremaining: 23.2s\n",
      "146:\tlearn: 0.7775801\ttest: 0.7770941\tbest: 0.7792001 (62)\ttotal: 22.4s\tremaining: 23s\n",
      "147:\tlearn: 0.7775692\ttest: 0.7771405\tbest: 0.7792001 (62)\ttotal: 22.5s\tremaining: 22.8s\n",
      "148:\tlearn: 0.7774367\ttest: 0.7771980\tbest: 0.7792001 (62)\ttotal: 22.6s\tremaining: 22.6s\n",
      "149:\tlearn: 0.7775937\ttest: 0.7769356\tbest: 0.7792001 (62)\ttotal: 22.8s\tremaining: 22.5s\n",
      "150:\tlearn: 0.7775300\ttest: 0.7773788\tbest: 0.7792001 (62)\ttotal: 22.9s\tremaining: 22.3s\n",
      "151:\tlearn: 0.7775781\ttest: 0.7773149\tbest: 0.7792001 (62)\ttotal: 23s\tremaining: 22.1s\n",
      "152:\tlearn: 0.7774675\ttest: 0.7770861\tbest: 0.7792001 (62)\ttotal: 23.1s\tremaining: 21.9s\n",
      "153:\tlearn: 0.7774675\ttest: 0.7770861\tbest: 0.7792001 (62)\ttotal: 23.2s\tremaining: 21.7s\n",
      "154:\tlearn: 0.7776798\ttest: 0.7766375\tbest: 0.7792001 (62)\ttotal: 23.3s\tremaining: 21.5s\n",
      "155:\tlearn: 0.7774868\ttest: 0.7764402\tbest: 0.7792001 (62)\ttotal: 23.4s\tremaining: 21.3s\n",
      "156:\tlearn: 0.7773570\ttest: 0.7759722\tbest: 0.7792001 (62)\ttotal: 23.6s\tremaining: 21.2s\n",
      "157:\tlearn: 0.7775769\ttest: 0.7758295\tbest: 0.7792001 (62)\ttotal: 23.7s\tremaining: 21s\n",
      "158:\tlearn: 0.7775769\ttest: 0.7758295\tbest: 0.7792001 (62)\ttotal: 23.8s\tremaining: 20.8s\n",
      "159:\tlearn: 0.7775773\ttest: 0.7757107\tbest: 0.7792001 (62)\ttotal: 23.9s\tremaining: 20.6s\n",
      "160:\tlearn: 0.7777376\ttest: 0.7751074\tbest: 0.7792001 (62)\ttotal: 24s\tremaining: 20.4s\n",
      "161:\tlearn: 0.7777480\ttest: 0.7748855\tbest: 0.7792001 (62)\ttotal: 24.1s\tremaining: 20.3s\n",
      "162:\tlearn: 0.7777852\ttest: 0.7751234\tbest: 0.7792001 (62)\ttotal: 24.2s\tremaining: 20.1s\n",
      "163:\tlearn: 0.7778229\ttest: 0.7752742\tbest: 0.7792001 (62)\ttotal: 24.5s\tremaining: 20s\n",
      "164:\tlearn: 0.7777696\ttest: 0.7752663\tbest: 0.7792001 (62)\ttotal: 24.6s\tremaining: 19.8s\n",
      "165:\tlearn: 0.7777877\ttest: 0.7754810\tbest: 0.7792001 (62)\ttotal: 24.7s\tremaining: 19.7s\n",
      "166:\tlearn: 0.7776907\ttest: 0.7756399\tbest: 0.7792001 (62)\ttotal: 24.9s\tremaining: 19.5s\n",
      "167:\tlearn: 0.7776571\ttest: 0.7756399\tbest: 0.7792001 (62)\ttotal: 25s\tremaining: 19.3s\n",
      "168:\tlearn: 0.7778886\ttest: 0.7760362\tbest: 0.7792001 (62)\ttotal: 25.1s\tremaining: 19.2s\n",
      "169:\tlearn: 0.7779262\ttest: 0.7760362\tbest: 0.7792001 (62)\ttotal: 25.2s\tremaining: 19s\n",
      "170:\tlearn: 0.7781187\ttest: 0.7755599\tbest: 0.7792001 (62)\ttotal: 25.3s\tremaining: 18.8s\n",
      "171:\tlearn: 0.7780991\ttest: 0.7754331\tbest: 0.7792001 (62)\ttotal: 25.4s\tremaining: 18.6s\n",
      "172:\tlearn: 0.7784462\ttest: 0.7753542\tbest: 0.7792001 (62)\ttotal: 25.6s\tremaining: 18.5s\n",
      "173:\tlearn: 0.7784186\ttest: 0.7753542\tbest: 0.7792001 (62)\ttotal: 25.7s\tremaining: 18.3s\n",
      "174:\tlearn: 0.7782962\ttest: 0.7756478\tbest: 0.7792001 (62)\ttotal: 25.8s\tremaining: 18.1s\n",
      "175:\tlearn: 0.7783447\ttest: 0.7753941\tbest: 0.7792001 (62)\ttotal: 25.9s\tremaining: 18s\n",
      "176:\tlearn: 0.7781470\ttest: 0.7754741\tbest: 0.7792001 (62)\ttotal: 26.1s\tremaining: 17.8s\n",
      "177:\tlearn: 0.7779167\ttest: 0.7757678\tbest: 0.7792001 (62)\ttotal: 26.2s\tremaining: 17.7s\n",
      "178:\tlearn: 0.7779543\ttest: 0.7759974\tbest: 0.7792001 (62)\ttotal: 26.3s\tremaining: 17.5s\n",
      "179:\tlearn: 0.7779543\ttest: 0.7759974\tbest: 0.7792001 (62)\ttotal: 26.4s\tremaining: 17.3s\n",
      "180:\tlearn: 0.7779523\ttest: 0.7759974\tbest: 0.7792001 (62)\ttotal: 26.6s\tremaining: 17.2s\n",
      "181:\tlearn: 0.7780708\ttest: 0.7758866\tbest: 0.7792001 (62)\ttotal: 26.7s\tremaining: 17s\n",
      "182:\tlearn: 0.7780788\ttest: 0.7757598\tbest: 0.7792001 (62)\ttotal: 26.9s\tremaining: 16.9s\n",
      "183:\tlearn: 0.7780160\ttest: 0.7758318\tbest: 0.7792001 (62)\ttotal: 27s\tremaining: 16.7s\n",
      "184:\tlearn: 0.7780565\ttest: 0.7757769\tbest: 0.7792001 (62)\ttotal: 27.1s\tremaining: 16.5s\n",
      "185:\tlearn: 0.7783156\ttest: 0.7759986\tbest: 0.7792001 (62)\ttotal: 27.2s\tremaining: 16.4s\n",
      "186:\tlearn: 0.7783312\ttest: 0.7761014\tbest: 0.7792001 (62)\ttotal: 27.3s\tremaining: 16.2s\n",
      "187:\tlearn: 0.7783592\ttest: 0.7760306\tbest: 0.7792001 (62)\ttotal: 27.5s\tremaining: 16.1s\n",
      "188:\tlearn: 0.7783592\ttest: 0.7760306\tbest: 0.7792001 (62)\ttotal: 27.6s\tremaining: 15.9s\n",
      "189:\tlearn: 0.7783376\ttest: 0.7760706\tbest: 0.7792001 (62)\ttotal: 27.8s\tremaining: 15.8s\n",
      "190:\tlearn: 0.7782071\ttest: 0.7759358\tbest: 0.7792001 (62)\ttotal: 27.9s\tremaining: 15.6s\n",
      "191:\tlearn: 0.7782071\ttest: 0.7759358\tbest: 0.7792001 (62)\ttotal: 28s\tremaining: 15.5s\n",
      "192:\tlearn: 0.7783713\ttest: 0.7760078\tbest: 0.7792001 (62)\ttotal: 28.1s\tremaining: 15.3s\n",
      "193:\tlearn: 0.7783673\ttest: 0.7759998\tbest: 0.7792001 (62)\ttotal: 28.2s\tremaining: 15.1s\n",
      "194:\tlearn: 0.7784671\ttest: 0.7760638\tbest: 0.7792001 (62)\ttotal: 28.4s\tremaining: 15s\n",
      "195:\tlearn: 0.7784183\ttest: 0.7757940\tbest: 0.7792001 (62)\ttotal: 28.5s\tremaining: 14.8s\n",
      "196:\tlearn: 0.7784620\ttest: 0.7759049\tbest: 0.7792001 (62)\ttotal: 28.7s\tremaining: 14.7s\n",
      "197:\tlearn: 0.7784896\ttest: 0.7759289\tbest: 0.7792001 (62)\ttotal: 28.8s\tremaining: 14.5s\n",
      "198:\tlearn: 0.7783952\ttest: 0.7758809\tbest: 0.7792001 (62)\ttotal: 28.9s\tremaining: 14.4s\n",
      "199:\tlearn: 0.7782958\ttest: 0.7759758\tbest: 0.7792001 (62)\ttotal: 29s\tremaining: 14.2s\n",
      "200:\tlearn: 0.7783596\ttest: 0.7755871\tbest: 0.7792001 (62)\ttotal: 29.1s\tremaining: 14.1s\n",
      "201:\tlearn: 0.7784052\ttest: 0.7753012\tbest: 0.7792001 (62)\ttotal: 29.3s\tremaining: 13.9s\n",
      "202:\tlearn: 0.7784901\ttest: 0.7754922\tbest: 0.7792001 (62)\ttotal: 29.4s\tremaining: 13.8s\n",
      "203:\tlearn: 0.7784745\ttest: 0.7754842\tbest: 0.7792001 (62)\ttotal: 29.5s\tremaining: 13.6s\n",
      "204:\tlearn: 0.7784765\ttest: 0.7754842\tbest: 0.7792001 (62)\ttotal: 29.7s\tremaining: 13.5s\n",
      "205:\tlearn: 0.7783897\ttest: 0.7753332\tbest: 0.7792001 (62)\ttotal: 29.8s\tremaining: 13.3s\n",
      "206:\tlearn: 0.7784438\ttest: 0.7754522\tbest: 0.7792001 (62)\ttotal: 29.9s\tremaining: 13.2s\n",
      "207:\tlearn: 0.7784514\ttest: 0.7753492\tbest: 0.7792001 (62)\ttotal: 30.1s\tremaining: 13s\n",
      "208:\tlearn: 0.7785287\ttest: 0.7760558\tbest: 0.7792001 (62)\ttotal: 30.2s\tremaining: 12.9s\n",
      "209:\tlearn: 0.7785422\ttest: 0.7763254\tbest: 0.7792001 (62)\ttotal: 30.4s\tremaining: 12.7s\n",
      "210:\tlearn: 0.7784273\ttest: 0.7766029\tbest: 0.7792001 (62)\ttotal: 30.5s\tremaining: 12.6s\n",
      "211:\tlearn: 0.7783304\ttest: 0.7766190\tbest: 0.7792001 (62)\ttotal: 30.6s\tremaining: 12.4s\n",
      "212:\tlearn: 0.7784097\ttest: 0.7763094\tbest: 0.7792001 (62)\ttotal: 30.7s\tremaining: 12.3s\n",
      "213:\tlearn: 0.7784097\ttest: 0.7763094\tbest: 0.7792001 (62)\ttotal: 30.9s\tremaining: 12.1s\n",
      "214:\tlearn: 0.7785463\ttest: 0.7766510\tbest: 0.7792001 (62)\ttotal: 31s\tremaining: 12s\n",
      "215:\tlearn: 0.7784950\ttest: 0.7766430\tbest: 0.7792001 (62)\ttotal: 31.1s\tremaining: 11.8s\n",
      "216:\tlearn: 0.7786451\ttest: 0.7766029\tbest: 0.7792001 (62)\ttotal: 31.3s\tremaining: 11.7s\n",
      "217:\tlearn: 0.7785849\ttest: 0.7760822\tbest: 0.7792001 (62)\ttotal: 31.4s\tremaining: 11.5s\n",
      "218:\tlearn: 0.7782846\ttest: 0.7762732\tbest: 0.7792001 (62)\ttotal: 31.5s\tremaining: 11.4s\n",
      "219:\tlearn: 0.7783579\ttest: 0.7762412\tbest: 0.7792001 (62)\ttotal: 31.6s\tremaining: 11.2s\n",
      "220:\tlearn: 0.7783262\ttest: 0.7762652\tbest: 0.7792001 (62)\ttotal: 31.7s\tremaining: 11.1s\n",
      "221:\tlearn: 0.7783548\ttest: 0.7765590\tbest: 0.7792001 (62)\ttotal: 31.9s\tremaining: 10.9s\n",
      "222:\tlearn: 0.7783548\ttest: 0.7765590\tbest: 0.7792001 (62)\ttotal: 32s\tremaining: 10.8s\n",
      "223:\tlearn: 0.7782282\ttest: 0.7761783\tbest: 0.7792001 (62)\ttotal: 32.1s\tremaining: 10.6s\n",
      "224:\tlearn: 0.7782799\ttest: 0.7760835\tbest: 0.7792001 (62)\ttotal: 32.3s\tremaining: 10.5s\n",
      "225:\tlearn: 0.7785091\ttest: 0.7762559\tbest: 0.7792001 (62)\ttotal: 32.5s\tremaining: 10.4s\n",
      "226:\tlearn: 0.7784674\ttest: 0.7762479\tbest: 0.7792001 (62)\ttotal: 32.7s\tremaining: 10.2s\n",
      "227:\tlearn: 0.7784077\ttest: 0.7762239\tbest: 0.7792001 (62)\ttotal: 32.8s\tremaining: 10.1s\n",
      "228:\tlearn: 0.7781687\ttest: 0.7758672\tbest: 0.7792001 (62)\ttotal: 33s\tremaining: 9.93s\n",
      "229:\tlearn: 0.7781591\ttest: 0.7758512\tbest: 0.7792001 (62)\ttotal: 33.1s\tremaining: 9.78s\n",
      "230:\tlearn: 0.7781711\ttest: 0.7760022\tbest: 0.7792001 (62)\ttotal: 33.2s\tremaining: 9.63s\n",
      "231:\tlearn: 0.7782288\ttest: 0.7757563\tbest: 0.7792001 (62)\ttotal: 33.3s\tremaining: 9.49s\n",
      "232:\tlearn: 0.7782193\ttest: 0.7758203\tbest: 0.7792001 (62)\ttotal: 33.5s\tremaining: 9.34s\n",
      "233:\tlearn: 0.7782193\ttest: 0.7758203\tbest: 0.7792001 (62)\ttotal: 33.6s\tremaining: 9.19s\n",
      "234:\tlearn: 0.7782413\ttest: 0.7756064\tbest: 0.7792001 (62)\ttotal: 33.7s\tremaining: 9.03s\n",
      "235:\tlearn: 0.7782157\ttest: 0.7757014\tbest: 0.7792001 (62)\ttotal: 33.8s\tremaining: 8.88s\n",
      "236:\tlearn: 0.7781705\ttest: 0.7756304\tbest: 0.7792001 (62)\ttotal: 33.9s\tremaining: 8.73s\n",
      "237:\tlearn: 0.7784919\ttest: 0.7758684\tbest: 0.7792001 (62)\ttotal: 34s\tremaining: 8.58s\n",
      "238:\tlearn: 0.7784306\ttest: 0.7756144\tbest: 0.7792001 (62)\ttotal: 34.2s\tremaining: 8.44s\n",
      "239:\tlearn: 0.7784798\ttest: 0.7755903\tbest: 0.7792001 (62)\ttotal: 34.3s\tremaining: 8.29s\n",
      "240:\tlearn: 0.7785823\ttest: 0.7755033\tbest: 0.7792001 (62)\ttotal: 34.4s\tremaining: 8.14s\n",
      "241:\tlearn: 0.7785823\ttest: 0.7755033\tbest: 0.7792001 (62)\ttotal: 34.5s\tremaining: 7.99s\n",
      "242:\tlearn: 0.7785667\ttest: 0.7755113\tbest: 0.7792001 (62)\ttotal: 34.6s\tremaining: 7.83s\n",
      "243:\tlearn: 0.7788694\ttest: 0.7758203\tbest: 0.7792001 (62)\ttotal: 34.7s\tremaining: 7.69s\n",
      "244:\tlearn: 0.7787961\ttest: 0.7759553\tbest: 0.7792001 (62)\ttotal: 34.8s\tremaining: 7.54s\n",
      "245:\tlearn: 0.7788042\ttest: 0.7757334\tbest: 0.7792001 (62)\ttotal: 35s\tremaining: 7.39s\n",
      "246:\tlearn: 0.7788318\ttest: 0.7754953\tbest: 0.7792001 (62)\ttotal: 35.1s\tremaining: 7.24s\n",
      "247:\tlearn: 0.7789482\ttest: 0.7756133\tbest: 0.7792001 (62)\ttotal: 35.2s\tremaining: 7.1s\n",
      "248:\tlearn: 0.7789126\ttest: 0.7754943\tbest: 0.7792001 (62)\ttotal: 35.4s\tremaining: 6.96s\n",
      "249:\tlearn: 0.7789462\ttest: 0.7754943\tbest: 0.7792001 (62)\ttotal: 35.5s\tremaining: 6.82s\n",
      "250:\tlearn: 0.7791057\ttest: 0.7751761\tbest: 0.7792001 (62)\ttotal: 35.7s\tremaining: 6.68s\n",
      "251:\tlearn: 0.7790896\ttest: 0.7754622\tbest: 0.7792001 (62)\ttotal: 35.8s\tremaining: 6.53s\n",
      "252:\tlearn: 0.7791057\ttest: 0.7752081\tbest: 0.7792001 (62)\ttotal: 36s\tremaining: 6.4s\n",
      "253:\tlearn: 0.7791077\ttest: 0.7752161\tbest: 0.7792001 (62)\ttotal: 36.1s\tremaining: 6.25s\n",
      "254:\tlearn: 0.7791132\ttest: 0.7754313\tbest: 0.7792001 (62)\ttotal: 36.2s\tremaining: 6.11s\n",
      "255:\tlearn: 0.7790876\ttest: 0.7754233\tbest: 0.7792001 (62)\ttotal: 36.3s\tremaining: 5.96s\n",
      "256:\tlearn: 0.7790601\ttest: 0.7754313\tbest: 0.7792001 (62)\ttotal: 36.4s\tremaining: 5.81s\n",
      "257:\tlearn: 0.7790636\ttest: 0.7752882\tbest: 0.7792001 (62)\ttotal: 36.6s\tremaining: 5.67s\n",
      "258:\tlearn: 0.7791388\ttest: 0.7757014\tbest: 0.7792001 (62)\ttotal: 36.7s\tremaining: 5.53s\n",
      "259:\tlearn: 0.7792200\ttest: 0.7754233\tbest: 0.7792001 (62)\ttotal: 36.9s\tremaining: 5.39s\n",
      "260:\tlearn: 0.7791714\ttest: 0.7755434\tbest: 0.7792001 (62)\ttotal: 37s\tremaining: 5.24s\n",
      "261:\tlearn: 0.7790706\ttest: 0.7756464\tbest: 0.7792001 (62)\ttotal: 37.1s\tremaining: 5.1s\n",
      "262:\tlearn: 0.7789808\ttest: 0.7755183\tbest: 0.7792001 (62)\ttotal: 37.2s\tremaining: 4.95s\n",
      "263:\tlearn: 0.7790164\ttest: 0.7756453\tbest: 0.7792001 (62)\ttotal: 37.4s\tremaining: 4.82s\n",
      "264:\tlearn: 0.7790957\ttest: 0.7755663\tbest: 0.7792001 (62)\ttotal: 37.5s\tremaining: 4.67s\n",
      "265:\tlearn: 0.7792091\ttest: 0.7755903\tbest: 0.7792001 (62)\ttotal: 37.6s\tremaining: 4.53s\n",
      "266:\tlearn: 0.7791614\ttest: 0.7754793\tbest: 0.7792001 (62)\ttotal: 37.8s\tremaining: 4.38s\n",
      "267:\tlearn: 0.7791117\ttest: 0.7755983\tbest: 0.7792001 (62)\ttotal: 37.9s\tremaining: 4.24s\n",
      "268:\tlearn: 0.7790405\ttest: 0.7755503\tbest: 0.7792001 (62)\ttotal: 38s\tremaining: 4.09s\n",
      "269:\tlearn: 0.7791062\ttest: 0.7754553\tbest: 0.7792001 (62)\ttotal: 38.1s\tremaining: 3.95s\n",
      "270:\tlearn: 0.7791258\ttest: 0.7755263\tbest: 0.7792001 (62)\ttotal: 38.2s\tremaining: 3.81s\n",
      "271:\tlearn: 0.7791258\ttest: 0.7755263\tbest: 0.7792001 (62)\ttotal: 38.3s\tremaining: 3.67s\n",
      "272:\tlearn: 0.7791198\ttest: 0.7756773\tbest: 0.7792001 (62)\ttotal: 38.5s\tremaining: 3.52s\n",
      "273:\tlearn: 0.7790676\ttest: 0.7759793\tbest: 0.7792001 (62)\ttotal: 38.6s\tremaining: 3.38s\n",
      "274:\tlearn: 0.7791589\ttest: 0.7757334\tbest: 0.7792001 (62)\ttotal: 38.7s\tremaining: 3.23s\n",
      "275:\tlearn: 0.7791569\ttest: 0.7758684\tbest: 0.7792001 (62)\ttotal: 38.8s\tremaining: 3.09s\n",
      "276:\tlearn: 0.7792401\ttest: 0.7758203\tbest: 0.7792001 (62)\ttotal: 38.9s\tremaining: 2.95s\n",
      "277:\tlearn: 0.7792045\ttest: 0.7758123\tbest: 0.7792001 (62)\ttotal: 39.1s\tremaining: 2.81s\n",
      "278:\tlearn: 0.7792045\ttest: 0.7758123\tbest: 0.7792001 (62)\ttotal: 39.2s\tremaining: 2.67s\n",
      "279:\tlearn: 0.7792045\ttest: 0.7758123\tbest: 0.7792001 (62)\ttotal: 39.3s\tremaining: 2.52s\n",
      "280:\tlearn: 0.7791970\ttest: 0.7758203\tbest: 0.7792001 (62)\ttotal: 39.4s\tremaining: 2.38s\n",
      "281:\tlearn: 0.7791499\ttest: 0.7756693\tbest: 0.7792001 (62)\ttotal: 39.6s\tremaining: 2.24s\n",
      "282:\tlearn: 0.7792647\ttest: 0.7752241\tbest: 0.7792001 (62)\ttotal: 39.7s\tremaining: 2.1s\n",
      "283:\tlearn: 0.7791745\ttest: 0.7751771\tbest: 0.7792001 (62)\ttotal: 39.8s\tremaining: 1.96s\n",
      "284:\tlearn: 0.7790696\ttest: 0.7754313\tbest: 0.7792001 (62)\ttotal: 39.9s\tremaining: 1.82s\n",
      "285:\tlearn: 0.7791830\ttest: 0.7755273\tbest: 0.7792001 (62)\ttotal: 40.1s\tremaining: 1.68s\n",
      "286:\tlearn: 0.7791454\ttest: 0.7755113\tbest: 0.7792001 (62)\ttotal: 40.2s\tremaining: 1.54s\n",
      "287:\tlearn: 0.7790370\ttest: 0.7755113\tbest: 0.7792001 (62)\ttotal: 40.3s\tremaining: 1.4s\n",
      "288:\tlearn: 0.7791474\ttest: 0.7755983\tbest: 0.7792001 (62)\ttotal: 40.4s\tremaining: 1.26s\n",
      "289:\tlearn: 0.7791891\ttest: 0.7756144\tbest: 0.7792001 (62)\ttotal: 40.5s\tremaining: 1.12s\n",
      "290:\tlearn: 0.7791218\ttest: 0.7756064\tbest: 0.7792001 (62)\ttotal: 40.7s\tremaining: 978ms\n",
      "291:\tlearn: 0.7791529\ttest: 0.7755823\tbest: 0.7792001 (62)\ttotal: 40.8s\tremaining: 838ms\n",
      "292:\tlearn: 0.7791770\ttest: 0.7754473\tbest: 0.7792001 (62)\ttotal: 40.9s\tremaining: 698ms\n",
      "293:\tlearn: 0.7791981\ttest: 0.7759325\tbest: 0.7792001 (62)\ttotal: 41.1s\tremaining: 559ms\n",
      "294:\tlearn: 0.7792552\ttest: 0.7759164\tbest: 0.7792001 (62)\ttotal: 41.2s\tremaining: 419ms\n",
      "295:\tlearn: 0.7793345\ttest: 0.7759164\tbest: 0.7792001 (62)\ttotal: 41.3s\tremaining: 279ms\n",
      "296:\tlearn: 0.7792693\ttest: 0.7760034\tbest: 0.7792001 (62)\ttotal: 41.5s\tremaining: 140ms\n",
      "297:\tlearn: 0.7792713\ttest: 0.7760034\tbest: 0.7792001 (62)\ttotal: 41.6s\tremaining: 0us\n",
      "\n",
      "bestTest = 0.7792001308\n",
      "bestIteration = 62\n",
      "\n",
      "Training on fold [4/5]\n",
      "0:\tlearn: 0.6945994\ttest: 0.6951041\tbest: 0.6951041 (0)\ttotal: 154ms\tremaining: 45.7s\n",
      "1:\tlearn: 0.7424955\ttest: 0.7421376\tbest: 0.7421376 (1)\ttotal: 261ms\tremaining: 38.6s\n",
      "2:\tlearn: 0.7587990\ttest: 0.7583024\tbest: 0.7583024 (2)\ttotal: 374ms\tremaining: 36.8s\n",
      "3:\tlearn: 0.7618380\ttest: 0.7597841\tbest: 0.7597841 (3)\ttotal: 484ms\tremaining: 35.5s\n",
      "4:\tlearn: 0.7643074\ttest: 0.7599203\tbest: 0.7599203 (4)\ttotal: 604ms\tremaining: 35.4s\n",
      "5:\tlearn: 0.7677818\ttest: 0.7641264\tbest: 0.7641264 (5)\ttotal: 710ms\tremaining: 34.5s\n",
      "6:\tlearn: 0.7694491\ttest: 0.7664169\tbest: 0.7664169 (6)\ttotal: 831ms\tremaining: 34.6s\n",
      "7:\tlearn: 0.7684468\ttest: 0.7649077\tbest: 0.7664169 (6)\ttotal: 943ms\tremaining: 34.2s\n",
      "8:\tlearn: 0.7697172\ttest: 0.7659957\tbest: 0.7664169 (6)\ttotal: 1.06s\tremaining: 34s\n",
      "9:\tlearn: 0.7697664\ttest: 0.7646497\tbest: 0.7664169 (6)\ttotal: 1.19s\tremaining: 34.2s\n",
      "10:\tlearn: 0.7689766\ttest: 0.7649629\tbest: 0.7664169 (6)\ttotal: 1.3s\tremaining: 34s\n",
      "11:\tlearn: 0.7694531\ttest: 0.7669696\tbest: 0.7669696 (11)\ttotal: 1.45s\tremaining: 34.5s\n",
      "12:\tlearn: 0.7710040\ttest: 0.7694121\tbest: 0.7694121 (12)\ttotal: 1.55s\tremaining: 33.9s\n",
      "13:\tlearn: 0.7708854\ttest: 0.7684279\tbest: 0.7694121 (12)\ttotal: 1.67s\tremaining: 33.8s\n",
      "14:\tlearn: 0.7712771\ttest: 0.7680912\tbest: 0.7694121 (12)\ttotal: 1.83s\tremaining: 34.6s\n",
      "15:\tlearn: 0.7706787\ttest: 0.7672196\tbest: 0.7694121 (12)\ttotal: 1.95s\tremaining: 34.4s\n",
      "16:\tlearn: 0.7704046\ttest: 0.7670280\tbest: 0.7694121 (12)\ttotal: 2.08s\tremaining: 34.4s\n",
      "17:\tlearn: 0.7703086\ttest: 0.7672738\tbest: 0.7694121 (12)\ttotal: 2.17s\tremaining: 33.8s\n",
      "18:\tlearn: 0.7703918\ttest: 0.7674166\tbest: 0.7694121 (12)\ttotal: 2.27s\tremaining: 33.4s\n",
      "19:\tlearn: 0.7705560\ttest: 0.7677399\tbest: 0.7694121 (12)\ttotal: 2.44s\tremaining: 34s\n",
      "20:\tlearn: 0.7704492\ttest: 0.7678487\tbest: 0.7694121 (12)\ttotal: 2.6s\tremaining: 34.3s\n",
      "21:\tlearn: 0.7704600\ttest: 0.7669787\tbest: 0.7694121 (12)\ttotal: 2.71s\tremaining: 34.1s\n",
      "22:\tlearn: 0.7704755\ttest: 0.7669310\tbest: 0.7694121 (12)\ttotal: 2.82s\tremaining: 33.7s\n",
      "23:\tlearn: 0.7708117\ttest: 0.7682675\tbest: 0.7694121 (12)\ttotal: 2.92s\tremaining: 33.4s\n",
      "24:\tlearn: 0.7709631\ttest: 0.7679304\tbest: 0.7694121 (12)\ttotal: 3.05s\tremaining: 33.3s\n",
      "25:\tlearn: 0.7710246\ttest: 0.7681133\tbest: 0.7694121 (12)\ttotal: 3.16s\tremaining: 33.1s\n",
      "26:\tlearn: 0.7713553\ttest: 0.7678327\tbest: 0.7694121 (12)\ttotal: 3.26s\tremaining: 32.7s\n",
      "27:\tlearn: 0.7709126\ttest: 0.7685617\tbest: 0.7694121 (12)\ttotal: 3.39s\tremaining: 32.7s\n",
      "28:\tlearn: 0.7712093\ttest: 0.7685697\tbest: 0.7694121 (12)\ttotal: 3.52s\tremaining: 32.6s\n",
      "29:\tlearn: 0.7712410\ttest: 0.7681918\tbest: 0.7694121 (12)\ttotal: 3.63s\tremaining: 32.4s\n",
      "30:\tlearn: 0.7716936\ttest: 0.7684952\tbest: 0.7694121 (12)\ttotal: 3.72s\tremaining: 32.1s\n",
      "31:\tlearn: 0.7717734\ttest: 0.7687757\tbest: 0.7694121 (12)\ttotal: 3.85s\tremaining: 32s\n",
      "32:\tlearn: 0.7715838\ttest: 0.7691596\tbest: 0.7694121 (12)\ttotal: 3.96s\tremaining: 31.8s\n",
      "33:\tlearn: 0.7709505\ttest: 0.7687740\tbest: 0.7694121 (12)\ttotal: 4.13s\tremaining: 32.1s\n",
      "34:\tlearn: 0.7712782\ttest: 0.7691827\tbest: 0.7694121 (12)\ttotal: 4.22s\tremaining: 31.7s\n",
      "35:\tlearn: 0.7716157\ttest: 0.7691270\tbest: 0.7694121 (12)\ttotal: 4.36s\tremaining: 31.7s\n",
      "36:\tlearn: 0.7714482\ttest: 0.7696716\tbest: 0.7696716 (36)\ttotal: 4.47s\tremaining: 31.6s\n",
      "37:\tlearn: 0.7714382\ttest: 0.7696796\tbest: 0.7696796 (37)\ttotal: 4.56s\tremaining: 31.2s\n",
      "38:\tlearn: 0.7716057\ttest: 0.7690617\tbest: 0.7696796 (37)\ttotal: 4.71s\tremaining: 31.3s\n",
      "39:\tlearn: 0.7716376\ttest: 0.7693886\tbest: 0.7696796 (37)\ttotal: 4.84s\tremaining: 31.2s\n",
      "40:\tlearn: 0.7719051\ttest: 0.7698373\tbest: 0.7698373 (40)\ttotal: 4.94s\tremaining: 30.9s\n",
      "41:\tlearn: 0.7718013\ttest: 0.7701501\tbest: 0.7701501 (41)\ttotal: 5.18s\tremaining: 31.6s\n",
      "42:\tlearn: 0.7720610\ttest: 0.7696679\tbest: 0.7701501 (41)\ttotal: 5.26s\tremaining: 31.2s\n",
      "43:\tlearn: 0.7724244\ttest: 0.7706777\tbest: 0.7706777 (43)\ttotal: 5.37s\tremaining: 31s\n",
      "44:\tlearn: 0.7726685\ttest: 0.7706371\tbest: 0.7706777 (43)\ttotal: 5.48s\tremaining: 30.8s\n",
      "45:\tlearn: 0.7730992\ttest: 0.7708939\tbest: 0.7708939 (45)\ttotal: 5.6s\tremaining: 30.7s\n",
      "46:\tlearn: 0.7729415\ttest: 0.7706537\tbest: 0.7708939 (45)\ttotal: 5.71s\tremaining: 30.5s\n",
      "47:\tlearn: 0.7729850\ttest: 0.7712062\tbest: 0.7712062 (47)\ttotal: 5.89s\tremaining: 30.7s\n",
      "48:\tlearn: 0.7732695\ttest: 0.7708548\tbest: 0.7712062 (47)\ttotal: 6s\tremaining: 30.5s\n",
      "49:\tlearn: 0.7734873\ttest: 0.7707342\tbest: 0.7712062 (47)\ttotal: 6.11s\tremaining: 30.3s\n",
      "50:\tlearn: 0.7734739\ttest: 0.7702134\tbest: 0.7712062 (47)\ttotal: 6.25s\tremaining: 30.3s\n",
      "51:\tlearn: 0.7740178\ttest: 0.7708149\tbest: 0.7712062 (47)\ttotal: 6.36s\tremaining: 30.1s\n",
      "52:\tlearn: 0.7734246\ttest: 0.7707978\tbest: 0.7712062 (47)\ttotal: 6.47s\tremaining: 29.9s\n",
      "53:\tlearn: 0.7738344\ttest: 0.7716695\tbest: 0.7716695 (53)\ttotal: 6.59s\tremaining: 29.8s\n",
      "54:\tlearn: 0.7739371\ttest: 0.7716855\tbest: 0.7716855 (54)\ttotal: 6.74s\tremaining: 29.8s\n",
      "55:\tlearn: 0.7743942\ttest: 0.7719012\tbest: 0.7719012 (55)\ttotal: 7.03s\tremaining: 30.4s\n",
      "56:\tlearn: 0.7745463\ttest: 0.7717974\tbest: 0.7719012 (55)\ttotal: 7.38s\tremaining: 31.2s\n",
      "57:\tlearn: 0.7749387\ttest: 0.7720689\tbest: 0.7720689 (57)\ttotal: 7.64s\tremaining: 31.6s\n",
      "58:\tlearn: 0.7746540\ttest: 0.7716295\tbest: 0.7720689 (57)\ttotal: 7.83s\tremaining: 31.7s\n",
      "59:\tlearn: 0.7747219\ttest: 0.7712218\tbest: 0.7720689 (57)\ttotal: 7.96s\tremaining: 31.6s\n",
      "60:\tlearn: 0.7750078\ttest: 0.7718533\tbest: 0.7720689 (57)\ttotal: 8.08s\tremaining: 31.4s\n",
      "61:\tlearn: 0.7754468\ttest: 0.7726741\tbest: 0.7726741 (61)\ttotal: 8.2s\tremaining: 31.2s\n",
      "62:\tlearn: 0.7754514\ttest: 0.7734146\tbest: 0.7734146 (62)\ttotal: 8.33s\tremaining: 31.1s\n",
      "63:\tlearn: 0.7753011\ttest: 0.7733356\tbest: 0.7734146 (62)\ttotal: 8.44s\tremaining: 30.9s\n",
      "64:\tlearn: 0.7748800\ttest: 0.7736387\tbest: 0.7736387 (64)\ttotal: 8.56s\tremaining: 30.7s\n",
      "65:\tlearn: 0.7748902\ttest: 0.7739965\tbest: 0.7739965 (65)\ttotal: 8.69s\tremaining: 30.5s\n",
      "66:\tlearn: 0.7748513\ttest: 0.7745060\tbest: 0.7745060 (66)\ttotal: 8.81s\tremaining: 30.4s\n",
      "67:\tlearn: 0.7749805\ttest: 0.7740758\tbest: 0.7745060 (66)\ttotal: 8.91s\tremaining: 30.1s\n",
      "68:\tlearn: 0.7748782\ttest: 0.7739892\tbest: 0.7745060 (66)\ttotal: 9.02s\tremaining: 29.9s\n",
      "69:\tlearn: 0.7749137\ttest: 0.7741957\tbest: 0.7745060 (66)\ttotal: 9.14s\tremaining: 29.8s\n",
      "70:\tlearn: 0.7751762\ttest: 0.7750542\tbest: 0.7750542 (70)\ttotal: 9.27s\tremaining: 29.6s\n",
      "71:\tlearn: 0.7754307\ttest: 0.7742436\tbest: 0.7750542 (70)\ttotal: 9.39s\tremaining: 29.5s\n",
      "72:\tlearn: 0.7754347\ttest: 0.7742436\tbest: 0.7750542 (70)\ttotal: 9.51s\tremaining: 29.3s\n",
      "73:\tlearn: 0.7753461\ttest: 0.7747050\tbest: 0.7750542 (70)\ttotal: 9.62s\tremaining: 29.1s\n",
      "74:\tlearn: 0.7753339\ttest: 0.7744428\tbest: 0.7750542 (70)\ttotal: 9.75s\tremaining: 29s\n",
      "75:\tlearn: 0.7754029\ttest: 0.7740691\tbest: 0.7750542 (70)\ttotal: 9.85s\tremaining: 28.8s\n",
      "76:\tlearn: 0.7753812\ttest: 0.7739818\tbest: 0.7750542 (70)\ttotal: 9.98s\tremaining: 28.7s\n",
      "77:\tlearn: 0.7753872\ttest: 0.7739818\tbest: 0.7750542 (70)\ttotal: 10.2s\tremaining: 28.7s\n",
      "78:\tlearn: 0.7753912\ttest: 0.7739818\tbest: 0.7750542 (70)\ttotal: 10.3s\tremaining: 28.6s\n",
      "79:\tlearn: 0.7753181\ttest: 0.7743243\tbest: 0.7750542 (70)\ttotal: 10.4s\tremaining: 28.5s\n",
      "80:\tlearn: 0.7752520\ttest: 0.7745859\tbest: 0.7750542 (70)\ttotal: 10.6s\tremaining: 28.4s\n",
      "81:\tlearn: 0.7751504\ttest: 0.7748170\tbest: 0.7750542 (70)\ttotal: 10.7s\tremaining: 28.2s\n",
      "82:\tlearn: 0.7752450\ttest: 0.7745795\tbest: 0.7750542 (70)\ttotal: 10.8s\tremaining: 28.1s\n",
      "83:\tlearn: 0.7752788\ttest: 0.7745635\tbest: 0.7750542 (70)\ttotal: 10.9s\tremaining: 27.9s\n",
      "84:\tlearn: 0.7752788\ttest: 0.7745635\tbest: 0.7750542 (70)\ttotal: 11.1s\tremaining: 27.7s\n",
      "85:\tlearn: 0.7754162\ttest: 0.7740384\tbest: 0.7750542 (70)\ttotal: 11.2s\tremaining: 27.6s\n",
      "86:\tlearn: 0.7757942\ttest: 0.7747059\tbest: 0.7750542 (70)\ttotal: 11.3s\tremaining: 27.4s\n",
      "87:\tlearn: 0.7757066\ttest: 0.7746259\tbest: 0.7750542 (70)\ttotal: 11.4s\tremaining: 27.3s\n",
      "88:\tlearn: 0.7758606\ttest: 0.7742843\tbest: 0.7750542 (70)\ttotal: 11.5s\tremaining: 27.1s\n",
      "89:\tlearn: 0.7758646\ttest: 0.7742843\tbest: 0.7750542 (70)\ttotal: 11.6s\tremaining: 26.9s\n",
      "90:\tlearn: 0.7758277\ttest: 0.7743883\tbest: 0.7750542 (70)\ttotal: 11.8s\tremaining: 26.8s\n",
      "91:\tlearn: 0.7760758\ttest: 0.7736717\tbest: 0.7750542 (70)\ttotal: 11.9s\tremaining: 26.6s\n",
      "92:\tlearn: 0.7760764\ttest: 0.7739030\tbest: 0.7750542 (70)\ttotal: 12s\tremaining: 26.5s\n",
      "93:\tlearn: 0.7760329\ttest: 0.7739350\tbest: 0.7750542 (70)\ttotal: 12.1s\tremaining: 26.3s\n",
      "94:\tlearn: 0.7760349\ttest: 0.7736643\tbest: 0.7750542 (70)\ttotal: 12.3s\tremaining: 26.2s\n",
      "95:\tlearn: 0.7760068\ttest: 0.7736962\tbest: 0.7750542 (70)\ttotal: 12.4s\tremaining: 26.1s\n",
      "96:\tlearn: 0.7760108\ttest: 0.7738157\tbest: 0.7750542 (70)\ttotal: 12.6s\tremaining: 26s\n",
      "97:\tlearn: 0.7759516\ttest: 0.7736563\tbest: 0.7750542 (70)\ttotal: 12.7s\tremaining: 25.8s\n",
      "98:\tlearn: 0.7761530\ttest: 0.7746347\tbest: 0.7750542 (70)\ttotal: 12.8s\tremaining: 25.7s\n",
      "99:\tlearn: 0.7761547\ttest: 0.7740298\tbest: 0.7750542 (70)\ttotal: 12.9s\tremaining: 25.5s\n",
      "100:\tlearn: 0.7762429\ttest: 0.7737911\tbest: 0.7750542 (70)\ttotal: 13s\tremaining: 25.4s\n",
      "101:\tlearn: 0.7764804\ttest: 0.7737671\tbest: 0.7750542 (70)\ttotal: 13.2s\tremaining: 25.3s\n",
      "102:\tlearn: 0.7762439\ttest: 0.7742603\tbest: 0.7750542 (70)\ttotal: 13.3s\tremaining: 25.1s\n",
      "103:\tlearn: 0.7762011\ttest: 0.7742690\tbest: 0.7750542 (70)\ttotal: 13.4s\tremaining: 24.9s\n",
      "104:\tlearn: 0.7762154\ttest: 0.7741017\tbest: 0.7750542 (70)\ttotal: 13.5s\tremaining: 24.8s\n",
      "105:\tlearn: 0.7763150\ttest: 0.7740857\tbest: 0.7750542 (70)\ttotal: 13.6s\tremaining: 24.6s\n",
      "106:\tlearn: 0.7760603\ttest: 0.7740937\tbest: 0.7750542 (70)\ttotal: 13.7s\tremaining: 24.5s\n",
      "107:\tlearn: 0.7760684\ttest: 0.7740538\tbest: 0.7750542 (70)\ttotal: 13.9s\tremaining: 24.4s\n",
      "108:\tlearn: 0.7760606\ttest: 0.7738151\tbest: 0.7750542 (70)\ttotal: 14s\tremaining: 24.3s\n",
      "109:\tlearn: 0.7762880\ttest: 0.7736477\tbest: 0.7750542 (70)\ttotal: 14.1s\tremaining: 24.1s\n",
      "110:\tlearn: 0.7763675\ttest: 0.7736238\tbest: 0.7750542 (70)\ttotal: 14.2s\tremaining: 24s\n",
      "111:\tlearn: 0.7764764\ttest: 0.7738145\tbest: 0.7750542 (70)\ttotal: 14.4s\tremaining: 23.8s\n",
      "112:\tlearn: 0.7763097\ttest: 0.7739972\tbest: 0.7750542 (70)\ttotal: 14.5s\tremaining: 23.7s\n",
      "113:\tlearn: 0.7762792\ttest: 0.7733765\tbest: 0.7750542 (70)\ttotal: 14.6s\tremaining: 23.5s\n",
      "114:\tlearn: 0.7763989\ttest: 0.7730181\tbest: 0.7750542 (70)\ttotal: 14.7s\tremaining: 23.4s\n",
      "115:\tlearn: 0.7764908\ttest: 0.7729625\tbest: 0.7750542 (70)\ttotal: 14.8s\tremaining: 23.3s\n",
      "116:\tlearn: 0.7766398\ttest: 0.7732894\tbest: 0.7750542 (70)\ttotal: 15s\tremaining: 23.2s\n",
      "117:\tlearn: 0.7765265\ttest: 0.7727233\tbest: 0.7750542 (70)\ttotal: 15.1s\tremaining: 23s\n",
      "118:\tlearn: 0.7766665\ttest: 0.7724599\tbest: 0.7750542 (70)\ttotal: 15.2s\tremaining: 22.9s\n",
      "119:\tlearn: 0.7766922\ttest: 0.7725955\tbest: 0.7750542 (70)\ttotal: 15.4s\tremaining: 22.8s\n",
      "120:\tlearn: 0.7766882\ttest: 0.7724678\tbest: 0.7750542 (70)\ttotal: 15.5s\tremaining: 22.7s\n",
      "121:\tlearn: 0.7767483\ttest: 0.7723642\tbest: 0.7750542 (70)\ttotal: 15.7s\tremaining: 22.7s\n",
      "122:\tlearn: 0.7766504\ttest: 0.7723003\tbest: 0.7750542 (70)\ttotal: 15.8s\tremaining: 22.5s\n",
      "123:\tlearn: 0.7768131\ttest: 0.7723083\tbest: 0.7750542 (70)\ttotal: 16s\tremaining: 22.5s\n",
      "124:\tlearn: 0.7765656\ttest: 0.7729625\tbest: 0.7750542 (70)\ttotal: 16.2s\tremaining: 22.4s\n",
      "125:\tlearn: 0.7766240\ttest: 0.7733760\tbest: 0.7750542 (70)\ttotal: 16.3s\tremaining: 22.2s\n",
      "126:\tlearn: 0.7766421\ttest: 0.7732886\tbest: 0.7750542 (70)\ttotal: 16.4s\tremaining: 22.1s\n",
      "127:\tlearn: 0.7764377\ttest: 0.7736472\tbest: 0.7750542 (70)\ttotal: 16.6s\tremaining: 22s\n",
      "128:\tlearn: 0.7766204\ttest: 0.7738539\tbest: 0.7750542 (70)\ttotal: 16.7s\tremaining: 21.9s\n",
      "129:\tlearn: 0.7766224\ttest: 0.7738539\tbest: 0.7750542 (70)\ttotal: 16.8s\tremaining: 21.8s\n",
      "130:\tlearn: 0.7766020\ttest: 0.7738305\tbest: 0.7750542 (70)\ttotal: 17s\tremaining: 21.6s\n",
      "131:\tlearn: 0.7766912\ttest: 0.7742443\tbest: 0.7750542 (70)\ttotal: 17.1s\tremaining: 21.5s\n",
      "132:\tlearn: 0.7767075\ttest: 0.7742843\tbest: 0.7750542 (70)\ttotal: 17.2s\tremaining: 21.4s\n",
      "133:\tlearn: 0.7766959\ttest: 0.7739578\tbest: 0.7750542 (70)\ttotal: 17.3s\tremaining: 21.2s\n",
      "134:\tlearn: 0.7768076\ttest: 0.7740052\tbest: 0.7750542 (70)\ttotal: 17.5s\tremaining: 21.1s\n",
      "135:\tlearn: 0.7767943\ttest: 0.7737746\tbest: 0.7750542 (70)\ttotal: 17.6s\tremaining: 20.9s\n",
      "136:\tlearn: 0.7768127\ttest: 0.7736872\tbest: 0.7750542 (70)\ttotal: 17.7s\tremaining: 20.8s\n",
      "137:\tlearn: 0.7768127\ttest: 0.7736872\tbest: 0.7750542 (70)\ttotal: 17.8s\tremaining: 20.7s\n",
      "138:\tlearn: 0.7769410\ttest: 0.7742509\tbest: 0.7750542 (70)\ttotal: 17.9s\tremaining: 20.5s\n",
      "139:\tlearn: 0.7771075\ttest: 0.7741078\tbest: 0.7750542 (70)\ttotal: 18s\tremaining: 20.4s\n",
      "140:\tlearn: 0.7767745\ttest: 0.7741717\tbest: 0.7750542 (70)\ttotal: 18.2s\tremaining: 20.2s\n",
      "141:\tlearn: 0.7767889\ttest: 0.7738853\tbest: 0.7750542 (70)\ttotal: 18.3s\tremaining: 20.1s\n",
      "142:\tlearn: 0.7767893\ttest: 0.7738139\tbest: 0.7750542 (70)\ttotal: 18.4s\tremaining: 19.9s\n",
      "143:\tlearn: 0.7767893\ttest: 0.7738139\tbest: 0.7750542 (70)\ttotal: 18.5s\tremaining: 19.8s\n",
      "144:\tlearn: 0.7769891\ttest: 0.7740285\tbest: 0.7750542 (70)\ttotal: 18.6s\tremaining: 19.6s\n",
      "145:\tlearn: 0.7768184\ttest: 0.7739332\tbest: 0.7750542 (70)\ttotal: 18.7s\tremaining: 19.5s\n",
      "146:\tlearn: 0.7771227\ttest: 0.7738767\tbest: 0.7750542 (70)\ttotal: 18.8s\tremaining: 19.3s\n",
      "147:\tlearn: 0.7770196\ttest: 0.7742343\tbest: 0.7750542 (70)\ttotal: 19s\tremaining: 19.2s\n",
      "148:\tlearn: 0.7770633\ttest: 0.7742343\tbest: 0.7750542 (70)\ttotal: 19.1s\tremaining: 19.1s\n",
      "149:\tlearn: 0.7771825\ttest: 0.7741384\tbest: 0.7750542 (70)\ttotal: 19.2s\tremaining: 18.9s\n",
      "150:\tlearn: 0.7770777\ttest: 0.7743454\tbest: 0.7750542 (70)\ttotal: 19.3s\tremaining: 18.8s\n",
      "151:\tlearn: 0.7773031\ttest: 0.7745995\tbest: 0.7750542 (70)\ttotal: 19.4s\tremaining: 18.7s\n",
      "152:\tlearn: 0.7773216\ttest: 0.7744086\tbest: 0.7750542 (70)\ttotal: 19.5s\tremaining: 18.5s\n",
      "153:\tlearn: 0.7772181\ttest: 0.7739001\tbest: 0.7750542 (70)\ttotal: 19.6s\tremaining: 18.4s\n",
      "154:\tlearn: 0.7772466\ttest: 0.7742975\tbest: 0.7750542 (70)\ttotal: 19.8s\tremaining: 18.3s\n",
      "155:\tlearn: 0.7771222\ttest: 0.7742183\tbest: 0.7750542 (70)\ttotal: 19.9s\tremaining: 18.2s\n",
      "156:\tlearn: 0.7771202\ttest: 0.7742183\tbest: 0.7750542 (70)\ttotal: 20.1s\tremaining: 18s\n",
      "157:\tlearn: 0.7771018\ttest: 0.7742103\tbest: 0.7750542 (70)\ttotal: 20.2s\tremaining: 17.9s\n",
      "158:\tlearn: 0.7772666\ttest: 0.7739480\tbest: 0.7750542 (70)\ttotal: 20.3s\tremaining: 17.8s\n",
      "159:\tlearn: 0.7772430\ttest: 0.7739480\tbest: 0.7750542 (70)\ttotal: 20.5s\tremaining: 17.6s\n",
      "160:\tlearn: 0.7771932\ttest: 0.7739480\tbest: 0.7750542 (70)\ttotal: 20.6s\tremaining: 17.5s\n",
      "161:\tlearn: 0.7773216\ttest: 0.7730250\tbest: 0.7750542 (70)\ttotal: 20.7s\tremaining: 17.4s\n",
      "162:\tlearn: 0.7773003\ttest: 0.7727622\tbest: 0.7750542 (70)\ttotal: 20.8s\tremaining: 17.3s\n",
      "163:\tlearn: 0.7774876\ttest: 0.7732398\tbest: 0.7750542 (70)\ttotal: 21s\tremaining: 17.1s\n",
      "164:\tlearn: 0.7775550\ttest: 0.7729452\tbest: 0.7750542 (70)\ttotal: 21.1s\tremaining: 17s\n",
      "165:\tlearn: 0.7776821\ttest: 0.7730486\tbest: 0.7750542 (70)\ttotal: 21.3s\tremaining: 16.9s\n",
      "166:\tlearn: 0.7775726\ttest: 0.7728494\tbest: 0.7750542 (70)\ttotal: 21.4s\tremaining: 16.8s\n",
      "167:\tlearn: 0.7775766\ttest: 0.7729848\tbest: 0.7750542 (70)\ttotal: 21.5s\tremaining: 16.7s\n",
      "168:\tlearn: 0.7775550\ttest: 0.7730646\tbest: 0.7750542 (70)\ttotal: 21.7s\tremaining: 16.6s\n",
      "169:\tlearn: 0.7773420\ttest: 0.7729691\tbest: 0.7750542 (70)\ttotal: 21.8s\tremaining: 16.4s\n",
      "170:\tlearn: 0.7775037\ttest: 0.7727066\tbest: 0.7750542 (70)\ttotal: 21.9s\tremaining: 16.3s\n",
      "171:\tlearn: 0.7775037\ttest: 0.7727066\tbest: 0.7750542 (70)\ttotal: 22s\tremaining: 16.1s\n",
      "172:\tlearn: 0.7775137\ttest: 0.7727145\tbest: 0.7750542 (70)\ttotal: 22.1s\tremaining: 16s\n",
      "173:\tlearn: 0.7775357\ttest: 0.7726986\tbest: 0.7750542 (70)\ttotal: 22.3s\tremaining: 15.9s\n",
      "174:\tlearn: 0.7777951\ttest: 0.7727545\tbest: 0.7750542 (70)\ttotal: 22.4s\tremaining: 15.8s\n",
      "175:\tlearn: 0.7778700\ttest: 0.7724355\tbest: 0.7750542 (70)\ttotal: 22.5s\tremaining: 15.6s\n",
      "176:\tlearn: 0.7778700\ttest: 0.7724355\tbest: 0.7750542 (70)\ttotal: 22.7s\tremaining: 15.5s\n",
      "177:\tlearn: 0.7779221\ttest: 0.7726826\tbest: 0.7750542 (70)\ttotal: 22.8s\tremaining: 15.4s\n",
      "178:\tlearn: 0.7778757\ttest: 0.7727305\tbest: 0.7750542 (70)\ttotal: 22.9s\tremaining: 15.2s\n",
      "179:\tlearn: 0.7778336\ttest: 0.7730729\tbest: 0.7750542 (70)\ttotal: 23s\tremaining: 15.1s\n",
      "180:\tlearn: 0.7778681\ttest: 0.7726669\tbest: 0.7750542 (70)\ttotal: 23.1s\tremaining: 15s\n",
      "181:\tlearn: 0.7779399\ttest: 0.7728263\tbest: 0.7750542 (70)\ttotal: 23.3s\tremaining: 14.8s\n",
      "182:\tlearn: 0.7779892\ttest: 0.7728343\tbest: 0.7750542 (70)\ttotal: 23.4s\tremaining: 14.7s\n",
      "183:\tlearn: 0.7779892\ttest: 0.7728343\tbest: 0.7750542 (70)\ttotal: 23.6s\tremaining: 14.6s\n",
      "184:\tlearn: 0.7779043\ttest: 0.7726669\tbest: 0.7750542 (70)\ttotal: 23.7s\tremaining: 14.5s\n",
      "185:\tlearn: 0.7779636\ttest: 0.7729698\tbest: 0.7750542 (70)\ttotal: 23.8s\tremaining: 14.3s\n",
      "186:\tlearn: 0.7778148\ttest: 0.7729778\tbest: 0.7750542 (70)\ttotal: 24s\tremaining: 14.2s\n",
      "187:\tlearn: 0.7778762\ttest: 0.7728263\tbest: 0.7750542 (70)\ttotal: 24.1s\tremaining: 14.1s\n",
      "188:\tlearn: 0.7778425\ttest: 0.7728263\tbest: 0.7750542 (70)\ttotal: 24.2s\tremaining: 14s\n",
      "189:\tlearn: 0.7780380\ttest: 0.7727145\tbest: 0.7750542 (70)\ttotal: 24.3s\tremaining: 13.8s\n",
      "190:\tlearn: 0.7780064\ttest: 0.7725232\tbest: 0.7750542 (70)\ttotal: 24.5s\tremaining: 13.7s\n",
      "191:\tlearn: 0.7781138\ttest: 0.7722521\tbest: 0.7750542 (70)\ttotal: 24.6s\tremaining: 13.6s\n",
      "192:\tlearn: 0.7781158\ttest: 0.7722521\tbest: 0.7750542 (70)\ttotal: 24.7s\tremaining: 13.4s\n",
      "193:\tlearn: 0.7781013\ttest: 0.7723398\tbest: 0.7750542 (70)\ttotal: 24.8s\tremaining: 13.3s\n",
      "194:\tlearn: 0.7782224\ttest: 0.7723238\tbest: 0.7750542 (70)\ttotal: 25s\tremaining: 13.2s\n",
      "195:\tlearn: 0.7781727\ttest: 0.7725709\tbest: 0.7750542 (70)\ttotal: 25.1s\tremaining: 13s\n",
      "196:\tlearn: 0.7783711\ttest: 0.7729768\tbest: 0.7750542 (70)\ttotal: 25.2s\tremaining: 12.9s\n",
      "197:\tlearn: 0.7784645\ttest: 0.7729688\tbest: 0.7750542 (70)\ttotal: 25.3s\tremaining: 12.8s\n",
      "198:\tlearn: 0.7787400\ttest: 0.7729931\tbest: 0.7750542 (70)\ttotal: 25.4s\tremaining: 12.6s\n",
      "199:\tlearn: 0.7786276\ttest: 0.7727145\tbest: 0.7750542 (70)\ttotal: 25.6s\tremaining: 12.6s\n",
      "200:\tlearn: 0.7786356\ttest: 0.7727225\tbest: 0.7750542 (70)\ttotal: 25.8s\tremaining: 12.5s\n",
      "201:\tlearn: 0.7785799\ttest: 0.7723639\tbest: 0.7750542 (70)\ttotal: 26s\tremaining: 12.3s\n",
      "202:\tlearn: 0.7786647\ttest: 0.7725314\tbest: 0.7750542 (70)\ttotal: 26.1s\tremaining: 12.2s\n",
      "203:\tlearn: 0.7786406\ttest: 0.7724515\tbest: 0.7750542 (70)\ttotal: 26.3s\tremaining: 12.1s\n",
      "204:\tlearn: 0.7787686\ttest: 0.7720847\tbest: 0.7750542 (70)\ttotal: 26.4s\tremaining: 12s\n",
      "205:\tlearn: 0.7787686\ttest: 0.7720847\tbest: 0.7750542 (70)\ttotal: 26.5s\tremaining: 11.8s\n",
      "206:\tlearn: 0.7787686\ttest: 0.7720847\tbest: 0.7750542 (70)\ttotal: 26.6s\tremaining: 11.7s\n",
      "207:\tlearn: 0.7785463\ttest: 0.7718054\tbest: 0.7750542 (70)\ttotal: 26.8s\tremaining: 11.6s\n",
      "208:\tlearn: 0.7784991\ttest: 0.7718213\tbest: 0.7750542 (70)\ttotal: 26.9s\tremaining: 11.4s\n",
      "209:\tlearn: 0.7785367\ttest: 0.7720609\tbest: 0.7750542 (70)\ttotal: 27s\tremaining: 11.3s\n",
      "210:\tlearn: 0.7785824\ttest: 0.7720209\tbest: 0.7750542 (70)\ttotal: 27.2s\tremaining: 11.2s\n",
      "211:\tlearn: 0.7785503\ttest: 0.7721327\tbest: 0.7750542 (70)\ttotal: 27.3s\tremaining: 11.1s\n",
      "212:\tlearn: 0.7785483\ttest: 0.7720927\tbest: 0.7750542 (70)\ttotal: 27.4s\tremaining: 10.9s\n",
      "213:\tlearn: 0.7786948\ttest: 0.7724277\tbest: 0.7750542 (70)\ttotal: 27.5s\tremaining: 10.8s\n",
      "214:\tlearn: 0.7786948\ttest: 0.7724197\tbest: 0.7750542 (70)\ttotal: 27.6s\tremaining: 10.7s\n",
      "215:\tlearn: 0.7788338\ttest: 0.7726829\tbest: 0.7750542 (70)\ttotal: 27.7s\tremaining: 10.5s\n",
      "216:\tlearn: 0.7788283\ttest: 0.7726270\tbest: 0.7750542 (70)\ttotal: 27.9s\tremaining: 10.4s\n",
      "217:\tlearn: 0.7789928\ttest: 0.7728500\tbest: 0.7750542 (70)\ttotal: 28s\tremaining: 10.3s\n",
      "218:\tlearn: 0.7789181\ttest: 0.7730094\tbest: 0.7750542 (70)\ttotal: 28.1s\tremaining: 10.1s\n",
      "219:\tlearn: 0.7788865\ttest: 0.7730174\tbest: 0.7750542 (70)\ttotal: 28.2s\tremaining: 9.99s\n",
      "220:\tlearn: 0.7790610\ttest: 0.7729938\tbest: 0.7750542 (70)\ttotal: 28.3s\tremaining: 9.86s\n",
      "221:\tlearn: 0.7790059\ttest: 0.7730733\tbest: 0.7750542 (70)\ttotal: 28.4s\tremaining: 9.73s\n",
      "222:\tlearn: 0.7790415\ttest: 0.7730972\tbest: 0.7750542 (70)\ttotal: 28.5s\tremaining: 9.59s\n",
      "223:\tlearn: 0.7790435\ttest: 0.7731132\tbest: 0.7750542 (70)\ttotal: 28.7s\tremaining: 9.47s\n",
      "224:\tlearn: 0.7789472\ttest: 0.7734319\tbest: 0.7750542 (70)\ttotal: 28.8s\tremaining: 9.34s\n",
      "225:\tlearn: 0.7789472\ttest: 0.7734319\tbest: 0.7750542 (70)\ttotal: 28.9s\tremaining: 9.21s\n",
      "226:\tlearn: 0.7789472\ttest: 0.7734319\tbest: 0.7750542 (70)\ttotal: 29s\tremaining: 9.07s\n",
      "227:\tlearn: 0.7791453\ttest: 0.7734240\tbest: 0.7750542 (70)\ttotal: 29.1s\tremaining: 8.94s\n",
      "228:\tlearn: 0.7790977\ttest: 0.7733920\tbest: 0.7750542 (70)\ttotal: 29.2s\tremaining: 8.81s\n",
      "229:\tlearn: 0.7791293\ttest: 0.7733525\tbest: 0.7750542 (70)\ttotal: 29.4s\tremaining: 8.69s\n",
      "230:\tlearn: 0.7792381\ttest: 0.7732251\tbest: 0.7750542 (70)\ttotal: 29.5s\tremaining: 8.56s\n",
      "231:\tlearn: 0.7792361\ttest: 0.7732251\tbest: 0.7750542 (70)\ttotal: 29.6s\tremaining: 8.43s\n",
      "232:\tlearn: 0.7792898\ttest: 0.7732810\tbest: 0.7750542 (70)\ttotal: 29.8s\tremaining: 8.3s\n",
      "233:\tlearn: 0.7792481\ttest: 0.7732410\tbest: 0.7750542 (70)\ttotal: 30s\tremaining: 8.2s\n",
      "234:\tlearn: 0.7793113\ttest: 0.7732410\tbest: 0.7750542 (70)\ttotal: 30.1s\tremaining: 8.07s\n",
      "235:\tlearn: 0.7793745\ttest: 0.7728506\tbest: 0.7750542 (70)\ttotal: 30.3s\tremaining: 7.95s\n",
      "236:\tlearn: 0.7792892\ttest: 0.7729861\tbest: 0.7750542 (70)\ttotal: 30.4s\tremaining: 7.83s\n",
      "237:\tlearn: 0.7792892\ttest: 0.7729861\tbest: 0.7750542 (70)\ttotal: 30.6s\tremaining: 7.72s\n",
      "238:\tlearn: 0.7792953\ttest: 0.7729941\tbest: 0.7750542 (70)\ttotal: 30.8s\tremaining: 7.6s\n",
      "239:\tlearn: 0.7792953\ttest: 0.7729941\tbest: 0.7750542 (70)\ttotal: 30.9s\tremaining: 7.47s\n",
      "240:\tlearn: 0.7793449\ttest: 0.7728666\tbest: 0.7750542 (70)\ttotal: 31.1s\tremaining: 7.34s\n",
      "241:\tlearn: 0.7794426\ttest: 0.7730736\tbest: 0.7750542 (70)\ttotal: 31.2s\tremaining: 7.21s\n",
      "242:\tlearn: 0.7794276\ttest: 0.7733925\tbest: 0.7750542 (70)\ttotal: 31.3s\tremaining: 7.08s\n",
      "243:\tlearn: 0.7794256\ttest: 0.7733925\tbest: 0.7750542 (70)\ttotal: 31.4s\tremaining: 6.95s\n",
      "244:\tlearn: 0.7793504\ttest: 0.7734004\tbest: 0.7750542 (70)\ttotal: 31.5s\tremaining: 6.82s\n",
      "245:\tlearn: 0.7793659\ttest: 0.7733765\tbest: 0.7750542 (70)\ttotal: 31.7s\tremaining: 6.69s\n",
      "246:\tlearn: 0.7793309\ttest: 0.7733605\tbest: 0.7750542 (70)\ttotal: 31.8s\tremaining: 6.56s\n",
      "247:\tlearn: 0.7793269\ttest: 0.7733605\tbest: 0.7750542 (70)\ttotal: 31.9s\tremaining: 6.42s\n",
      "248:\tlearn: 0.7793860\ttest: 0.7733525\tbest: 0.7750542 (70)\ttotal: 32s\tremaining: 6.29s\n",
      "249:\tlearn: 0.7793489\ttest: 0.7733765\tbest: 0.7750542 (70)\ttotal: 32.1s\tremaining: 6.16s\n",
      "250:\tlearn: 0.7793489\ttest: 0.7731136\tbest: 0.7750542 (70)\ttotal: 32.3s\tremaining: 6.04s\n",
      "251:\tlearn: 0.7793449\ttest: 0.7733525\tbest: 0.7750542 (70)\ttotal: 32.4s\tremaining: 5.91s\n",
      "252:\tlearn: 0.7793449\ttest: 0.7733525\tbest: 0.7750542 (70)\ttotal: 32.5s\tremaining: 5.78s\n",
      "253:\tlearn: 0.7793078\ttest: 0.7731296\tbest: 0.7750542 (70)\ttotal: 32.6s\tremaining: 5.64s\n",
      "254:\tlearn: 0.7793319\ttest: 0.7731296\tbest: 0.7750542 (70)\ttotal: 32.8s\tremaining: 5.53s\n",
      "255:\tlearn: 0.7794112\ttest: 0.7731056\tbest: 0.7750542 (70)\ttotal: 32.9s\tremaining: 5.4s\n",
      "256:\tlearn: 0.7793239\ttest: 0.7732730\tbest: 0.7750542 (70)\ttotal: 33s\tremaining: 5.27s\n",
      "257:\tlearn: 0.7793239\ttest: 0.7732730\tbest: 0.7750542 (70)\ttotal: 33.1s\tremaining: 5.14s\n",
      "258:\tlearn: 0.7793239\ttest: 0.7732730\tbest: 0.7750542 (70)\ttotal: 33.3s\tremaining: 5.01s\n",
      "259:\tlearn: 0.7794563\ttest: 0.7734084\tbest: 0.7750542 (70)\ttotal: 33.4s\tremaining: 4.88s\n",
      "260:\tlearn: 0.7795079\ttest: 0.7733130\tbest: 0.7750542 (70)\ttotal: 33.5s\tremaining: 4.75s\n",
      "261:\tlearn: 0.7794212\ttest: 0.7730101\tbest: 0.7750542 (70)\ttotal: 33.6s\tremaining: 4.62s\n",
      "262:\tlearn: 0.7794212\ttest: 0.7730101\tbest: 0.7750542 (70)\ttotal: 33.7s\tremaining: 4.49s\n",
      "263:\tlearn: 0.7794232\ttest: 0.7728746\tbest: 0.7750542 (70)\ttotal: 33.9s\tremaining: 4.36s\n",
      "264:\tlearn: 0.7795450\ttest: 0.7732730\tbest: 0.7750542 (70)\ttotal: 34s\tremaining: 4.23s\n",
      "265:\tlearn: 0.7794798\ttest: 0.7732410\tbest: 0.7750542 (70)\ttotal: 34.1s\tremaining: 4.11s\n",
      "266:\tlearn: 0.7794798\ttest: 0.7732410\tbest: 0.7750542 (70)\ttotal: 34.3s\tremaining: 3.98s\n",
      "267:\tlearn: 0.7796061\ttest: 0.7730816\tbest: 0.7750542 (70)\ttotal: 34.4s\tremaining: 3.85s\n",
      "268:\tlearn: 0.7796833\ttest: 0.7729222\tbest: 0.7750542 (70)\ttotal: 34.6s\tremaining: 3.73s\n",
      "269:\tlearn: 0.7793973\ttest: 0.7727153\tbest: 0.7750542 (70)\ttotal: 34.7s\tremaining: 3.59s\n",
      "270:\tlearn: 0.7793436\ttest: 0.7730024\tbest: 0.7750542 (70)\ttotal: 34.8s\tremaining: 3.46s\n",
      "271:\tlearn: 0.7796153\ttest: 0.7725875\tbest: 0.7750542 (70)\ttotal: 34.9s\tremaining: 3.34s\n",
      "272:\tlearn: 0.7796153\ttest: 0.7725875\tbest: 0.7750542 (70)\ttotal: 35s\tremaining: 3.21s\n",
      "273:\tlearn: 0.7796173\ttest: 0.7726991\tbest: 0.7750542 (70)\ttotal: 35.2s\tremaining: 3.08s\n",
      "274:\tlearn: 0.7797823\ttest: 0.7728106\tbest: 0.7750542 (70)\ttotal: 35.3s\tremaining: 2.95s\n",
      "275:\tlearn: 0.7797863\ttest: 0.7727867\tbest: 0.7750542 (70)\ttotal: 35.4s\tremaining: 2.82s\n",
      "276:\tlearn: 0.7796971\ttest: 0.7732570\tbest: 0.7750542 (70)\ttotal: 35.6s\tremaining: 2.69s\n",
      "277:\tlearn: 0.7797582\ttest: 0.7732650\tbest: 0.7750542 (70)\ttotal: 35.7s\tremaining: 2.57s\n",
      "278:\tlearn: 0.7797817\ttest: 0.7732410\tbest: 0.7750542 (70)\ttotal: 35.9s\tremaining: 2.44s\n",
      "279:\tlearn: 0.7797838\ttest: 0.7730021\tbest: 0.7750542 (70)\ttotal: 36s\tremaining: 2.31s\n",
      "280:\tlearn: 0.7797166\ttest: 0.7734084\tbest: 0.7750542 (70)\ttotal: 36.2s\tremaining: 2.19s\n",
      "281:\tlearn: 0.7796399\ttest: 0.7732970\tbest: 0.7750542 (70)\ttotal: 36.3s\tremaining: 2.06s\n",
      "282:\tlearn: 0.7796339\ttest: 0.7732970\tbest: 0.7750542 (70)\ttotal: 36.4s\tremaining: 1.93s\n",
      "283:\tlearn: 0.7796339\ttest: 0.7734244\tbest: 0.7750542 (70)\ttotal: 36.5s\tremaining: 1.8s\n",
      "284:\tlearn: 0.7796107\ttest: 0.7737506\tbest: 0.7750542 (70)\ttotal: 36.6s\tremaining: 1.67s\n",
      "285:\tlearn: 0.7795992\ttest: 0.7729145\tbest: 0.7750542 (70)\ttotal: 36.8s\tremaining: 1.54s\n",
      "286:\tlearn: 0.7795717\ttest: 0.7730820\tbest: 0.7750542 (70)\ttotal: 36.9s\tremaining: 1.41s\n",
      "287:\tlearn: 0.7795737\ttest: 0.7730820\tbest: 0.7750542 (70)\ttotal: 37s\tremaining: 1.28s\n",
      "288:\tlearn: 0.7797356\ttest: 0.7731060\tbest: 0.7750542 (70)\ttotal: 37.1s\tremaining: 1.16s\n",
      "289:\tlearn: 0.7797066\ttest: 0.7729944\tbest: 0.7750542 (70)\ttotal: 37.3s\tremaining: 1.03s\n",
      "290:\tlearn: 0.7796534\ttest: 0.7732574\tbest: 0.7750542 (70)\ttotal: 37.4s\tremaining: 900ms\n",
      "291:\tlearn: 0.7795983\ttest: 0.7737831\tbest: 0.7750542 (70)\ttotal: 37.5s\tremaining: 771ms\n",
      "292:\tlearn: 0.7795983\ttest: 0.7737831\tbest: 0.7750542 (70)\ttotal: 37.6s\tremaining: 642ms\n",
      "293:\tlearn: 0.7795748\ttest: 0.7736877\tbest: 0.7750542 (70)\ttotal: 37.8s\tremaining: 514ms\n",
      "294:\tlearn: 0.7798119\ttest: 0.7735763\tbest: 0.7750542 (70)\ttotal: 37.9s\tremaining: 386ms\n",
      "295:\tlearn: 0.7799267\ttest: 0.7734569\tbest: 0.7750542 (70)\ttotal: 38.1s\tremaining: 257ms\n",
      "296:\tlearn: 0.7799186\ttest: 0.7734569\tbest: 0.7750542 (70)\ttotal: 38.2s\tremaining: 129ms\n",
      "297:\tlearn: 0.7800515\ttest: 0.7732019\tbest: 0.7750542 (70)\ttotal: 38.3s\tremaining: 0us\n",
      "\n",
      "bestTest = 0.775054231\n",
      "bestIteration = 70\n",
      "\n"
     ]
    }
   ],
   "source": [
    "params[\"eval_metric\"] = \"F1\"\n",
    "params[\"loss_function\"] = \"Logloss\"\n",
    "params[\"auto_class_weights\"] = \"Balanced\"  \n",
    "\n",
    "model = CatBoostClassifier(\n",
    "    **params,\n",
    "    verbose=True,\n",
    "    cat_features=categorical_indices,\n",
    "    random_seed=42\n",
    ")\n",
    "\n",
    "data = Pool(X_train, y_train, cat_features=categorical_indices)\n",
    "\n",
    "cv_results = cv(\n",
    "    params=params,\n",
    "    pool=data,\n",
    "    fold_count=5,\n",
    "    partition_random_seed=42,\n",
    "    shuffle=True,\n",
    "    stratified=True  \n",
    ")\n",
    "\n",
    "cv_results.to_csv(outfolder / \"cv_results.csv\", index=False)"
   ]
  },
  {
   "cell_type": "code",
   "execution_count": 15,
   "id": "8ef273c3",
   "metadata": {},
   "outputs": [
    {
     "data": {
      "application/vnd.plotly.v1+json": {
       "config": {
        "plotlyServerURL": "https://plot.ly"
       },
       "data": [
        {
         "fill": "toself",
         "fillcolor": "rgba(0, 0, 255, 0.2)",
         "hoverinfo": "skip",
         "line": {
          "width": 0
         },
         "name": "±1 std",
         "showlegend": false,
         "type": "scatter",
         "x": {
          "bdata": "AAABAAIAAwAEAAUABgAHAAgACQAKAAsADAANAA4ADwAQABEAEgATABQAFQAWABcAGAAZABoAGwAcAB0AHgAfACAAIQAiACMAJAAlACYAJwAoACkAKgArACwALQAuAC8AMAAxADIAMwA0ADUANgA3ADgAOQA6ADsAPAA9AD4APwBAAEEAQgBDAEQARQBGAEcASABJAEoASwBMAE0ATgBPAFAAUQBSAFMAVABVAFYAVwBYAFkAWgBbAFwAXQBeAF8AYABhAGIAYwBkAGUAZgBnAGgAaQBqAGsAbABtAG4AbwBwAHEAcgBzAHQAdQB2AHcAeAB5AHoAewB8AH0AfgB/AIAAgQCCAIMAhACFAIYAhwCIAIkAigCLAIwAjQCOAI8AkACRAJIAkwCUAJUAlgCXAJgAmQCaAJsAnACdAJ4AnwCgAKEAogCjAKQApQCmAKcAqACpAKoAqwCsAK0ArgCvALAAsQCyALMAtAC1ALYAtwC4ALkAugC7ALwAvQC+AL8AwADBAMIAwwDEAMUAxgDHAMgAyQDKAMsAzADNAM4AzwDQANEA0gDTANQA1QDWANcA2ADZANoA2wDcAN0A3gDfAOAA4QDiAOMA5ADlAOYA5wDoAOkA6gDrAOwA7QDuAO8A8ADxAPIA8wD0APUA9gD3APgA+QD6APsA/AD9AP4A/wAAAQEBAgEDAQQBBQEGAQcBCAEJAQoBCwEMAQ0BDgEPARABEQESARMBFAEVARYBFwEYARkBGgEbARwBHQEeAR8BIAEhASIBIwEkASUBJgEnASgBKQEpASgBJwEmASUBJAEjASIBIQEgAR8BHgEdARwBGwEaARkBGAEXARYBFQEUARMBEgERARABDwEOAQ0BDAELAQoBCQEIAQcBBgEFAQQBAwECAQEBAAH/AP4A/QD8APsA+gD5APgA9wD2APUA9ADzAPIA8QDwAO8A7gDtAOwA6wDqAOkA6ADnAOYA5QDkAOMA4gDhAOAA3wDeAN0A3ADbANoA2QDYANcA1gDVANQA0wDSANEA0ADPAM4AzQDMAMsAygDJAMgAxwDGAMUAxADDAMIAwQDAAL8AvgC9ALwAuwC6ALkAuAC3ALYAtQC0ALMAsgCxALAArwCuAK0ArACrAKoAqQCoAKcApgClAKQAowCiAKEAoACfAJ4AnQCcAJsAmgCZAJgAlwCWAJUAlACTAJIAkQCQAI8AjgCNAIwAiwCKAIkAiACHAIYAhQCEAIMAggCBAIAAfwB+AH0AfAB7AHoAeQB4AHcAdgB1AHQAcwByAHEAcABvAG4AbQBsAGsAagBpAGgAZwBmAGUAZABjAGIAYQBgAF8AXgBdAFwAWwBaAFkAWABXAFYAVQBUAFMAUgBRAFAATwBOAE0ATABLAEoASQBIAEcARgBFAEQAQwBCAEEAQAA/AD4APQA8ADsAOgA5ADgANwA2ADUANAAzADIAMQAwAC8ALgAtACwAKwAqACkAKAAnACYAJQAkACMAIgAhACAAHwAeAB0AHAAbABoAGQAYABcAFgAVABQAEwASABEAEAAPAA4ADQAMAAsACgAJAAgABwAGAAUABAADAAIAAQAAAA==",
          "dtype": "i2"
         },
         "y": {
          "bdata": "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",
          "dtype": "f8"
         }
        },
        {
         "line": {
          "color": "blue",
          "width": 2
         },
         "mode": "lines",
         "name": "Mean F1 Score",
         "type": "scatter",
         "x": {
          "bdata": "AAABAAIAAwAEAAUABgAHAAgACQAKAAsADAANAA4ADwAQABEAEgATABQAFQAWABcAGAAZABoAGwAcAB0AHgAfACAAIQAiACMAJAAlACYAJwAoACkAKgArACwALQAuAC8AMAAxADIAMwA0ADUANgA3ADgAOQA6ADsAPAA9AD4APwBAAEEAQgBDAEQARQBGAEcASABJAEoASwBMAE0ATgBPAFAAUQBSAFMAVABVAFYAVwBYAFkAWgBbAFwAXQBeAF8AYABhAGIAYwBkAGUAZgBnAGgAaQBqAGsAbABtAG4AbwBwAHEAcgBzAHQAdQB2AHcAeAB5AHoAewB8AH0AfgB/AIAAgQCCAIMAhACFAIYAhwCIAIkAigCLAIwAjQCOAI8AkACRAJIAkwCUAJUAlgCXAJgAmQCaAJsAnACdAJ4AnwCgAKEAogCjAKQApQCmAKcAqACpAKoAqwCsAK0ArgCvALAAsQCyALMAtAC1ALYAtwC4ALkAugC7ALwAvQC+AL8AwADBAMIAwwDEAMUAxgDHAMgAyQDKAMsAzADNAM4AzwDQANEA0gDTANQA1QDWANcA2ADZANoA2wDcAN0A3gDfAOAA4QDiAOMA5ADlAOYA5wDoAOkA6gDrAOwA7QDuAO8A8ADxAPIA8wD0APUA9gD3APgA+QD6APsA/AD9AP4A/wAAAQEBAgEDAQQBBQEGAQcBCAEJAQoBCwEMAQ0BDgEPARABEQESARMBFAEVARYBFwEYARkBGgEbARwBHQEeAR8BIAEhASIBIwEkASUBJgEnASgBKQE=",
          "dtype": "i2"
         },
         "y": {
          "bdata": "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",
          "dtype": "f8"
         }
        }
       ],
       "layout": {
        "hovermode": "x unified",
        "template": {
         "data": {
          "bar": [
           {
            "error_x": {
             "color": "#2a3f5f"
            },
            "error_y": {
             "color": "#2a3f5f"
            },
            "marker": {
             "line": {
              "color": "white",
              "width": 0.5
             },
             "pattern": {
              "fillmode": "overlay",
              "size": 10,
              "solidity": 0.2
             }
            },
            "type": "bar"
           }
          ],
          "barpolar": [
           {
            "marker": {
             "line": {
              "color": "white",
              "width": 0.5
             },
             "pattern": {
              "fillmode": "overlay",
              "size": 10,
              "solidity": 0.2
             }
            },
            "type": "barpolar"
           }
          ],
          "carpet": [
           {
            "aaxis": {
             "endlinecolor": "#2a3f5f",
             "gridcolor": "#C8D4E3",
             "linecolor": "#C8D4E3",
             "minorgridcolor": "#C8D4E3",
             "startlinecolor": "#2a3f5f"
            },
            "baxis": {
             "endlinecolor": "#2a3f5f",
             "gridcolor": "#C8D4E3",
             "linecolor": "#C8D4E3",
             "minorgridcolor": "#C8D4E3",
             "startlinecolor": "#2a3f5f"
            },
            "type": "carpet"
           }
          ],
          "choropleth": [
           {
            "colorbar": {
             "outlinewidth": 0,
             "ticks": ""
            },
            "type": "choropleth"
           }
          ],
          "contour": [
           {
            "colorbar": {
             "outlinewidth": 0,
             "ticks": ""
            },
            "colorscale": [
             [
              0,
              "#0d0887"
             ],
             [
              0.1111111111111111,
              "#46039f"
             ],
             [
              0.2222222222222222,
              "#7201a8"
             ],
             [
              0.3333333333333333,
              "#9c179e"
             ],
             [
              0.4444444444444444,
              "#bd3786"
             ],
             [
              0.5555555555555556,
              "#d8576b"
             ],
             [
              0.6666666666666666,
              "#ed7953"
             ],
             [
              0.7777777777777778,
              "#fb9f3a"
             ],
             [
              0.8888888888888888,
              "#fdca26"
             ],
             [
              1,
              "#f0f921"
             ]
            ],
            "type": "contour"
           }
          ],
          "contourcarpet": [
           {
            "colorbar": {
             "outlinewidth": 0,
             "ticks": ""
            },
            "type": "contourcarpet"
           }
          ],
          "heatmap": [
           {
            "colorbar": {
             "outlinewidth": 0,
             "ticks": ""
            },
            "colorscale": [
             [
              0,
              "#0d0887"
             ],
             [
              0.1111111111111111,
              "#46039f"
             ],
             [
              0.2222222222222222,
              "#7201a8"
             ],
             [
              0.3333333333333333,
              "#9c179e"
             ],
             [
              0.4444444444444444,
              "#bd3786"
             ],
             [
              0.5555555555555556,
              "#d8576b"
             ],
             [
              0.6666666666666666,
              "#ed7953"
             ],
             [
              0.7777777777777778,
              "#fb9f3a"
             ],
             [
              0.8888888888888888,
              "#fdca26"
             ],
             [
              1,
              "#f0f921"
             ]
            ],
            "type": "heatmap"
           }
          ],
          "histogram": [
           {
            "marker": {
             "pattern": {
              "fillmode": "overlay",
              "size": 10,
              "solidity": 0.2
             }
            },
            "type": "histogram"
           }
          ],
          "histogram2d": [
           {
            "colorbar": {
             "outlinewidth": 0,
             "ticks": ""
            },
            "colorscale": [
             [
              0,
              "#0d0887"
             ],
             [
              0.1111111111111111,
              "#46039f"
             ],
             [
              0.2222222222222222,
              "#7201a8"
             ],
             [
              0.3333333333333333,
              "#9c179e"
             ],
             [
              0.4444444444444444,
              "#bd3786"
             ],
             [
              0.5555555555555556,
              "#d8576b"
             ],
             [
              0.6666666666666666,
              "#ed7953"
             ],
             [
              0.7777777777777778,
              "#fb9f3a"
             ],
             [
              0.8888888888888888,
              "#fdca26"
             ],
             [
              1,
              "#f0f921"
             ]
            ],
            "type": "histogram2d"
           }
          ],
          "histogram2dcontour": [
           {
            "colorbar": {
             "outlinewidth": 0,
             "ticks": ""
            },
            "colorscale": [
             [
              0,
              "#0d0887"
             ],
             [
              0.1111111111111111,
              "#46039f"
             ],
             [
              0.2222222222222222,
              "#7201a8"
             ],
             [
              0.3333333333333333,
              "#9c179e"
             ],
             [
              0.4444444444444444,
              "#bd3786"
             ],
             [
              0.5555555555555556,
              "#d8576b"
             ],
             [
              0.6666666666666666,
              "#ed7953"
             ],
             [
              0.7777777777777778,
              "#fb9f3a"
             ],
             [
              0.8888888888888888,
              "#fdca26"
             ],
             [
              1,
              "#f0f921"
             ]
            ],
            "type": "histogram2dcontour"
           }
          ],
          "mesh3d": [
           {
            "colorbar": {
             "outlinewidth": 0,
             "ticks": ""
            },
            "type": "mesh3d"
           }
          ],
          "parcoords": [
           {
            "line": {
             "colorbar": {
              "outlinewidth": 0,
              "ticks": ""
             }
            },
            "type": "parcoords"
           }
          ],
          "pie": [
           {
            "automargin": true,
            "type": "pie"
           }
          ],
          "scatter": [
           {
            "fillpattern": {
             "fillmode": "overlay",
             "size": 10,
             "solidity": 0.2
            },
            "type": "scatter"
           }
          ],
          "scatter3d": [
           {
            "line": {
             "colorbar": {
              "outlinewidth": 0,
              "ticks": ""
             }
            },
            "marker": {
             "colorbar": {
              "outlinewidth": 0,
              "ticks": ""
             }
            },
            "type": "scatter3d"
           }
          ],
          "scattercarpet": [
           {
            "marker": {
             "colorbar": {
              "outlinewidth": 0,
              "ticks": ""
             }
            },
            "type": "scattercarpet"
           }
          ],
          "scattergeo": [
           {
            "marker": {
             "colorbar": {
              "outlinewidth": 0,
              "ticks": ""
             }
            },
            "type": "scattergeo"
           }
          ],
          "scattergl": [
           {
            "marker": {
             "colorbar": {
              "outlinewidth": 0,
              "ticks": ""
             }
            },
            "type": "scattergl"
           }
          ],
          "scattermap": [
           {
            "marker": {
             "colorbar": {
              "outlinewidth": 0,
              "ticks": ""
             }
            },
            "type": "scattermap"
           }
          ],
          "scattermapbox": [
           {
            "marker": {
             "colorbar": {
              "outlinewidth": 0,
              "ticks": ""
             }
            },
            "type": "scattermapbox"
           }
          ],
          "scatterpolar": [
           {
            "marker": {
             "colorbar": {
              "outlinewidth": 0,
              "ticks": ""
             }
            },
            "type": "scatterpolar"
           }
          ],
          "scatterpolargl": [
           {
            "marker": {
             "colorbar": {
              "outlinewidth": 0,
              "ticks": ""
             }
            },
            "type": "scatterpolargl"
           }
          ],
          "scatterternary": [
           {
            "marker": {
             "colorbar": {
              "outlinewidth": 0,
              "ticks": ""
             }
            },
            "type": "scatterternary"
           }
          ],
          "surface": [
           {
            "colorbar": {
             "outlinewidth": 0,
             "ticks": ""
            },
            "colorscale": [
             [
              0,
              "#0d0887"
             ],
             [
              0.1111111111111111,
              "#46039f"
             ],
             [
              0.2222222222222222,
              "#7201a8"
             ],
             [
              0.3333333333333333,
              "#9c179e"
             ],
             [
              0.4444444444444444,
              "#bd3786"
             ],
             [
              0.5555555555555556,
              "#d8576b"
             ],
             [
              0.6666666666666666,
              "#ed7953"
             ],
             [
              0.7777777777777778,
              "#fb9f3a"
             ],
             [
              0.8888888888888888,
              "#fdca26"
             ],
             [
              1,
              "#f0f921"
             ]
            ],
            "type": "surface"
           }
          ],
          "table": [
           {
            "cells": {
             "fill": {
              "color": "#EBF0F8"
             },
             "line": {
              "color": "white"
             }
            },
            "header": {
             "fill": {
              "color": "#C8D4E3"
             },
             "line": {
              "color": "white"
             }
            },
            "type": "table"
           }
          ]
         },
         "layout": {
          "annotationdefaults": {
           "arrowcolor": "#2a3f5f",
           "arrowhead": 0,
           "arrowwidth": 1
          },
          "autotypenumbers": "strict",
          "coloraxis": {
           "colorbar": {
            "outlinewidth": 0,
            "ticks": ""
           }
          },
          "colorscale": {
           "diverging": [
            [
             0,
             "#8e0152"
            ],
            [
             0.1,
             "#c51b7d"
            ],
            [
             0.2,
             "#de77ae"
            ],
            [
             0.3,
             "#f1b6da"
            ],
            [
             0.4,
             "#fde0ef"
            ],
            [
             0.5,
             "#f7f7f7"
            ],
            [
             0.6,
             "#e6f5d0"
            ],
            [
             0.7,
             "#b8e186"
            ],
            [
             0.8,
             "#7fbc41"
            ],
            [
             0.9,
             "#4d9221"
            ],
            [
             1,
             "#276419"
            ]
           ],
           "sequential": [
            [
             0,
             "#0d0887"
            ],
            [
             0.1111111111111111,
             "#46039f"
            ],
            [
             0.2222222222222222,
             "#7201a8"
            ],
            [
             0.3333333333333333,
             "#9c179e"
            ],
            [
             0.4444444444444444,
             "#bd3786"
            ],
            [
             0.5555555555555556,
             "#d8576b"
            ],
            [
             0.6666666666666666,
             "#ed7953"
            ],
            [
             0.7777777777777778,
             "#fb9f3a"
            ],
            [
             0.8888888888888888,
             "#fdca26"
            ],
            [
             1,
             "#f0f921"
            ]
           ],
           "sequentialminus": [
            [
             0,
             "#0d0887"
            ],
            [
             0.1111111111111111,
             "#46039f"
            ],
            [
             0.2222222222222222,
             "#7201a8"
            ],
            [
             0.3333333333333333,
             "#9c179e"
            ],
            [
             0.4444444444444444,
             "#bd3786"
            ],
            [
             0.5555555555555556,
             "#d8576b"
            ],
            [
             0.6666666666666666,
             "#ed7953"
            ],
            [
             0.7777777777777778,
             "#fb9f3a"
            ],
            [
             0.8888888888888888,
             "#fdca26"
            ],
            [
             1,
             "#f0f921"
            ]
           ]
          },
          "colorway": [
           "#636efa",
           "#EF553B",
           "#00cc96",
           "#ab63fa",
           "#FFA15A",
           "#19d3f3",
           "#FF6692",
           "#B6E880",
           "#FF97FF",
           "#FECB52"
          ],
          "font": {
           "color": "#2a3f5f"
          },
          "geo": {
           "bgcolor": "white",
           "lakecolor": "white",
           "landcolor": "white",
           "showlakes": true,
           "showland": true,
           "subunitcolor": "#C8D4E3"
          },
          "hoverlabel": {
           "align": "left"
          },
          "hovermode": "closest",
          "mapbox": {
           "style": "light"
          },
          "paper_bgcolor": "white",
          "plot_bgcolor": "white",
          "polar": {
           "angularaxis": {
            "gridcolor": "#EBF0F8",
            "linecolor": "#EBF0F8",
            "ticks": ""
           },
           "bgcolor": "white",
           "radialaxis": {
            "gridcolor": "#EBF0F8",
            "linecolor": "#EBF0F8",
            "ticks": ""
           }
          },
          "scene": {
           "xaxis": {
            "backgroundcolor": "white",
            "gridcolor": "#DFE8F3",
            "gridwidth": 2,
            "linecolor": "#EBF0F8",
            "showbackground": true,
            "ticks": "",
            "zerolinecolor": "#EBF0F8"
           },
           "yaxis": {
            "backgroundcolor": "white",
            "gridcolor": "#DFE8F3",
            "gridwidth": 2,
            "linecolor": "#EBF0F8",
            "showbackground": true,
            "ticks": "",
            "zerolinecolor": "#EBF0F8"
           },
           "zaxis": {
            "backgroundcolor": "white",
            "gridcolor": "#DFE8F3",
            "gridwidth": 2,
            "linecolor": "#EBF0F8",
            "showbackground": true,
            "ticks": "",
            "zerolinecolor": "#EBF0F8"
           }
          },
          "shapedefaults": {
           "line": {
            "color": "#2a3f5f"
           }
          },
          "ternary": {
           "aaxis": {
            "gridcolor": "#DFE8F3",
            "linecolor": "#A2B1C6",
            "ticks": ""
           },
           "baxis": {
            "gridcolor": "#DFE8F3",
            "linecolor": "#A2B1C6",
            "ticks": ""
           },
           "bgcolor": "white",
           "caxis": {
            "gridcolor": "#DFE8F3",
            "linecolor": "#A2B1C6",
            "ticks": ""
           }
          },
          "title": {
           "x": 0.05
          },
          "xaxis": {
           "automargin": true,
           "gridcolor": "#EBF0F8",
           "linecolor": "#EBF0F8",
           "ticks": "",
           "title": {
            "standoff": 15
           },
           "zerolinecolor": "#EBF0F8",
           "zerolinewidth": 2
          },
          "yaxis": {
           "automargin": true,
           "gridcolor": "#EBF0F8",
           "linecolor": "#EBF0F8",
           "ticks": "",
           "title": {
            "standoff": 15
           },
           "zerolinecolor": "#EBF0F8",
           "zerolinewidth": 2
          }
         }
        },
        "title": {
         "text": "Cross-Validation (N=5) Mean F1 score with Error Bands"
        },
        "xaxis": {
         "title": {
          "text": "Training Steps"
         }
        },
        "yaxis": {
         "range": [
          0.5,
          1
         ],
         "title": {
          "text": "Performance Score"
         }
        }
       }
      }
     },
     "metadata": {},
     "output_type": "display_data"
    },
    {
     "name": "stderr",
     "output_type": "stream",
     "text": [
      "/tmp/ipykernel_4690/1819983254.py:50: DeprecationWarning:\n",
      "\n",
      "\n",
      "Support for Kaleido versions less than 1.0.0 is deprecated and will be removed after September 2025.\n",
      "Please upgrade Kaleido to version 1.0.0 or greater (`pip install 'kaleido>=1.0.0'` or `pip install 'plotly[kaleido]'`).\n",
      "\n",
      "\n"
     ]
    },
    {
     "name": "stdout",
     "output_type": "stream",
     "text": [
      "Wykres zapisany przez plotly\n"
     ]
    }
   ],
   "source": [
    "import plotly.graph_objects as go\n",
    "import numpy as np\n",
    "\n",
    "# Create figure\n",
    "fig = go.Figure()\n",
    "\n",
    "# Konwertuj do numpy arrays\n",
    "iterations = cv_results[\"iterations\"].values\n",
    "mean_f1 = cv_results[\"test-F1-mean\"].values\n",
    "std_f1 = cv_results[\"test-F1-std\"].values\n",
    "\n",
    "# Add shaded error region NAJPIERW (żeby była pod linią)\n",
    "fig.add_trace(\n",
    "    go.Scatter(\n",
    "        x=np.concatenate([iterations, iterations[::-1]]),\n",
    "        y=np.concatenate([mean_f1 + std_f1, (mean_f1 - std_f1)[::-1]]),\n",
    "        fill=\"toself\",\n",
    "        fillcolor=\"rgba(0, 0, 255, 0.2)\",\n",
    "        line=dict(width=0),\n",
    "        showlegend=False,\n",
    "        hoverinfo='skip',\n",
    "        name='±1 std'\n",
    "    )\n",
    ")\n",
    "\n",
    "# Add mean performance line\n",
    "fig.add_trace(\n",
    "    go.Scatter(\n",
    "        x=iterations,\n",
    "        y=mean_f1,\n",
    "        mode=\"lines\",\n",
    "        name=\"Mean F1 Score\",\n",
    "        line=dict(color=\"blue\", width=2)\n",
    "    )\n",
    ")\n",
    "\n",
    "# Customize layout\n",
    "fig.update_layout(\n",
    "    title=\"Cross-Validation (N=5) Mean F1 score with Error Bands\",\n",
    "    xaxis_title=\"Training Steps\",\n",
    "    yaxis_title=\"Performance Score\",\n",
    "    template=\"plotly_white\",\n",
    "    yaxis=dict(range=[0.5, 1]),\n",
    "    hovermode='x unified'\n",
    ")\n",
    "\n",
    "fig.show()\n",
    "\n",
    "try:\n",
    "    fig.write_image(outfolder / \"test_f1.png\")\n",
    "    print(\"Wykres zapisany przez plotly\")\n",
    "except Exception as e:\n",
    "    print(f\"Błąd plotly: {e}\")\n",
    "    print(\"Używam matplotlib...\")\n",
    "    \n",
    "    # Fallback do matplotlib\n",
    "    import matplotlib.pyplot as plt\n",
    "    \n",
    "    plt.figure(figsize=(10, 6))\n",
    "    plt.fill_between(iterations, mean_f1 - std_f1, mean_f1 + std_f1, \n",
    "                     alpha=0.2, color='blue', label='±1 std')\n",
    "    plt.plot(iterations, mean_f1, 'b-', linewidth=2, label='Mean F1 Score')\n",
    "    \n",
    "    plt.title(\"Cross-Validation (N=5) Mean F1 score with Error Bands\")\n",
    "    plt.xlabel(\"Training Steps\")\n",
    "    plt.ylabel(\"Performance Score\")\n",
    "    plt.ylim(0.5, 1)\n",
    "    plt.legend()\n",
    "    plt.grid(True, alpha=0.3)\n",
    "    \n",
    "    plt.savefig(outfolder / \"test_f1.png\", dpi=300, bbox_inches='tight')\n",
    "    plt.show()\n",
    "    print(\"Wykres zapisany przez matplotlib\")"
   ]
  },
  {
   "cell_type": "code",
   "execution_count": 16,
   "id": "f9638e88",
   "metadata": {},
   "outputs": [
    {
     "data": {
      "application/vnd.plotly.v1+json": {
       "config": {
        "plotlyServerURL": "https://plot.ly"
       },
       "data": [
        {
         "line": {
          "color": "blue"
         },
         "mode": "lines",
         "name": "Mean logloss",
         "type": "scatter",
         "x": {
          "bdata": "AAABAAIAAwAEAAUABgAHAAgACQAKAAsADAANAA4ADwAQABEAEgATABQAFQAWABcAGAAZABoAGwAcAB0AHgAfACAAIQAiACMAJAAlACYAJwAoACkAKgArACwALQAuAC8AMAAxADIAMwA0ADUANgA3ADgAOQA6ADsAPAA9AD4APwBAAEEAQgBDAEQARQBGAEcASABJAEoASwBMAE0ATgBPAFAAUQBSAFMAVABVAFYAVwBYAFkAWgBbAFwAXQBeAF8AYABhAGIAYwBkAGUAZgBnAGgAaQBqAGsAbABtAG4AbwBwAHEAcgBzAHQAdQB2AHcAeAB5AHoAewB8AH0AfgB/AIAAgQCCAIMAhACFAIYAhwCIAIkAigCLAIwAjQCOAI8AkACRAJIAkwCUAJUAlgCXAJgAmQCaAJsAnACdAJ4AnwCgAKEAogCjAKQApQCmAKcAqACpAKoAqwCsAK0ArgCvALAAsQCyALMAtAC1ALYAtwC4ALkAugC7ALwAvQC+AL8AwADBAMIAwwDEAMUAxgDHAMgAyQDKAMsAzADNAM4AzwDQANEA0gDTANQA1QDWANcA2ADZANoA2wDcAN0A3gDfAOAA4QDiAOMA5ADlAOYA5wDoAOkA6gDrAOwA7QDuAO8A8ADxAPIA8wD0APUA9gD3APgA+QD6APsA/AD9AP4A/wAAAQEBAgEDAQQBBQEGAQcBCAEJAQoBCwEMAQ0BDgEPARABEQESARMBFAEVARYBFwEYARkBGgEbARwBHQEeAR8BIAEhASIBIwEkASUBJgEnASgBKQE=",
          "dtype": "i2"
         },
         "y": {
          "bdata": "rvYQxXTt4z9mYpL5MJziP9A/Vrh03+E/8uto+ONb4T8MUKs8qv7gPyskZMtUyuA/1NWooc2Y4D+BWKWftXHgPxpUqCQYUeA/ysPDc3E74D+ze7nfFS/gP5ctCwdaJOA/aO4Gq6cV4D9n4OILKQjgP3eJj91GAeA/mBZ5Bf/23z9+yY2qJezfP0J66KZi5t8/iBatq2Xc3z+AFftOidXfP8OSQq5p0N8/PXo2Y4nI3z8lHSqrBsTfP9YafY5Aud8/pnxaNay23z9Ab/ChMbHfP/CGnTzxrd8/axRCg22m3z8iW8EAsqPfP5tTcO1Fn98/lvR1kt6W3z/zw6tQZpTfP/XR/3kTkd8/fvk9KxaO3z/WtTG2N4zfP4YSOsYOid8/1syQTKaF3z8CFAMfI4XfP6v4XlqFgN8/vpYL4VR93z/a7FBguHffP7ZlZJfZdN8//bC/CGFv3z9wtxrWX2zfPzZ1iWKhad8/nbHAep9l3z9W6InJz2LfPwCIHghbXt8/KBbYJcJb3z8FQhvvJ1nfP3WO3wCoVt8/yMWvRblT3z+AsdYtulDfP/WWEfmPTd8/iMYskXtK3z8rYp0gV0jfP4I4uzPyRt8/gMhw1cdE3z8W8sWfaULfP+oR7yNpQd8/06oUBvk+3z+OkWhl8TzfP11Z6bzZO98/MlRqQ3463z+FlCXv1jjfPyPuYN9nN98/ZlSIiRk23z+DDFkXxjTfPw4nE1APNN8/dUvyexQz3z82ZBIlYDLfP1hPUSjFMd8/rtw+V44x3z/mrIU8rTDfPyOJmVj+L98/DTjBCfYv3z+lA2iX0i/fP6YrD/9vL98/sAhe7QIv3z8dNPWo7C7fP7gMjjLILt8/crAx1ogu3z8VXRfiay7fP949DH95Lt8/CiKV5j4u3z8yxcj9DC7fP8uTAqCpLd8/0CUCqoUt3z9+y6HXXC3fP0UlEl7QLN8/eKgmIrkr3z8y1MGJOCvfP20pXwjUKt8/O78IQ9sp3z/gdszglinfP7OS/kLDKd8/BvrQ2wUp3z+rHY8JWCjfPxNCIyDwJ98/BTFbnrgn3z+qI+34qCffP1oj0SY4J98/AK/Y/bsm3z/LUKO0zCXfP2PdkZ6WJd8/AFQfm6wl3z8tVNxJKSbfPxqyKzeeJd8/FcrgssUl3z9tIQB7XyXfP+LPMp2EJd8/0tEov/8k3z8CPn4CwCTfP6UtSjBdJN8/KuZoLGgk3z+Q9KVnlyTfPx40AWGPJN8/0jb9U2Ak3z8+li2MiCTfP01sb0VGJN8/jvV7pi8k3z/g/3KLiyPfP159/JEtI98/UmOE+N4i3z+4AWgjbiLfP7hy3TscIt8/bRv67PEh3z/1t+bKAiLfP2IPL0JHIt8/lvpxiCAi3z84VVZXLSLfP47dafYLIt8/YxD+4C8i3z8DxuF2UiLfP3gYHL87It8/vbvybRUi3z9eASvECCLfP5CuYmr9Id8/CnC2QOkh3z9jI9G2/yHfP9JR0KDtId8/XWW9bwYi3z++emIC5yHfP8oj/XgvIt8/ogg5Ji4i3z8VJGK/mCLfPxJIkKCQIt8/aiDUwpIi3z/ouHD3dyLfPyVvUKNFIt8/e3p8XRgi3z/C/bTZuSHfP4BK3O2QId8/EyWi/kIh3z/a5cr8TyHfP3qhWjk3Id8/kwGdsvYg3z/V3M+tUiHfP0hzdSI7Id8/cMYL5iwh3z/648i29SDfPyaeTipaId8/3ilm1VMh3z89TG083CDfPz6LEsnkIN8/sHeoc64g3z/zN8e4AyHfP5B1ZAgYId8/XfHTwf4g3z+TZavCFSHfP+KssI5YId8/UMJ4OtUh3z9ec+ajjSLfP40evE8mI98/jmr+4E4j3z9KfQOYpSPfP776nSGeI98/UOAr2Koj3z9QEF2rhCPfP23tkSlDI98/m/v2klAj3z8rV0WMMSPfP+0QLXsZI98/q16LZj0j3z8LXV6ubSPfPxL1ZMgcI98/qtfGtlIj3z+LyYz/GCPfP6PTgMBMI98/QO81mUwj3z/aw9pggCPfP6X+EMpTI98//jKTqiYj3z+e+pjtDiPfPzY5nR4cI98/u/7eYTIj3z/OcxCw/iHfP9gepkfoId8/vtgNQvEh3z+6b++YCCLfPxZcs4cNIt8/qoXWAE0i3z9iLXbsTSLfP8K7Lr0PIt8/ShC/WNsh3z8e69XgviHfP3YGZqfAId8/zpUVmush3z8bhh9MMyLfP/jUTPkNIt8/FukPsM4h3z/zMrqG3CHfP3OHF07qId8/W3AHoech3z9rxY3g9iHfP1scSNyhId8/NduQ/2Eh3z/yZ+gZdSHfPybRrfxmId8/TYZKG20h3z+mK2wNnCHfP2hWBdF9Id8/fWv1A6kh3z/93H6s/iHfPzj+IA8YIt8/xkC/AAAi3z8qpe8UCiLfPzoAT3BHIt8/m8TCdSIi3z+LAh8kFiLfP/3Q3ws5It8/Rca675ci3z9+3l52wiLfP0u6H3TKIt8/tr8JUtwi3z9AQUz10yLfP/IH/q3CIt8/ZqzXmbQi3z+DRD8fvCLfP/sfRjbWIt8/rY/tRqYi3z+SwWFdpyLfP5DzllSQIt8/9pJZDoMi3z9DKSqhjSLfP71OjbK2It8/M41E8N4i3z847KTNoiLfPyLmO52fIt8/sGR8BKAi3z/zx41VvyLfP74c6wy5It8/akgWEaEi3z916g5EpyLfP53OdMLWIt8/6xdy7boi3z8bV9ToASPfP9sMjO0ZI98/w6hWagsj3z8aE5yzEiPfPxjdBgn0It8/ns/TKBUj3z81x/ryhCPfP13XFw7XI98/Db4tFKIj3z91Uy58nyPfP0YoPIwAJN8/1ZfOQ/Mj3z8INvGqKCTfP3PMM3srJN8/Cn29zx0k3z/TLKmXaSTfP7slZcxTJN8/uOMV/GEk3z8miKk4diTfP/aKpcRaJN8/W2+/CHAk3z/bYoPGgiTfPxatgReKJN8/Ru3G/qQk3z9qJeYwmiTfP9gEllWrJN8/ZlVl2n8k3z9N7JDJbyTfP7h1bFlHJN8/4DM1YEQk3z/N7B1p/CPfP6Pgcur2I98/6+pjZ+Mj3z9WY7zB0SPfPzJVGVu7I98/E9OmTQEk3z/aHojz7yPfP/JkZ8owJN8/TQXYngwk3z/qe0kqiSTfP6BFt0PNJN8/O7L03qEk3z8=",
          "dtype": "f8"
         }
        },
        {
         "fill": "toself",
         "fillcolor": "rgba(0, 0, 255, 0.2)",
         "line": {
          "color": "rgba(255, 255, 255, 0)"
         },
         "showlegend": false,
         "type": "scatter",
         "x": {
          "bdata": "AAABAAIAAwAEAAUABgAHAAgACQAKAAsADAANAA4ADwAQABEAEgATABQAFQAWABcAGAAZABoAGwAcAB0AHgAfACAAIQAiACMAJAAlACYAJwAoACkAKgArACwALQAuAC8AMAAxADIAMwA0ADUANgA3ADgAOQA6ADsAPAA9AD4APwBAAEEAQgBDAEQARQBGAEcASABJAEoASwBMAE0ATgBPAFAAUQBSAFMAVABVAFYAVwBYAFkAWgBbAFwAXQBeAF8AYABhAGIAYwBkAGUAZgBnAGgAaQBqAGsAbABtAG4AbwBwAHEAcgBzAHQAdQB2AHcAeAB5AHoAewB8AH0AfgB/AIAAgQCCAIMAhACFAIYAhwCIAIkAigCLAIwAjQCOAI8AkACRAJIAkwCUAJUAlgCXAJgAmQCaAJsAnACdAJ4AnwCgAKEAogCjAKQApQCmAKcAqACpAKoAqwCsAK0ArgCvALAAsQCyALMAtAC1ALYAtwC4ALkAugC7ALwAvQC+AL8AwADBAMIAwwDEAMUAxgDHAMgAyQDKAMsAzADNAM4AzwDQANEA0gDTANQA1QDWANcA2ADZANoA2wDcAN0A3gDfAOAA4QDiAOMA5ADlAOYA5wDoAOkA6gDrAOwA7QDuAO8A8ADxAPIA8wD0APUA9gD3APgA+QD6APsA/AD9AP4A/wAAAQEBAgEDAQQBBQEGAQcBCAEJAQoBCwEMAQ0BDgEPARABEQESARMBFAEVARYBFwEYARkBGgEbARwBHQEeAR8BIAEhASIBIwEkASUBJgEnASgBKQEpASgBJwEmASUBJAEjASIBIQEgAR8BHgEdARwBGwEaARkBGAEXARYBFQEUARMBEgERARABDwEOAQ0BDAELAQoBCQEIAQcBBgEFAQQBAwECAQEBAAH/AP4A/QD8APsA+gD5APgA9wD2APUA9ADzAPIA8QDwAO8A7gDtAOwA6wDqAOkA6ADnAOYA5QDkAOMA4gDhAOAA3wDeAN0A3ADbANoA2QDYANcA1gDVANQA0wDSANEA0ADPAM4AzQDMAMsAygDJAMgAxwDGAMUAxADDAMIAwQDAAL8AvgC9ALwAuwC6ALkAuAC3ALYAtQC0ALMAsgCxALAArwCuAK0ArACrAKoAqQCoAKcApgClAKQAowCiAKEAoACfAJ4AnQCcAJsAmgCZAJgAlwCWAJUAlACTAJIAkQCQAI8AjgCNAIwAiwCKAIkAiACHAIYAhQCEAIMAggCBAIAAfwB+AH0AfAB7AHoAeQB4AHcAdgB1AHQAcwByAHEAcABvAG4AbQBsAGsAagBpAGgAZwBmAGUAZABjAGIAYQBgAF8AXgBdAFwAWwBaAFkAWABXAFYAVQBUAFMAUgBRAFAATwBOAE0ATABLAEoASQBIAEcARgBFAEQAQwBCAEEAQAA/AD4APQA8ADsAOgA5ADgANwA2ADUANAAzADIAMQAwAC8ALgAtACwAKwAqACkAKAAnACYAJQAkACMAIgAhACAAHwAeAB0AHAAbABoAGQAYABcAFgAVABQAEwASABEAEAAPAA4ADQAMAAsACgAJAAgABwAGAAUABAADAAIAAQAAAA==",
          "dtype": "i2"
         },
         "y": {
          "bdata": "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",
          "dtype": "f8"
         }
        }
       ],
       "layout": {
        "template": {
         "data": {
          "bar": [
           {
            "error_x": {
             "color": "#2a3f5f"
            },
            "error_y": {
             "color": "#2a3f5f"
            },
            "marker": {
             "line": {
              "color": "white",
              "width": 0.5
             },
             "pattern": {
              "fillmode": "overlay",
              "size": 10,
              "solidity": 0.2
             }
            },
            "type": "bar"
           }
          ],
          "barpolar": [
           {
            "marker": {
             "line": {
              "color": "white",
              "width": 0.5
             },
             "pattern": {
              "fillmode": "overlay",
              "size": 10,
              "solidity": 0.2
             }
            },
            "type": "barpolar"
           }
          ],
          "carpet": [
           {
            "aaxis": {
             "endlinecolor": "#2a3f5f",
             "gridcolor": "#C8D4E3",
             "linecolor": "#C8D4E3",
             "minorgridcolor": "#C8D4E3",
             "startlinecolor": "#2a3f5f"
            },
            "baxis": {
             "endlinecolor": "#2a3f5f",
             "gridcolor": "#C8D4E3",
             "linecolor": "#C8D4E3",
             "minorgridcolor": "#C8D4E3",
             "startlinecolor": "#2a3f5f"
            },
            "type": "carpet"
           }
          ],
          "choropleth": [
           {
            "colorbar": {
             "outlinewidth": 0,
             "ticks": ""
            },
            "type": "choropleth"
           }
          ],
          "contour": [
           {
            "colorbar": {
             "outlinewidth": 0,
             "ticks": ""
            },
            "colorscale": [
             [
              0,
              "#0d0887"
             ],
             [
              0.1111111111111111,
              "#46039f"
             ],
             [
              0.2222222222222222,
              "#7201a8"
             ],
             [
              0.3333333333333333,
              "#9c179e"
             ],
             [
              0.4444444444444444,
              "#bd3786"
             ],
             [
              0.5555555555555556,
              "#d8576b"
             ],
             [
              0.6666666666666666,
              "#ed7953"
             ],
             [
              0.7777777777777778,
              "#fb9f3a"
             ],
             [
              0.8888888888888888,
              "#fdca26"
             ],
             [
              1,
              "#f0f921"
             ]
            ],
            "type": "contour"
           }
          ],
          "contourcarpet": [
           {
            "colorbar": {
             "outlinewidth": 0,
             "ticks": ""
            },
            "type": "contourcarpet"
           }
          ],
          "heatmap": [
           {
            "colorbar": {
             "outlinewidth": 0,
             "ticks": ""
            },
            "colorscale": [
             [
              0,
              "#0d0887"
             ],
             [
              0.1111111111111111,
              "#46039f"
             ],
             [
              0.2222222222222222,
              "#7201a8"
             ],
             [
              0.3333333333333333,
              "#9c179e"
             ],
             [
              0.4444444444444444,
              "#bd3786"
             ],
             [
              0.5555555555555556,
              "#d8576b"
             ],
             [
              0.6666666666666666,
              "#ed7953"
             ],
             [
              0.7777777777777778,
              "#fb9f3a"
             ],
             [
              0.8888888888888888,
              "#fdca26"
             ],
             [
              1,
              "#f0f921"
             ]
            ],
            "type": "heatmap"
           }
          ],
          "histogram": [
           {
            "marker": {
             "pattern": {
              "fillmode": "overlay",
              "size": 10,
              "solidity": 0.2
             }
            },
            "type": "histogram"
           }
          ],
          "histogram2d": [
           {
            "colorbar": {
             "outlinewidth": 0,
             "ticks": ""
            },
            "colorscale": [
             [
              0,
              "#0d0887"
             ],
             [
              0.1111111111111111,
              "#46039f"
             ],
             [
              0.2222222222222222,
              "#7201a8"
             ],
             [
              0.3333333333333333,
              "#9c179e"
             ],
             [
              0.4444444444444444,
              "#bd3786"
             ],
             [
              0.5555555555555556,
              "#d8576b"
             ],
             [
              0.6666666666666666,
              "#ed7953"
             ],
             [
              0.7777777777777778,
              "#fb9f3a"
             ],
             [
              0.8888888888888888,
              "#fdca26"
             ],
             [
              1,
              "#f0f921"
             ]
            ],
            "type": "histogram2d"
           }
          ],
          "histogram2dcontour": [
           {
            "colorbar": {
             "outlinewidth": 0,
             "ticks": ""
            },
            "colorscale": [
             [
              0,
              "#0d0887"
             ],
             [
              0.1111111111111111,
              "#46039f"
             ],
             [
              0.2222222222222222,
              "#7201a8"
             ],
             [
              0.3333333333333333,
              "#9c179e"
             ],
             [
              0.4444444444444444,
              "#bd3786"
             ],
             [
              0.5555555555555556,
              "#d8576b"
             ],
             [
              0.6666666666666666,
              "#ed7953"
             ],
             [
              0.7777777777777778,
              "#fb9f3a"
             ],
             [
              0.8888888888888888,
              "#fdca26"
             ],
             [
              1,
              "#f0f921"
             ]
            ],
            "type": "histogram2dcontour"
           }
          ],
          "mesh3d": [
           {
            "colorbar": {
             "outlinewidth": 0,
             "ticks": ""
            },
            "type": "mesh3d"
           }
          ],
          "parcoords": [
           {
            "line": {
             "colorbar": {
              "outlinewidth": 0,
              "ticks": ""
             }
            },
            "type": "parcoords"
           }
          ],
          "pie": [
           {
            "automargin": true,
            "type": "pie"
           }
          ],
          "scatter": [
           {
            "fillpattern": {
             "fillmode": "overlay",
             "size": 10,
             "solidity": 0.2
            },
            "type": "scatter"
           }
          ],
          "scatter3d": [
           {
            "line": {
             "colorbar": {
              "outlinewidth": 0,
              "ticks": ""
             }
            },
            "marker": {
             "colorbar": {
              "outlinewidth": 0,
              "ticks": ""
             }
            },
            "type": "scatter3d"
           }
          ],
          "scattercarpet": [
           {
            "marker": {
             "colorbar": {
              "outlinewidth": 0,
              "ticks": ""
             }
            },
            "type": "scattercarpet"
           }
          ],
          "scattergeo": [
           {
            "marker": {
             "colorbar": {
              "outlinewidth": 0,
              "ticks": ""
             }
            },
            "type": "scattergeo"
           }
          ],
          "scattergl": [
           {
            "marker": {
             "colorbar": {
              "outlinewidth": 0,
              "ticks": ""
             }
            },
            "type": "scattergl"
           }
          ],
          "scattermap": [
           {
            "marker": {
             "colorbar": {
              "outlinewidth": 0,
              "ticks": ""
             }
            },
            "type": "scattermap"
           }
          ],
          "scattermapbox": [
           {
            "marker": {
             "colorbar": {
              "outlinewidth": 0,
              "ticks": ""
             }
            },
            "type": "scattermapbox"
           }
          ],
          "scatterpolar": [
           {
            "marker": {
             "colorbar": {
              "outlinewidth": 0,
              "ticks": ""
             }
            },
            "type": "scatterpolar"
           }
          ],
          "scatterpolargl": [
           {
            "marker": {
             "colorbar": {
              "outlinewidth": 0,
              "ticks": ""
             }
            },
            "type": "scatterpolargl"
           }
          ],
          "scatterternary": [
           {
            "marker": {
             "colorbar": {
              "outlinewidth": 0,
              "ticks": ""
             }
            },
            "type": "scatterternary"
           }
          ],
          "surface": [
           {
            "colorbar": {
             "outlinewidth": 0,
             "ticks": ""
            },
            "colorscale": [
             [
              0,
              "#0d0887"
             ],
             [
              0.1111111111111111,
              "#46039f"
             ],
             [
              0.2222222222222222,
              "#7201a8"
             ],
             [
              0.3333333333333333,
              "#9c179e"
             ],
             [
              0.4444444444444444,
              "#bd3786"
             ],
             [
              0.5555555555555556,
              "#d8576b"
             ],
             [
              0.6666666666666666,
              "#ed7953"
             ],
             [
              0.7777777777777778,
              "#fb9f3a"
             ],
             [
              0.8888888888888888,
              "#fdca26"
             ],
             [
              1,
              "#f0f921"
             ]
            ],
            "type": "surface"
           }
          ],
          "table": [
           {
            "cells": {
             "fill": {
              "color": "#EBF0F8"
             },
             "line": {
              "color": "white"
             }
            },
            "header": {
             "fill": {
              "color": "#C8D4E3"
             },
             "line": {
              "color": "white"
             }
            },
            "type": "table"
           }
          ]
         },
         "layout": {
          "annotationdefaults": {
           "arrowcolor": "#2a3f5f",
           "arrowhead": 0,
           "arrowwidth": 1
          },
          "autotypenumbers": "strict",
          "coloraxis": {
           "colorbar": {
            "outlinewidth": 0,
            "ticks": ""
           }
          },
          "colorscale": {
           "diverging": [
            [
             0,
             "#8e0152"
            ],
            [
             0.1,
             "#c51b7d"
            ],
            [
             0.2,
             "#de77ae"
            ],
            [
             0.3,
             "#f1b6da"
            ],
            [
             0.4,
             "#fde0ef"
            ],
            [
             0.5,
             "#f7f7f7"
            ],
            [
             0.6,
             "#e6f5d0"
            ],
            [
             0.7,
             "#b8e186"
            ],
            [
             0.8,
             "#7fbc41"
            ],
            [
             0.9,
             "#4d9221"
            ],
            [
             1,
             "#276419"
            ]
           ],
           "sequential": [
            [
             0,
             "#0d0887"
            ],
            [
             0.1111111111111111,
             "#46039f"
            ],
            [
             0.2222222222222222,
             "#7201a8"
            ],
            [
             0.3333333333333333,
             "#9c179e"
            ],
            [
             0.4444444444444444,
             "#bd3786"
            ],
            [
             0.5555555555555556,
             "#d8576b"
            ],
            [
             0.6666666666666666,
             "#ed7953"
            ],
            [
             0.7777777777777778,
             "#fb9f3a"
            ],
            [
             0.8888888888888888,
             "#fdca26"
            ],
            [
             1,
             "#f0f921"
            ]
           ],
           "sequentialminus": [
            [
             0,
             "#0d0887"
            ],
            [
             0.1111111111111111,
             "#46039f"
            ],
            [
             0.2222222222222222,
             "#7201a8"
            ],
            [
             0.3333333333333333,
             "#9c179e"
            ],
            [
             0.4444444444444444,
             "#bd3786"
            ],
            [
             0.5555555555555556,
             "#d8576b"
            ],
            [
             0.6666666666666666,
             "#ed7953"
            ],
            [
             0.7777777777777778,
             "#fb9f3a"
            ],
            [
             0.8888888888888888,
             "#fdca26"
            ],
            [
             1,
             "#f0f921"
            ]
           ]
          },
          "colorway": [
           "#636efa",
           "#EF553B",
           "#00cc96",
           "#ab63fa",
           "#FFA15A",
           "#19d3f3",
           "#FF6692",
           "#B6E880",
           "#FF97FF",
           "#FECB52"
          ],
          "font": {
           "color": "#2a3f5f"
          },
          "geo": {
           "bgcolor": "white",
           "lakecolor": "white",
           "landcolor": "white",
           "showlakes": true,
           "showland": true,
           "subunitcolor": "#C8D4E3"
          },
          "hoverlabel": {
           "align": "left"
          },
          "hovermode": "closest",
          "mapbox": {
           "style": "light"
          },
          "paper_bgcolor": "white",
          "plot_bgcolor": "white",
          "polar": {
           "angularaxis": {
            "gridcolor": "#EBF0F8",
            "linecolor": "#EBF0F8",
            "ticks": ""
           },
           "bgcolor": "white",
           "radialaxis": {
            "gridcolor": "#EBF0F8",
            "linecolor": "#EBF0F8",
            "ticks": ""
           }
          },
          "scene": {
           "xaxis": {
            "backgroundcolor": "white",
            "gridcolor": "#DFE8F3",
            "gridwidth": 2,
            "linecolor": "#EBF0F8",
            "showbackground": true,
            "ticks": "",
            "zerolinecolor": "#EBF0F8"
           },
           "yaxis": {
            "backgroundcolor": "white",
            "gridcolor": "#DFE8F3",
            "gridwidth": 2,
            "linecolor": "#EBF0F8",
            "showbackground": true,
            "ticks": "",
            "zerolinecolor": "#EBF0F8"
           },
           "zaxis": {
            "backgroundcolor": "white",
            "gridcolor": "#DFE8F3",
            "gridwidth": 2,
            "linecolor": "#EBF0F8",
            "showbackground": true,
            "ticks": "",
            "zerolinecolor": "#EBF0F8"
           }
          },
          "shapedefaults": {
           "line": {
            "color": "#2a3f5f"
           }
          },
          "ternary": {
           "aaxis": {
            "gridcolor": "#DFE8F3",
            "linecolor": "#A2B1C6",
            "ticks": ""
           },
           "baxis": {
            "gridcolor": "#DFE8F3",
            "linecolor": "#A2B1C6",
            "ticks": ""
           },
           "bgcolor": "white",
           "caxis": {
            "gridcolor": "#DFE8F3",
            "linecolor": "#A2B1C6",
            "ticks": ""
           }
          },
          "title": {
           "x": 0.05
          },
          "xaxis": {
           "automargin": true,
           "gridcolor": "#EBF0F8",
           "linecolor": "#EBF0F8",
           "ticks": "",
           "title": {
            "standoff": 15
           },
           "zerolinecolor": "#EBF0F8",
           "zerolinewidth": 2
          },
          "yaxis": {
           "automargin": true,
           "gridcolor": "#EBF0F8",
           "linecolor": "#EBF0F8",
           "ticks": "",
           "title": {
            "standoff": 15
           },
           "zerolinecolor": "#EBF0F8",
           "zerolinewidth": 2
          }
         }
        },
        "title": {
         "text": "Cross-Validation (N=5) Mean Logloss with Error Bands"
        },
        "xaxis": {
         "title": {
          "text": "Training Steps"
         }
        },
        "yaxis": {
         "title": {
          "text": "Logloss"
         }
        }
       }
      }
     },
     "metadata": {},
     "output_type": "display_data"
    },
    {
     "name": "stderr",
     "output_type": "stream",
     "text": [
      "/tmp/ipykernel_4690/918962435.py:36: DeprecationWarning:\n",
      "\n",
      "\n",
      "Support for Kaleido versions less than 1.0.0 is deprecated and will be removed after September 2025.\n",
      "Please upgrade Kaleido to version 1.0.0 or greater (`pip install 'kaleido>=1.0.0'` or `pip install 'plotly[kaleido]'`).\n",
      "\n",
      "\n"
     ]
    }
   ],
   "source": [
    "import plotly.graph_objects as go\n",
    "\n",
    "# Create figure\n",
    "fig = go.Figure()\n",
    "\n",
    "# Add mean performance line\n",
    "fig.add_trace(\n",
    "    go.Scatter(\n",
    "        x=cv_results[\"iterations\"], y=cv_results[\"test-Logloss-mean\"], mode=\"lines\", name=\"Mean logloss\", line=dict(color=\"blue\")\n",
    "    )\n",
    ")\n",
    "\n",
    "# Add shaded error region\n",
    "fig.add_trace(\n",
    "    go.Scatter(\n",
    "        x=pd.concat([cv_results[\"iterations\"], cv_results[\"iterations\"][::-1]]),\n",
    "        y=pd.concat([cv_results[\"test-Logloss-mean\"]+cv_results[\"test-Logloss-std\"], \n",
    "                     cv_results[\"test-Logloss-mean\"]-cv_results[\"test-Logloss-std\"]]),\n",
    "        fill=\"toself\", \n",
    "        fillcolor=\"rgba(0, 0, 255, 0.2)\",\n",
    "        line=dict(color=\"rgba(255, 255, 255, 0)\"),\n",
    "        showlegend=False\n",
    "    )\n",
    ")\n",
    "\n",
    "# Customize layout\n",
    "fig.update_layout(\n",
    "    title=\"Cross-Validation (N=5) Mean Logloss with Error Bands\",\n",
    "    xaxis_title=\"Training Steps\",\n",
    "    yaxis_title=\"Logloss\",\n",
    "    template=\"plotly_white\"\n",
    ")\n",
    "\n",
    "fig.show()\n",
    "\n",
    "fig.write_image(outfolder / \"test_logloss.png\")"
   ]
  },
  {
   "cell_type": "code",
   "execution_count": 17,
   "id": "55c3f566",
   "metadata": {},
   "outputs": [
    {
     "data": {
      "application/vnd.jupyter.widget-view+json": {
       "model_id": "3b2ca44018514557996db5d5c3e7da95",
       "version_major": 2,
       "version_minor": 0
      },
      "text/plain": [
       "MetricVisualizer(layout=Layout(align_self='stretch', height='500px'))"
      ]
     },
     "metadata": {},
     "output_type": "display_data"
    },
    {
     "name": "stdout",
     "output_type": "stream",
     "text": [
      "0:\tlearn: 0.7159784\ttotal: 528ms\tremaining: 2m 36s\n",
      "50:\tlearn: 0.7749355\ttotal: 13.5s\tremaining: 1m 5s\n",
      "100:\tlearn: 0.7765167\ttotal: 20.4s\tremaining: 39.8s\n",
      "150:\tlearn: 0.7779497\ttotal: 28.2s\tremaining: 27.4s\n",
      "200:\tlearn: 0.7787605\ttotal: 35.6s\tremaining: 17.2s\n",
      "250:\tlearn: 0.7792271\ttotal: 43.1s\tremaining: 8.07s\n",
      "297:\tlearn: 0.7801017\ttotal: 50.1s\tremaining: 0us\n"
     ]
    },
    {
     "data": {
      "text/plain": [
       "['results/model_params.pkl']"
      ]
     },
     "execution_count": 17,
     "metadata": {},
     "output_type": "execute_result"
    }
   ],
   "source": [
    "model.fit(\n",
    "    X_train,\n",
    "    y_train,\n",
    "    verbose_eval=50,\n",
    "    early_stopping_rounds=50,\n",
    "    use_best_model=False,\n",
    "    plot=True\n",
    ")\n",
    "\n",
    "model.save_model(outfolder / 'catboost_model_HeartDisease.cbm')\n",
    "joblib.dump(params, outfolder / 'model_params.pkl')"
   ]
  },
  {
   "cell_type": "code",
   "execution_count": 18,
   "id": "8ee2596a",
   "metadata": {},
   "outputs": [
    {
     "data": {
      "text/plain": [
       "array([1, 0, 0, ..., 1, 1, 1], shape=(63959,))"
      ]
     },
     "execution_count": 18,
     "metadata": {},
     "output_type": "execute_result"
    }
   ],
   "source": [
    "model.predict(df_test)"
   ]
  },
  {
   "cell_type": "code",
   "execution_count": 19,
   "id": "92259ea1",
   "metadata": {},
   "outputs": [],
   "source": [
    "preds = model.predict(df_test[X_train.columns])"
   ]
  },
  {
   "cell_type": "code",
   "execution_count": 20,
   "id": "1ca84026",
   "metadata": {},
   "outputs": [
    {
     "data": {
      "image/png": "[encoded data removed]",
      "text/plain": [
       "<Figure size 800x830 with 2 Axes>"
      ]
     },
     "metadata": {},
     "output_type": "display_data"
    }
   ],
   "source": [
    "import shap\n",
    "import matplotlib.pyplot as plt\n",
    "explainer = shap.TreeExplainer(model)\n",
    "shap_values = explainer.shap_values(df_test)\n",
    "\n",
    "shap.summary_plot(shap_values, df_test, show=False)\n",
    "plt.savefig(outfolder / \"test_shap_overall.png\")"
   ]
  },
  {
   "cell_type": "code",
   "execution_count": 21,
   "id": "70d92d95",
   "metadata": {},
   "outputs": [],
   "source": [
    "df_test[\"target\"] = preds\n",
    "df_test.to_csv(outfolder / \"predictions.csv\", index=False)"
   ]
  }
 ],
 "metadata": {
  "kernelspec": {
   "display_name": "venv",
   "language": "python",
   "name": "python3"
  },
  "language_info": {
   "codemirror_mode": {
    "name": "ipython",
    "version": 3
   },
   "file_extension": ".py",
   "mimetype": "text/x-python",
   "name": "python",
   "nbconvert_exporter": "python",
   "pygments_lexer": "ipython3",
   "version": "3.11.13"
  }
 },
 "nbformat": 4,
 "nbformat_minor": 5
}
