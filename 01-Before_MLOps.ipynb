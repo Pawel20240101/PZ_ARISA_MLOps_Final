{
 "cells": [
  {
   "cell_type": "markdown",
   "id": "84407b9c",
   "metadata": {},
   "source": [
    "Data set from Kaggle: \n",
    "\n",
    "https://www.kaggle.com/datasets/kamilpytlak/personal-key-indicators-of-heart-disease"
   ]
  },
  {
   "cell_type": "code",
   "execution_count": null,
   "id": "d49ecc06",
   "metadata": {},
   "outputs": [],
   "source": [
    "%pip install catboost matplotlib pandas scikit-learn kaggle optuna ipywidgets shap jupyterlab-rise"
   ]
  },
  {
   "cell_type": "code",
   "execution_count": null,
   "id": "2109adf6",
   "metadata": {},
   "outputs": [],
   "source": [
    "%pip install plotly kaleido"
   ]
  },
  {
   "cell_type": "code",
   "execution_count": null,
   "id": "e1316834",
   "metadata": {},
   "outputs": [],
   "source": [
    "from pathlib import Path\n",
    "\n",
    "cwd = Path.cwd()\n",
    "print(\"Aktualna ścieżka:\", cwd)"
   ]
  },
  {
   "cell_type": "code",
   "execution_count": null,
   "id": "d9f9592b",
   "metadata": {},
   "outputs": [],
   "source": [
    "import os\n",
    "from pathlib import Path\n",
    "container_check = os.getenv(\"iscontainer\")\n",
    "if container_check==\"y\":\n",
    "    config_dir = Path(\"/home/vscode/.config/kaggle\")\n",
    "    config_dir.mkdir(parents=True, exist_ok=True)\n",
    "    \n",
    "    with open(config_dir / \"kaggle.json\", \"w\") as dst:\n",
    "        with open(\"./kaggle.json\", \"r\") as src:\n",
    "            dst.write(src.read())"
   ]
  },
  {
   "cell_type": "code",
   "execution_count": null,
   "id": "b098b3c9",
   "metadata": {},
   "outputs": [],
   "source": [
    "import os\n",
    "import zipfile\n",
    "import shutil\n",
    "from pathlib import Path\n",
    "from kaggle.api.kaggle_api_extended import KaggleApi\n",
    "\n",
    "api = KaggleApi()\n",
    "api.authenticate()\n",
    "\n",
    "dataset_name = \"kamilpytlak/personal-key-indicators-of-heart-disease\"\n",
    "download_folder = Path(\"data/heart-disease\")\n",
    "download_folder.mkdir(parents=True, exist_ok=True)\n",
    "\n",
    "api.dataset_download_files(dataset_name, path=str(download_folder), unzip=True)\n",
    "\n",
    "base_dir = Path(\"data/heart-disease\")\n",
    "file_to_move = base_dir / \"2020\" / \"heart_2020_cleaned.csv\"\n",
    "target_location = base_dir / \"heart_2020_cleaned.csv\"\n",
    "\n",
    "# Przenieś plik\n",
    "if file_to_move.exists():\n",
    "    shutil.move(str(file_to_move), str(target_location))\n",
    "    print(f\"Przeniesiono: {file_to_move.name} → {target_location}\")\n",
    "else:\n",
    "    print(\"Plik nie istnieje:\", file_to_move)\n",
    "\n",
    "# Usuń foldery 2020 i 2022\n",
    "for folder in [\"2020\", \"2022\"]:\n",
    "    folder_path = base_dir / folder\n",
    "    if folder_path.exists() and folder_path.is_dir():\n",
    "        shutil.rmtree(folder_path)\n",
    "        print(f\"Usunięto folder: {folder_path}\")\n",
    "    else:\n",
    "        print(f\"Folder nie istnieje: {folder_path}\")\n"
   ]
  },
  {
   "cell_type": "code",
   "execution_count": null,
   "id": "fa9e8c6c",
   "metadata": {},
   "outputs": [],
   "source": [
    "#!dir \"./data/heart-disease\"\n",
    "\n",
    "from pathlib import Path\n",
    "\n",
    "folder = Path(\"./data/heart-disease\")\n",
    "for item in folder.iterdir():\n",
    "    if item.is_file():\n",
    "        print(f\"{item.name}: {item.stat().st_size:,} bajtów\")"
   ]
  },
  {
   "cell_type": "code",
   "execution_count": null,
   "id": "55062e4a",
   "metadata": {},
   "outputs": [],
   "source": [
    "import pandas as pd\n",
    "from sklearn.model_selection import train_test_split\n",
    "\n",
    "df = pd.read_csv(download_folder / \"heart_2020_cleaned.csv\")\n",
    "df['HeartDisease'] = (df['HeartDisease'] == \"Yes\").astype(int)\n",
    "\n",
    "df_train, df_test = train_test_split(df, test_size=0.2, random_state=42, stratify=df['HeartDisease'])\n"
   ]
  },
  {
   "cell_type": "code",
   "execution_count": null,
   "id": "3f501358",
   "metadata": {},
   "outputs": [],
   "source": [
    "df_test.info()"
   ]
  },
  {
   "cell_type": "code",
   "execution_count": null,
   "id": "22f7b74a",
   "metadata": {},
   "outputs": [],
   "source": [
    "df_train.info()"
   ]
  },
  {
   "cell_type": "code",
   "execution_count": null,
   "id": "717e7cfe",
   "metadata": {},
   "outputs": [],
   "source": [
    "y_train = df_train.pop(\"HeartDisease\")\n",
    "X_train = df_train"
   ]
  },
  {
   "cell_type": "code",
   "execution_count": null,
   "id": "5a5f52cb",
   "metadata": {},
   "outputs": [],
   "source": [
    "y_test = df_test.pop(\"HeartDisease\")\n",
    "X_test = df_test"
   ]
  },
  {
   "cell_type": "code",
   "execution_count": null,
   "id": "4225e49d",
   "metadata": {},
   "outputs": [],
   "source": [
    "X_train.info()"
   ]
  },
  {
   "cell_type": "code",
   "execution_count": null,
   "id": "4a4e3d21",
   "metadata": {},
   "outputs": [],
   "source": [
    "import joblib\n",
    "import optuna\n",
    "from sklearn.model_selection import train_test_split\n",
    "from catboost import CatBoostClassifier, Pool, cv\n",
    "\n",
    "outfolder = Path(\"results\")\n",
    "outfolder.mkdir(parents=True, exist_ok=True)\n",
    "\n",
    "best_params_path = outfolder / \"best_params.pkl\"\n",
    "\n",
    "# Określ kolumny kategoryczne\n",
    "categorical_features = [\n",
    "    \"Smoking\", \"AlcoholDrinking\", \"Stroke\", \"DiffWalking\", \n",
    "    \"Sex\", \"AgeCategory\", \"Race\", \"Diabetic\", \"PhysicalActivity\", \n",
    "    \"GenHealth\", \"Asthma\", \"KidneyDisease\", \"SkinCancer\"\n",
    "]\n",
    "categorical_indices = [X_train.columns.get_loc(col) for col in categorical_features if col in X_train.columns]\n",
    "\n",
    "if not best_params_path.is_file():\n",
    "    # DODAJ stratify=y_train\n",
    "    X_train_opt, X_val_opt, y_train_opt, y_val_opt = train_test_split(\n",
    "        X_train, y_train, test_size=0.25, random_state=42, stratify=y_train\n",
    "    )\n",
    "    \n",
    "    def objective(trial):\n",
    "        params = {\n",
    "            \"depth\": trial.suggest_int(\"depth\", 2, 10),\n",
    "            \"learning_rate\": trial.suggest_float(\"learning_rate\", 1e-4, 0.3),\n",
    "            \"iterations\": trial.suggest_int(\"iterations\", 100, 300),\n",
    "            \"l2_leaf_reg\": trial.suggest_float(\"l2_leaf_reg\", 1e-5, 100.0, log=True),\n",
    "            \"bagging_temperature\": trial.suggest_float(\"bagging_temperature\", 0.01, 1),\n",
    "            \"random_strength\": trial.suggest_float(\"random_strength\", 1e-5, 100.0, log=True),\n",
    "            \"auto_class_weights\": \"Balanced\"  # ⭐ DODAJ TO\n",
    "        }\n",
    "        model = CatBoostClassifier(\n",
    "            **params, \n",
    "            verbose=0, \n",
    "            cat_features=categorical_indices,\n",
    "            random_seed=42\n",
    "        )\n",
    "        model.fit(\n",
    "            X_train_opt, \n",
    "            y_train_opt, \n",
    "            eval_set=(X_val_opt, y_val_opt), \n",
    "            early_stopping_rounds=50\n",
    "        )\n",
    "        return model.get_best_score()[\"validation\"][\"Logloss\"]\n",
    "    \n",
    "    study = optuna.create_study(direction=\"minimize\")\n",
    "    study.optimize(objective, n_trials=50)\n",
    "    \n",
    "    joblib.dump(study.best_params, best_params_path)\n",
    "    params = study.best_params\n",
    "else:\n",
    "    params = joblib.load(best_params_path)\n",
    "\n",
    "print(\"Best Parameters:\", params)"
   ]
  },
  {
   "cell_type": "code",
   "execution_count": null,
   "id": "990ffac7",
   "metadata": {},
   "outputs": [],
   "source": [
    "params[\"eval_metric\"] = \"F1\"\n",
    "params[\"loss_function\"] = \"Logloss\"\n",
    "params[\"auto_class_weights\"] = \"Balanced\"  \n",
    "\n",
    "model = CatBoostClassifier(\n",
    "    **params,\n",
    "    verbose=True,\n",
    "    cat_features=categorical_indices,\n",
    "    random_seed=42\n",
    ")\n",
    "\n",
    "data = Pool(X_train, y_train, cat_features=categorical_indices)\n",
    "\n",
    "cv_results = cv(\n",
    "    params=params,\n",
    "    pool=data,\n",
    "    fold_count=5,\n",
    "    partition_random_seed=42,\n",
    "    shuffle=True,\n",
    "    stratified=True  \n",
    ")\n",
    "\n",
    "cv_results.to_csv(outfolder / \"cv_results.csv\", index=False)"
   ]
  },
  {
   "cell_type": "code",
   "execution_count": null,
   "id": "8ef273c3",
   "metadata": {},
   "outputs": [],
   "source": [
    "import plotly.graph_objects as go\n",
    "import numpy as np\n",
    "\n",
    "# Create figure\n",
    "fig = go.Figure()\n",
    "\n",
    "# Konwertuj do numpy arrays\n",
    "iterations = cv_results[\"iterations\"].values\n",
    "mean_f1 = cv_results[\"test-F1-mean\"].values\n",
    "std_f1 = cv_results[\"test-F1-std\"].values\n",
    "\n",
    "# Add shaded error region NAJPIERW (żeby była pod linią)\n",
    "fig.add_trace(\n",
    "    go.Scatter(\n",
    "        x=np.concatenate([iterations, iterations[::-1]]),\n",
    "        y=np.concatenate([mean_f1 + std_f1, (mean_f1 - std_f1)[::-1]]),\n",
    "        fill=\"toself\",\n",
    "        fillcolor=\"rgba(0, 0, 255, 0.2)\",\n",
    "        line=dict(width=0),\n",
    "        showlegend=False,\n",
    "        hoverinfo='skip',\n",
    "        name='±1 std'\n",
    "    )\n",
    ")\n",
    "\n",
    "# Add mean performance line\n",
    "fig.add_trace(\n",
    "    go.Scatter(\n",
    "        x=iterations,\n",
    "        y=mean_f1,\n",
    "        mode=\"lines\",\n",
    "        name=\"Mean F1 Score\",\n",
    "        line=dict(color=\"blue\", width=2)\n",
    "    )\n",
    ")\n",
    "\n",
    "# Customize layout\n",
    "fig.update_layout(\n",
    "    title=\"Cross-Validation (N=5) Mean F1 score with Error Bands\",\n",
    "    xaxis_title=\"Training Steps\",\n",
    "    yaxis_title=\"Performance Score\",\n",
    "    template=\"plotly_white\",\n",
    "    yaxis=dict(range=[0.5, 1]),\n",
    "    hovermode='x unified'\n",
    ")\n",
    "\n",
    "fig.show()\n",
    "\n",
    "try:\n",
    "    fig.write_image(outfolder / \"test_f1.png\")\n",
    "    print(\"Wykres zapisany przez plotly\")\n",
    "except Exception as e:\n",
    "    print(f\"Błąd plotly: {e}\")\n",
    "    print(\"Używam matplotlib...\")\n",
    "    \n",
    "    # Fallback do matplotlib\n",
    "    import matplotlib.pyplot as plt\n",
    "    \n",
    "    plt.figure(figsize=(10, 6))\n",
    "    plt.fill_between(iterations, mean_f1 - std_f1, mean_f1 + std_f1, \n",
    "                     alpha=0.2, color='blue', label='±1 std')\n",
    "    plt.plot(iterations, mean_f1, 'b-', linewidth=2, label='Mean F1 Score')\n",
    "    \n",
    "    plt.title(\"Cross-Validation (N=5) Mean F1 score with Error Bands\")\n",
    "    plt.xlabel(\"Training Steps\")\n",
    "    plt.ylabel(\"Performance Score\")\n",
    "    plt.ylim(0.5, 1)\n",
    "    plt.legend()\n",
    "    plt.grid(True, alpha=0.3)\n",
    "    \n",
    "    plt.savefig(outfolder / \"test_f1.png\", dpi=300, bbox_inches='tight')\n",
    "    plt.show()\n",
    "    print(\"Wykres zapisany przez matplotlib\")"
   ]
  },
  {
   "cell_type": "code",
   "execution_count": null,
   "id": "f9638e88",
   "metadata": {},
   "outputs": [],
   "source": [
    "import plotly.graph_objects as go\n",
    "\n",
    "# Create figure\n",
    "fig = go.Figure()\n",
    "\n",
    "# Add mean performance line\n",
    "fig.add_trace(\n",
    "    go.Scatter(\n",
    "        x=cv_results[\"iterations\"], y=cv_results[\"test-Logloss-mean\"], mode=\"lines\", name=\"Mean logloss\", line=dict(color=\"blue\")\n",
    "    )\n",
    ")\n",
    "\n",
    "# Add shaded error region\n",
    "fig.add_trace(\n",
    "    go.Scatter(\n",
    "        x=pd.concat([cv_results[\"iterations\"], cv_results[\"iterations\"][::-1]]),\n",
    "        y=pd.concat([cv_results[\"test-Logloss-mean\"]+cv_results[\"test-Logloss-std\"], \n",
    "                     cv_results[\"test-Logloss-mean\"]-cv_results[\"test-Logloss-std\"]]),\n",
    "        fill=\"toself\", \n",
    "        fillcolor=\"rgba(0, 0, 255, 0.2)\",\n",
    "        line=dict(color=\"rgba(255, 255, 255, 0)\"),\n",
    "        showlegend=False\n",
    "    )\n",
    ")\n",
    "\n",
    "# Customize layout\n",
    "fig.update_layout(\n",
    "    title=\"Cross-Validation (N=5) Mean Logloss with Error Bands\",\n",
    "    xaxis_title=\"Training Steps\",\n",
    "    yaxis_title=\"Logloss\",\n",
    "    template=\"plotly_white\"\n",
    ")\n",
    "\n",
    "fig.show()\n",
    "\n",
    "fig.write_image(outfolder / \"test_logloss.png\")"
   ]
  },
  {
   "cell_type": "code",
   "execution_count": null,
   "id": "55c3f566",
   "metadata": {},
   "outputs": [],
   "source": [
    "model.fit(\n",
    "    X_train,\n",
    "    y_train,\n",
    "    verbose_eval=50,\n",
    "    early_stopping_rounds=50,\n",
    "    use_best_model=False,\n",
    "    plot=True\n",
    ")\n",
    "\n",
    "model.save_model(outfolder / 'catboost_model_HeartDisease.cbm')\n",
    "joblib.dump(params, outfolder / 'model_params.pkl')"
   ]
  },
  {
   "cell_type": "code",
   "execution_count": null,
   "id": "8ee2596a",
   "metadata": {},
   "outputs": [],
   "source": [
    "model.predict(df_test)"
   ]
  },
  {
   "cell_type": "code",
   "execution_count": null,
   "id": "92259ea1",
   "metadata": {},
   "outputs": [],
   "source": [
    "preds = model.predict(df_test[X_train.columns])"
   ]
  },
  {
   "cell_type": "code",
   "execution_count": null,
   "id": "1ca84026",
   "metadata": {},
   "outputs": [],
   "source": [
    "import shap\n",
    "import matplotlib.pyplot as plt\n",
    "explainer = shap.TreeExplainer(model)\n",
    "shap_values = explainer.shap_values(df_test)\n",
    "\n",
    "shap.summary_plot(shap_values, df_test, show=False)\n",
    "plt.savefig(outfolder / \"test_shap_overall.png\")"
   ]
  },
  {
   "cell_type": "code",
   "execution_count": null,
   "id": "70d92d95",
   "metadata": {},
   "outputs": [],
   "source": [
    "df_test[\"target\"] = preds\n",
    "df_test.to_csv(outfolder / \"predictions.csv\", index=False)"
   ]
  }
 ],
 "metadata": {
  "kernelspec": {
   "display_name": "Python 3",
   "language": "python",
   "name": "python3"
  },
  "language_info": {
   "codemirror_mode": {
    "name": "ipython",
    "version": 3
   },
   "file_extension": ".py",
   "mimetype": "text/x-python",
   "name": "python",
   "nbconvert_exporter": "python",
   "pygments_lexer": "ipython3",
   "version": "3.11.13"
  }
 },
 "nbformat": 4,
 "nbformat_minor": 5
}
